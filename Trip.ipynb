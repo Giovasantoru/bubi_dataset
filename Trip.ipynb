{
 "cells": [
  {
   "cell_type": "markdown",
   "id": "1a2234df",
   "metadata": {},
   "source": [
    "Univariate Analysis of the Trip Data"
   ]
  },
  {
   "cell_type": "code",
   "execution_count": 1,
   "id": "852e8983",
   "metadata": {},
   "outputs": [],
   "source": [
    "import pandas as pd\n",
    "import numpy as np  \n",
    "import matplotlib.pyplot as plt\n",
    "import seaborn as sns"
   ]
  },
  {
   "cell_type": "markdown",
   "id": "70a4d3ae",
   "metadata": {},
   "source": [
    "Relative Path: When you provide just the filename ('train.csv'), Python looks for the file in the current working directory. This is called using a relative path."
   ]
  },
  {
   "cell_type": "code",
   "execution_count": 2,
   "id": "ed3708b7",
   "metadata": {},
   "outputs": [],
   "source": [
    "df = pd.read_csv('train.csv')"
   ]
  },
  {
   "cell_type": "code",
   "execution_count": 3,
   "id": "03a54bbe",
   "metadata": {},
   "outputs": [
    {
     "data": {
      "application/vnd.microsoft.datawrangler.viewer.v0+json": {
       "columns": [
        {
         "name": "index",
         "rawType": "int64",
         "type": "integer"
        },
        {
         "name": "bicycle_id",
         "rawType": "int64",
         "type": "integer"
        },
        {
         "name": "start_time",
         "rawType": "object",
         "type": "string"
        },
        {
         "name": "end_time",
         "rawType": "object",
         "type": "string"
        },
        {
         "name": "start_location",
         "rawType": "int64",
         "type": "integer"
        },
        {
         "name": "end_location",
         "rawType": "int64",
         "type": "integer"
        }
       ],
       "conversionMethod": "pd.DataFrame",
       "ref": "d050d684-d1f3-49ac-b183-e7e2f6247928",
       "rows": [
        [
         "0",
         "86602",
         "2015-01-01 00:04:00",
         "2015-01-01 00:10:00",
         "802",
         "508"
        ],
        [
         "1",
         "86157",
         "2015-01-01 00:04:00",
         "2015-01-01 00:16:00",
         "802",
         "508"
        ],
        [
         "2",
         "86091",
         "2015-01-01 00:08:00",
         "2015-01-01 00:32:00",
         "513",
         "1106"
        ],
        [
         "3",
         "86908",
         "2015-01-01 00:09:00",
         "2015-01-01 00:29:00",
         "513",
         "604"
        ],
        [
         "4",
         "86758",
         "2015-01-01 00:10:00",
         "2015-01-01 00:11:00",
         "508",
         "508"
        ],
        [
         "5",
         "86075",
         "2015-01-01 00:15:00",
         "2015-01-01 00:21:00",
         "516",
         "901"
        ],
        [
         "6",
         "86814",
         "2015-01-01 00:19:00",
         "2015-01-01 00:30:00",
         "902",
         "902"
        ],
        [
         "7",
         "86176",
         "2015-01-01 00:19:00",
         "2015-01-01 00:30:00",
         "902",
         "902"
        ],
        [
         "8",
         "86548",
         "2015-01-01 00:22:00",
         "2015-01-01 00:31:00",
         "611",
         "705"
        ],
        [
         "9",
         "86027",
         "2015-01-01 00:22:00",
         "2015-01-01 00:31:00",
         "611",
         "705"
        ]
       ],
       "shape": {
        "columns": 5,
        "rows": 10
       }
      },
      "text/html": [
       "<div>\n",
       "<style scoped>\n",
       "    .dataframe tbody tr th:only-of-type {\n",
       "        vertical-align: middle;\n",
       "    }\n",
       "\n",
       "    .dataframe tbody tr th {\n",
       "        vertical-align: top;\n",
       "    }\n",
       "\n",
       "    .dataframe thead th {\n",
       "        text-align: right;\n",
       "    }\n",
       "</style>\n",
       "<table border=\"1\" class=\"dataframe\">\n",
       "  <thead>\n",
       "    <tr style=\"text-align: right;\">\n",
       "      <th></th>\n",
       "      <th>bicycle_id</th>\n",
       "      <th>start_time</th>\n",
       "      <th>end_time</th>\n",
       "      <th>start_location</th>\n",
       "      <th>end_location</th>\n",
       "    </tr>\n",
       "  </thead>\n",
       "  <tbody>\n",
       "    <tr>\n",
       "      <th>0</th>\n",
       "      <td>86602</td>\n",
       "      <td>2015-01-01 00:04:00</td>\n",
       "      <td>2015-01-01 00:10:00</td>\n",
       "      <td>802</td>\n",
       "      <td>508</td>\n",
       "    </tr>\n",
       "    <tr>\n",
       "      <th>1</th>\n",
       "      <td>86157</td>\n",
       "      <td>2015-01-01 00:04:00</td>\n",
       "      <td>2015-01-01 00:16:00</td>\n",
       "      <td>802</td>\n",
       "      <td>508</td>\n",
       "    </tr>\n",
       "    <tr>\n",
       "      <th>2</th>\n",
       "      <td>86091</td>\n",
       "      <td>2015-01-01 00:08:00</td>\n",
       "      <td>2015-01-01 00:32:00</td>\n",
       "      <td>513</td>\n",
       "      <td>1106</td>\n",
       "    </tr>\n",
       "    <tr>\n",
       "      <th>3</th>\n",
       "      <td>86908</td>\n",
       "      <td>2015-01-01 00:09:00</td>\n",
       "      <td>2015-01-01 00:29:00</td>\n",
       "      <td>513</td>\n",
       "      <td>604</td>\n",
       "    </tr>\n",
       "    <tr>\n",
       "      <th>4</th>\n",
       "      <td>86758</td>\n",
       "      <td>2015-01-01 00:10:00</td>\n",
       "      <td>2015-01-01 00:11:00</td>\n",
       "      <td>508</td>\n",
       "      <td>508</td>\n",
       "    </tr>\n",
       "    <tr>\n",
       "      <th>5</th>\n",
       "      <td>86075</td>\n",
       "      <td>2015-01-01 00:15:00</td>\n",
       "      <td>2015-01-01 00:21:00</td>\n",
       "      <td>516</td>\n",
       "      <td>901</td>\n",
       "    </tr>\n",
       "    <tr>\n",
       "      <th>6</th>\n",
       "      <td>86814</td>\n",
       "      <td>2015-01-01 00:19:00</td>\n",
       "      <td>2015-01-01 00:30:00</td>\n",
       "      <td>902</td>\n",
       "      <td>902</td>\n",
       "    </tr>\n",
       "    <tr>\n",
       "      <th>7</th>\n",
       "      <td>86176</td>\n",
       "      <td>2015-01-01 00:19:00</td>\n",
       "      <td>2015-01-01 00:30:00</td>\n",
       "      <td>902</td>\n",
       "      <td>902</td>\n",
       "    </tr>\n",
       "    <tr>\n",
       "      <th>8</th>\n",
       "      <td>86548</td>\n",
       "      <td>2015-01-01 00:22:00</td>\n",
       "      <td>2015-01-01 00:31:00</td>\n",
       "      <td>611</td>\n",
       "      <td>705</td>\n",
       "    </tr>\n",
       "    <tr>\n",
       "      <th>9</th>\n",
       "      <td>86027</td>\n",
       "      <td>2015-01-01 00:22:00</td>\n",
       "      <td>2015-01-01 00:31:00</td>\n",
       "      <td>611</td>\n",
       "      <td>705</td>\n",
       "    </tr>\n",
       "  </tbody>\n",
       "</table>\n",
       "</div>"
      ],
      "text/plain": [
       "   bicycle_id           start_time             end_time  start_location  \\\n",
       "0       86602  2015-01-01 00:04:00  2015-01-01 00:10:00             802   \n",
       "1       86157  2015-01-01 00:04:00  2015-01-01 00:16:00             802   \n",
       "2       86091  2015-01-01 00:08:00  2015-01-01 00:32:00             513   \n",
       "3       86908  2015-01-01 00:09:00  2015-01-01 00:29:00             513   \n",
       "4       86758  2015-01-01 00:10:00  2015-01-01 00:11:00             508   \n",
       "5       86075  2015-01-01 00:15:00  2015-01-01 00:21:00             516   \n",
       "6       86814  2015-01-01 00:19:00  2015-01-01 00:30:00             902   \n",
       "7       86176  2015-01-01 00:19:00  2015-01-01 00:30:00             902   \n",
       "8       86548  2015-01-01 00:22:00  2015-01-01 00:31:00             611   \n",
       "9       86027  2015-01-01 00:22:00  2015-01-01 00:31:00             611   \n",
       "\n",
       "   end_location  \n",
       "0           508  \n",
       "1           508  \n",
       "2          1106  \n",
       "3           604  \n",
       "4           508  \n",
       "5           901  \n",
       "6           902  \n",
       "7           902  \n",
       "8           705  \n",
       "9           705  "
      ]
     },
     "execution_count": 3,
     "metadata": {},
     "output_type": "execute_result"
    }
   ],
   "source": [
    "df.head(10)"
   ]
  },
  {
   "cell_type": "code",
   "execution_count": 4,
   "id": "96e97e10",
   "metadata": {},
   "outputs": [
    {
     "data": {
      "application/vnd.microsoft.datawrangler.viewer.v0+json": {
       "columns": [
        {
         "name": "index",
         "rawType": "int64",
         "type": "integer"
        },
        {
         "name": "bicycle_id",
         "rawType": "int64",
         "type": "integer"
        },
        {
         "name": "start_time",
         "rawType": "object",
         "type": "string"
        },
        {
         "name": "end_time",
         "rawType": "object",
         "type": "string"
        },
        {
         "name": "start_location",
         "rawType": "int64",
         "type": "integer"
        },
        {
         "name": "end_location",
         "rawType": "int64",
         "type": "integer"
        }
       ],
       "conversionMethod": "pd.DataFrame",
       "ref": "a5a8c878-01d7-41ca-b311-26491f4ca45f",
       "rows": [
        [
         "135474",
         "86852",
         "2015-05-31 23:42:00",
         "2015-05-31 23:43:00",
         "204",
         "204"
        ],
        [
         "135475",
         "86335",
         "2015-05-31 23:44:00",
         "2015-05-31 23:52:00",
         "1101",
         "905"
        ],
        [
         "135476",
         "86450",
         "2015-05-31 23:44:00",
         "2015-05-31 23:52:00",
         "1101",
         "905"
        ],
        [
         "135477",
         "86069",
         "2015-05-31 23:44:00",
         "2015-06-01 00:00:00",
         "507",
         "203"
        ],
        [
         "135478",
         "86285",
         "2015-05-31 23:45:00",
         "2015-05-31 23:59:00",
         "804",
         "601"
        ],
        [
         "135479",
         "86568",
         "2015-05-31 23:45:00",
         "2015-06-01 00:00:00",
         "507",
         "203"
        ],
        [
         "135480",
         "86166",
         "2015-05-31 23:46:00",
         "2015-06-01 00:01:00",
         "804",
         "601"
        ],
        [
         "135481",
         "86201",
         "2015-05-31 23:46:00",
         "2015-06-01 00:01:00",
         "804",
         "601"
        ],
        [
         "135482",
         "86909",
         "2015-05-31 23:52:00",
         "2015-06-01 00:03:00",
         "505",
         "902"
        ],
        [
         "135483",
         "86544",
         "2015-05-31 23:54:00",
         "2015-06-01 00:04:00",
         "1302",
         "602"
        ]
       ],
       "shape": {
        "columns": 5,
        "rows": 10
       }
      },
      "text/html": [
       "<div>\n",
       "<style scoped>\n",
       "    .dataframe tbody tr th:only-of-type {\n",
       "        vertical-align: middle;\n",
       "    }\n",
       "\n",
       "    .dataframe tbody tr th {\n",
       "        vertical-align: top;\n",
       "    }\n",
       "\n",
       "    .dataframe thead th {\n",
       "        text-align: right;\n",
       "    }\n",
       "</style>\n",
       "<table border=\"1\" class=\"dataframe\">\n",
       "  <thead>\n",
       "    <tr style=\"text-align: right;\">\n",
       "      <th></th>\n",
       "      <th>bicycle_id</th>\n",
       "      <th>start_time</th>\n",
       "      <th>end_time</th>\n",
       "      <th>start_location</th>\n",
       "      <th>end_location</th>\n",
       "    </tr>\n",
       "  </thead>\n",
       "  <tbody>\n",
       "    <tr>\n",
       "      <th>135474</th>\n",
       "      <td>86852</td>\n",
       "      <td>2015-05-31 23:42:00</td>\n",
       "      <td>2015-05-31 23:43:00</td>\n",
       "      <td>204</td>\n",
       "      <td>204</td>\n",
       "    </tr>\n",
       "    <tr>\n",
       "      <th>135475</th>\n",
       "      <td>86335</td>\n",
       "      <td>2015-05-31 23:44:00</td>\n",
       "      <td>2015-05-31 23:52:00</td>\n",
       "      <td>1101</td>\n",
       "      <td>905</td>\n",
       "    </tr>\n",
       "    <tr>\n",
       "      <th>135476</th>\n",
       "      <td>86450</td>\n",
       "      <td>2015-05-31 23:44:00</td>\n",
       "      <td>2015-05-31 23:52:00</td>\n",
       "      <td>1101</td>\n",
       "      <td>905</td>\n",
       "    </tr>\n",
       "    <tr>\n",
       "      <th>135477</th>\n",
       "      <td>86069</td>\n",
       "      <td>2015-05-31 23:44:00</td>\n",
       "      <td>2015-06-01 00:00:00</td>\n",
       "      <td>507</td>\n",
       "      <td>203</td>\n",
       "    </tr>\n",
       "    <tr>\n",
       "      <th>135478</th>\n",
       "      <td>86285</td>\n",
       "      <td>2015-05-31 23:45:00</td>\n",
       "      <td>2015-05-31 23:59:00</td>\n",
       "      <td>804</td>\n",
       "      <td>601</td>\n",
       "    </tr>\n",
       "    <tr>\n",
       "      <th>135479</th>\n",
       "      <td>86568</td>\n",
       "      <td>2015-05-31 23:45:00</td>\n",
       "      <td>2015-06-01 00:00:00</td>\n",
       "      <td>507</td>\n",
       "      <td>203</td>\n",
       "    </tr>\n",
       "    <tr>\n",
       "      <th>135480</th>\n",
       "      <td>86166</td>\n",
       "      <td>2015-05-31 23:46:00</td>\n",
       "      <td>2015-06-01 00:01:00</td>\n",
       "      <td>804</td>\n",
       "      <td>601</td>\n",
       "    </tr>\n",
       "    <tr>\n",
       "      <th>135481</th>\n",
       "      <td>86201</td>\n",
       "      <td>2015-05-31 23:46:00</td>\n",
       "      <td>2015-06-01 00:01:00</td>\n",
       "      <td>804</td>\n",
       "      <td>601</td>\n",
       "    </tr>\n",
       "    <tr>\n",
       "      <th>135482</th>\n",
       "      <td>86909</td>\n",
       "      <td>2015-05-31 23:52:00</td>\n",
       "      <td>2015-06-01 00:03:00</td>\n",
       "      <td>505</td>\n",
       "      <td>902</td>\n",
       "    </tr>\n",
       "    <tr>\n",
       "      <th>135483</th>\n",
       "      <td>86544</td>\n",
       "      <td>2015-05-31 23:54:00</td>\n",
       "      <td>2015-06-01 00:04:00</td>\n",
       "      <td>1302</td>\n",
       "      <td>602</td>\n",
       "    </tr>\n",
       "  </tbody>\n",
       "</table>\n",
       "</div>"
      ],
      "text/plain": [
       "        bicycle_id           start_time             end_time  start_location  \\\n",
       "135474       86852  2015-05-31 23:42:00  2015-05-31 23:43:00             204   \n",
       "135475       86335  2015-05-31 23:44:00  2015-05-31 23:52:00            1101   \n",
       "135476       86450  2015-05-31 23:44:00  2015-05-31 23:52:00            1101   \n",
       "135477       86069  2015-05-31 23:44:00  2015-06-01 00:00:00             507   \n",
       "135478       86285  2015-05-31 23:45:00  2015-05-31 23:59:00             804   \n",
       "135479       86568  2015-05-31 23:45:00  2015-06-01 00:00:00             507   \n",
       "135480       86166  2015-05-31 23:46:00  2015-06-01 00:01:00             804   \n",
       "135481       86201  2015-05-31 23:46:00  2015-06-01 00:01:00             804   \n",
       "135482       86909  2015-05-31 23:52:00  2015-06-01 00:03:00             505   \n",
       "135483       86544  2015-05-31 23:54:00  2015-06-01 00:04:00            1302   \n",
       "\n",
       "        end_location  \n",
       "135474           204  \n",
       "135475           905  \n",
       "135476           905  \n",
       "135477           203  \n",
       "135478           601  \n",
       "135479           203  \n",
       "135480           601  \n",
       "135481           601  \n",
       "135482           902  \n",
       "135483           602  "
      ]
     },
     "execution_count": 4,
     "metadata": {},
     "output_type": "execute_result"
    }
   ],
   "source": [
    "df.tail(10)"
   ]
  },
  {
   "cell_type": "code",
   "execution_count": 5,
   "id": "69e365e4",
   "metadata": {},
   "outputs": [
    {
     "name": "stdout",
     "output_type": "stream",
     "text": [
      "135484 rows\n",
      "5 columns\n"
     ]
    }
   ],
   "source": [
    "print(df.shape[0], \"rows\") \n",
    "print(df.shape[1], \"columns\") "
   ]
  },
  {
   "cell_type": "markdown",
   "id": "ba59faae",
   "metadata": {},
   "source": [
    "135484 rows, 5 columns"
   ]
  },
  {
   "cell_type": "code",
   "execution_count": 6,
   "id": "6709e841",
   "metadata": {},
   "outputs": [
    {
     "name": "stdout",
     "output_type": "stream",
     "text": [
      "<class 'pandas.core.frame.DataFrame'>\n",
      "RangeIndex: 135484 entries, 0 to 135483\n",
      "Data columns (total 5 columns):\n",
      " #   Column          Non-Null Count   Dtype \n",
      "---  ------          --------------   ----- \n",
      " 0   bicycle_id      135484 non-null  int64 \n",
      " 1   start_time      135484 non-null  object\n",
      " 2   end_time        135484 non-null  object\n",
      " 3   start_location  135484 non-null  int64 \n",
      " 4   end_location    135484 non-null  int64 \n",
      "dtypes: int64(3), object(2)\n",
      "memory usage: 5.2+ MB\n"
     ]
    }
   ],
   "source": [
    "df.info()"
   ]
  },
  {
   "cell_type": "markdown",
   "id": "cfd227f2",
   "metadata": {},
   "source": [
    "No null values"
   ]
  },
  {
   "cell_type": "code",
   "execution_count": 7,
   "id": "9196722a",
   "metadata": {},
   "outputs": [
    {
     "data": {
      "text/plain": [
       "bicycle_id        0\n",
       "start_time        0\n",
       "end_time          0\n",
       "start_location    0\n",
       "end_location      0\n",
       "dtype: int64"
      ]
     },
     "execution_count": 7,
     "metadata": {},
     "output_type": "execute_result"
    }
   ],
   "source": [
    "df.isnull().sum() "
   ]
  },
  {
   "cell_type": "code",
   "execution_count": 8,
   "id": "9a81d911",
   "metadata": {},
   "outputs": [
    {
     "data": {
      "text/plain": [
       "0"
      ]
     },
     "execution_count": 8,
     "metadata": {},
     "output_type": "execute_result"
    }
   ],
   "source": [
    "df.duplicated().sum()"
   ]
  },
  {
   "cell_type": "code",
   "execution_count": 9,
   "id": "c5f9d258",
   "metadata": {},
   "outputs": [],
   "source": [
    "# Convert start_time and end_time to datetime\n",
    "df['start_time'] = pd.to_datetime(df['start_time'])\n",
    "df['end_time'] = pd.to_datetime(df['end_time'])"
   ]
  },
  {
   "cell_type": "code",
   "execution_count": 10,
   "id": "c8f9beb0",
   "metadata": {},
   "outputs": [
    {
     "data": {
      "text/plain": [
       "0   0 days 00:06:00\n",
       "1   0 days 00:12:00\n",
       "2   0 days 00:24:00\n",
       "3   0 days 00:20:00\n",
       "4   0 days 00:01:00\n",
       "5   0 days 00:06:00\n",
       "6   0 days 00:11:00\n",
       "7   0 days 00:11:00\n",
       "8   0 days 00:09:00\n",
       "9   0 days 00:09:00\n",
       "Name: duration, dtype: timedelta64[ns]"
      ]
     },
     "execution_count": 10,
     "metadata": {},
     "output_type": "execute_result"
    }
   ],
   "source": [
    "# Calculating the duration of each trip\n",
    "df['duration'] = df['end_time'] - df['start_time']\n",
    "df['duration'].head(10)"
   ]
  },
  {
   "cell_type": "code",
   "execution_count": 11,
   "id": "76a1ea73",
   "metadata": {},
   "outputs": [
    {
     "data": {
      "application/vnd.microsoft.datawrangler.viewer.v0+json": {
       "columns": [
        {
         "name": "index",
         "rawType": "int64",
         "type": "integer"
        },
        {
         "name": "bicycle_id",
         "rawType": "int64",
         "type": "integer"
        },
        {
         "name": "start_time",
         "rawType": "datetime64[ns]",
         "type": "datetime"
        },
        {
         "name": "end_time",
         "rawType": "datetime64[ns]",
         "type": "datetime"
        },
        {
         "name": "start_location",
         "rawType": "int64",
         "type": "integer"
        },
        {
         "name": "end_location",
         "rawType": "int64",
         "type": "integer"
        },
        {
         "name": "duration",
         "rawType": "timedelta64[ns]",
         "type": "unknown"
        }
       ],
       "conversionMethod": "pd.DataFrame",
       "ref": "f3d2ca95-32eb-46e3-a1ce-c1e5f90bd1cb",
       "rows": [],
       "shape": {
        "columns": 6,
        "rows": 0
       }
      },
      "text/html": [
       "<div>\n",
       "<style scoped>\n",
       "    .dataframe tbody tr th:only-of-type {\n",
       "        vertical-align: middle;\n",
       "    }\n",
       "\n",
       "    .dataframe tbody tr th {\n",
       "        vertical-align: top;\n",
       "    }\n",
       "\n",
       "    .dataframe thead th {\n",
       "        text-align: right;\n",
       "    }\n",
       "</style>\n",
       "<table border=\"1\" class=\"dataframe\">\n",
       "  <thead>\n",
       "    <tr style=\"text-align: right;\">\n",
       "      <th></th>\n",
       "      <th>bicycle_id</th>\n",
       "      <th>start_time</th>\n",
       "      <th>end_time</th>\n",
       "      <th>start_location</th>\n",
       "      <th>end_location</th>\n",
       "      <th>duration</th>\n",
       "    </tr>\n",
       "  </thead>\n",
       "  <tbody>\n",
       "  </tbody>\n",
       "</table>\n",
       "</div>"
      ],
      "text/plain": [
       "Empty DataFrame\n",
       "Columns: [bicycle_id, start_time, end_time, start_location, end_location, duration]\n",
       "Index: []"
      ]
     },
     "execution_count": 11,
     "metadata": {},
     "output_type": "execute_result"
    }
   ],
   "source": [
    "df[df['duration'].dt.total_seconds() < 0] # Check for negative durations"
   ]
  },
  {
   "cell_type": "code",
   "execution_count": 12,
   "id": "1eda159b",
   "metadata": {},
   "outputs": [
    {
     "data": {
      "application/vnd.microsoft.datawrangler.viewer.v0+json": {
       "columns": [
        {
         "name": "index",
         "rawType": "object",
         "type": "string"
        },
        {
         "name": "bicycle_id",
         "rawType": "float64",
         "type": "float"
        },
        {
         "name": "start_time",
         "rawType": "object",
         "type": "unknown"
        },
        {
         "name": "end_time",
         "rawType": "object",
         "type": "unknown"
        },
        {
         "name": "start_location",
         "rawType": "float64",
         "type": "float"
        },
        {
         "name": "end_location",
         "rawType": "float64",
         "type": "float"
        },
        {
         "name": "duration",
         "rawType": "object",
         "type": "unknown"
        }
       ],
       "conversionMethod": "pd.DataFrame",
       "ref": "1723b113-695b-44d4-92a8-ace4e860bd8f",
       "rows": [
        [
         "count",
         "135484.0",
         "135484",
         "135484",
         "135484.0",
         "135484.0",
         "135484"
        ],
        [
         "mean",
         "86552.15593723244",
         "2015-03-31 10:58:18.737267968",
         "2015-03-31 11:14:26.586903296",
         "702.832991349532",
         "704.8465501461427",
         "0 days 00:16:07.849635381"
        ],
        [
         "min",
         "86001.0",
         "2015-01-01 00:04:00",
         "2015-01-01 00:10:00",
         "102.0",
         "102.0",
         "0 days 00:01:00"
        ],
        [
         "25%",
         "86273.0",
         "2015-03-03 17:43:00",
         "2015-03-03 18:00:45",
         "512.0",
         "511.0",
         "0 days 00:06:00"
        ],
        [
         "50%",
         "86553.0",
         "2015-04-05 06:22:00",
         "2015-04-05 06:30:30",
         "610.0",
         "611.0",
         "0 days 00:11:00"
        ],
        [
         "75%",
         "86829.0",
         "2015-05-05 10:23:00",
         "2015-05-05 10:39:15",
         "902.0",
         "902.0",
         "0 days 00:17:00"
        ],
        [
         "max",
         "87149.0",
         "2015-05-31 23:54:00",
         "2015-06-01 06:44:00",
         "1401.0",
         "1401.0",
         "2 days 23:18:00"
        ],
        [
         "std",
         "320.61956301984395",
         null,
         null,
         "309.4398756105026",
         "310.57667012523825",
         "0 days 00:41:14.689011688"
        ]
       ],
       "shape": {
        "columns": 6,
        "rows": 8
       }
      },
      "text/html": [
       "<div>\n",
       "<style scoped>\n",
       "    .dataframe tbody tr th:only-of-type {\n",
       "        vertical-align: middle;\n",
       "    }\n",
       "\n",
       "    .dataframe tbody tr th {\n",
       "        vertical-align: top;\n",
       "    }\n",
       "\n",
       "    .dataframe thead th {\n",
       "        text-align: right;\n",
       "    }\n",
       "</style>\n",
       "<table border=\"1\" class=\"dataframe\">\n",
       "  <thead>\n",
       "    <tr style=\"text-align: right;\">\n",
       "      <th></th>\n",
       "      <th>bicycle_id</th>\n",
       "      <th>start_time</th>\n",
       "      <th>end_time</th>\n",
       "      <th>start_location</th>\n",
       "      <th>end_location</th>\n",
       "      <th>duration</th>\n",
       "    </tr>\n",
       "  </thead>\n",
       "  <tbody>\n",
       "    <tr>\n",
       "      <th>count</th>\n",
       "      <td>135484.000000</td>\n",
       "      <td>135484</td>\n",
       "      <td>135484</td>\n",
       "      <td>135484.000000</td>\n",
       "      <td>135484.00000</td>\n",
       "      <td>135484</td>\n",
       "    </tr>\n",
       "    <tr>\n",
       "      <th>mean</th>\n",
       "      <td>86552.155937</td>\n",
       "      <td>2015-03-31 10:58:18.737267968</td>\n",
       "      <td>2015-03-31 11:14:26.586903296</td>\n",
       "      <td>702.832991</td>\n",
       "      <td>704.84655</td>\n",
       "      <td>0 days 00:16:07.849635381</td>\n",
       "    </tr>\n",
       "    <tr>\n",
       "      <th>min</th>\n",
       "      <td>86001.000000</td>\n",
       "      <td>2015-01-01 00:04:00</td>\n",
       "      <td>2015-01-01 00:10:00</td>\n",
       "      <td>102.000000</td>\n",
       "      <td>102.00000</td>\n",
       "      <td>0 days 00:01:00</td>\n",
       "    </tr>\n",
       "    <tr>\n",
       "      <th>25%</th>\n",
       "      <td>86273.000000</td>\n",
       "      <td>2015-03-03 17:43:00</td>\n",
       "      <td>2015-03-03 18:00:45</td>\n",
       "      <td>512.000000</td>\n",
       "      <td>511.00000</td>\n",
       "      <td>0 days 00:06:00</td>\n",
       "    </tr>\n",
       "    <tr>\n",
       "      <th>50%</th>\n",
       "      <td>86553.000000</td>\n",
       "      <td>2015-04-05 06:22:00</td>\n",
       "      <td>2015-04-05 06:30:30</td>\n",
       "      <td>610.000000</td>\n",
       "      <td>611.00000</td>\n",
       "      <td>0 days 00:11:00</td>\n",
       "    </tr>\n",
       "    <tr>\n",
       "      <th>75%</th>\n",
       "      <td>86829.000000</td>\n",
       "      <td>2015-05-05 10:23:00</td>\n",
       "      <td>2015-05-05 10:39:15</td>\n",
       "      <td>902.000000</td>\n",
       "      <td>902.00000</td>\n",
       "      <td>0 days 00:17:00</td>\n",
       "    </tr>\n",
       "    <tr>\n",
       "      <th>max</th>\n",
       "      <td>87149.000000</td>\n",
       "      <td>2015-05-31 23:54:00</td>\n",
       "      <td>2015-06-01 06:44:00</td>\n",
       "      <td>1401.000000</td>\n",
       "      <td>1401.00000</td>\n",
       "      <td>2 days 23:18:00</td>\n",
       "    </tr>\n",
       "    <tr>\n",
       "      <th>std</th>\n",
       "      <td>320.619563</td>\n",
       "      <td>NaN</td>\n",
       "      <td>NaN</td>\n",
       "      <td>309.439876</td>\n",
       "      <td>310.57667</td>\n",
       "      <td>0 days 00:41:14.689011688</td>\n",
       "    </tr>\n",
       "  </tbody>\n",
       "</table>\n",
       "</div>"
      ],
      "text/plain": [
       "          bicycle_id                     start_time  \\\n",
       "count  135484.000000                         135484   \n",
       "mean    86552.155937  2015-03-31 10:58:18.737267968   \n",
       "min     86001.000000            2015-01-01 00:04:00   \n",
       "25%     86273.000000            2015-03-03 17:43:00   \n",
       "50%     86553.000000            2015-04-05 06:22:00   \n",
       "75%     86829.000000            2015-05-05 10:23:00   \n",
       "max     87149.000000            2015-05-31 23:54:00   \n",
       "std       320.619563                            NaN   \n",
       "\n",
       "                            end_time  start_location  end_location  \\\n",
       "count                         135484   135484.000000  135484.00000   \n",
       "mean   2015-03-31 11:14:26.586903296      702.832991     704.84655   \n",
       "min              2015-01-01 00:10:00      102.000000     102.00000   \n",
       "25%              2015-03-03 18:00:45      512.000000     511.00000   \n",
       "50%              2015-04-05 06:30:30      610.000000     611.00000   \n",
       "75%              2015-05-05 10:39:15      902.000000     902.00000   \n",
       "max              2015-06-01 06:44:00     1401.000000    1401.00000   \n",
       "std                              NaN      309.439876     310.57667   \n",
       "\n",
       "                        duration  \n",
       "count                     135484  \n",
       "mean   0 days 00:16:07.849635381  \n",
       "min              0 days 00:01:00  \n",
       "25%              0 days 00:06:00  \n",
       "50%              0 days 00:11:00  \n",
       "75%              0 days 00:17:00  \n",
       "max              2 days 23:18:00  \n",
       "std    0 days 00:41:14.689011688  "
      ]
     },
     "execution_count": 12,
     "metadata": {},
     "output_type": "execute_result"
    }
   ],
   "source": [
    "df.describe(include='all')"
   ]
  },
  {
   "cell_type": "markdown",
   "id": "daded21d",
   "metadata": {},
   "source": [
    "## DURATION ANALYSIS"
   ]
  },
  {
   "cell_type": "code",
   "execution_count": 13,
   "id": "749dfbae",
   "metadata": {},
   "outputs": [
    {
     "data": {
      "text/plain": [
       "count                       135484\n",
       "mean     0 days 00:16:07.849635381\n",
       "std      0 days 00:41:14.689011688\n",
       "min                0 days 00:01:00\n",
       "25%                0 days 00:06:00\n",
       "50%                0 days 00:11:00\n",
       "75%                0 days 00:17:00\n",
       "max                2 days 23:18:00\n",
       "Name: duration, dtype: object"
      ]
     },
     "execution_count": 13,
     "metadata": {},
     "output_type": "execute_result"
    }
   ],
   "source": [
    "df['duration'].describe()"
   ]
  },
  {
   "cell_type": "code",
   "execution_count": 14,
   "id": "469f79df",
   "metadata": {},
   "outputs": [
    {
     "data": {
      "text/plain": [
       "count    37.634444\n",
       "mean      0.268847\n",
       "std       0.687414\n",
       "min       0.016667\n",
       "25%       0.100000\n",
       "50%       0.183333\n",
       "75%       0.283333\n",
       "max      71.300000\n",
       "Name: duration, dtype: float64"
      ]
     },
     "execution_count": 14,
     "metadata": {},
     "output_type": "execute_result"
    }
   ],
   "source": [
    "df['duration'].dt.total_seconds().describe()/3600. # Convert duration to hours"
   ]
  },
  {
   "cell_type": "code",
   "execution_count": 15,
   "id": "9b2f2182",
   "metadata": {},
   "outputs": [
    {
     "name": "stdout",
     "output_type": "stream",
     "text": [
      "1.7359983466682414 % of trips are under 2 minutes\n"
     ]
    }
   ],
   "source": [
    "trips_under_5_minutes = df[df['duration'].dt.total_seconds() < 120].shape[0]\n",
    "print(trips_under_5_minutes/df.shape[0] * 100, \"% of trips are under 2 minutes\")\n"
   ]
  },
  {
   "cell_type": "markdown",
   "id": "34ae3c4f",
   "metadata": {},
   "source": [
    "**Very short trips (less than 2 minutes) might be the result of accidental checkouts or system errors.**\n",
    "**Since they represent only a tiny fraction of data and seem non-representative, excluding them may help clean our dataset.**"
   ]
  },
  {
   "cell_type": "code",
   "execution_count": 16,
   "id": "69597a67",
   "metadata": {},
   "outputs": [],
   "source": [
    "df = df[df['duration'].dt.total_seconds() >= 120] # Remove trips under 2 minutes"
   ]
  },
  {
   "cell_type": "markdown",
   "id": "fba97f17",
   "metadata": {},
   "source": [
    "**Detecting Outliers with IQR method**"
   ]
  },
  {
   "cell_type": "code",
   "execution_count": 17,
   "id": "3b571ef3",
   "metadata": {},
   "outputs": [],
   "source": [
    "def detect_outliers(df, column): \n",
    "\t'''Defines a function to detect outliers in a given column of a DataFrame using the IQR method'''    \n",
    "\tQ1 = df[column].quantile(0.25) \n",
    "\tQ3 = df[column].quantile(0.75) \n",
    "\tIQR = Q3 - Q1 \n",
    "\tlower_bound = Q1 - 1.5 * IQR \n",
    "\tupper_bound = Q3 + 1.5 * IQR \n",
    "\toutliers = df[(df[column] < lower_bound) | (df[column] > upper_bound)] \n",
    "\treturn outliers \n"
   ]
  },
  {
   "cell_type": "code",
   "execution_count": 18,
   "id": "cad56d3e",
   "metadata": {},
   "outputs": [
    {
     "data": {
      "text/plain": [
       "6089"
      ]
     },
     "execution_count": 18,
     "metadata": {},
     "output_type": "execute_result"
    }
   ],
   "source": [
    "detect_outliers(df, 'duration').shape[0] # Check the number of outliers in the duration column"
   ]
  },
  {
   "cell_type": "code",
   "execution_count": 19,
   "id": "6758b92e",
   "metadata": {},
   "outputs": [
    {
     "data": {
      "text/plain": [
       "4.573656220893549"
      ]
     },
     "execution_count": 19,
     "metadata": {},
     "output_type": "execute_result"
    }
   ],
   "source": [
    "detect_outliers(df, 'duration').shape[0]/df.shape[0]*100 # Detect outliers percentage in the duration column"
   ]
  },
  {
   "cell_type": "code",
   "execution_count": 20,
   "id": "5428cf98",
   "metadata": {},
   "outputs": [
    {
     "data": {
      "image/png": "[encoded data removed]",
      "text/plain": [
       "<Figure size 640x480 with 1 Axes>"
      ]
     },
     "metadata": {},
     "output_type": "display_data"
    }
   ],
   "source": [
    "sns.boxplot(x='duration', data=df)     \n",
    "plt.show()"
   ]
  },
  {
   "cell_type": "code",
   "execution_count": 21,
   "id": "190addf1",
   "metadata": {},
   "outputs": [
    {
     "data": {
      "application/vnd.microsoft.datawrangler.viewer.v0+json": {
       "columns": [
        {
         "name": "index",
         "rawType": "int64",
         "type": "integer"
        },
        {
         "name": "bicycle_id",
         "rawType": "int64",
         "type": "integer"
        },
        {
         "name": "start_time",
         "rawType": "datetime64[ns]",
         "type": "datetime"
        },
        {
         "name": "end_time",
         "rawType": "datetime64[ns]",
         "type": "datetime"
        },
        {
         "name": "start_location",
         "rawType": "int64",
         "type": "integer"
        },
        {
         "name": "end_location",
         "rawType": "int64",
         "type": "integer"
        },
        {
         "name": "duration",
         "rawType": "timedelta64[ns]",
         "type": "unknown"
        }
       ],
       "conversionMethod": "pd.DataFrame",
       "ref": "05db20af-b623-4f3a-b497-9a3aa719267f",
       "rows": [
        [
         "130103",
         "86927",
         "2015-05-27 19:31:00",
         "2015-05-30 18:49:00",
         "902",
         "902",
         "2 days 23:18:00"
        ],
        [
         "120597",
         "86543",
         "2015-05-17 16:00:00",
         "2015-05-19 02:15:00",
         "102",
         "102",
         "1 days 10:15:00"
        ],
        [
         "106911",
         "86271",
         "2015-05-07 22:26:00",
         "2015-05-09 05:26:00",
         "904",
         "904",
         "1 days 07:00:00"
        ],
        [
         "104790",
         "86295",
         "2015-05-07 12:16:00",
         "2015-05-08 13:41:00",
         "104",
         "104",
         "1 days 01:25:00"
        ],
        [
         "92542",
         "86944",
         "2015-04-27 08:50:00",
         "2015-04-28 10:05:00",
         "516",
         "516",
         "1 days 01:15:00"
        ],
        [
         "92704",
         "86840",
         "2015-04-27 10:07:00",
         "2015-04-28 10:36:00",
         "516",
         "516",
         "1 days 00:29:00"
        ],
        [
         "92536",
         "87058",
         "2015-04-27 08:48:00",
         "2015-04-28 08:56:00",
         "516",
         "516",
         "1 days 00:08:00"
        ],
        [
         "52749",
         "86808",
         "2015-03-22 14:06:00",
         "2015-03-23 13:56:00",
         "1401",
         "809",
         "0 days 23:50:00"
        ],
        [
         "52750",
         "86987",
         "2015-03-22 14:07:00",
         "2015-03-23 13:53:00",
         "1401",
         "809",
         "0 days 23:46:00"
        ],
        [
         "125285",
         "86047",
         "2015-05-21 10:12:00",
         "2015-05-22 09:52:00",
         "609",
         "511",
         "0 days 23:40:00"
        ]
       ],
       "shape": {
        "columns": 6,
        "rows": 10
       }
      },
      "text/html": [
       "<div>\n",
       "<style scoped>\n",
       "    .dataframe tbody tr th:only-of-type {\n",
       "        vertical-align: middle;\n",
       "    }\n",
       "\n",
       "    .dataframe tbody tr th {\n",
       "        vertical-align: top;\n",
       "    }\n",
       "\n",
       "    .dataframe thead th {\n",
       "        text-align: right;\n",
       "    }\n",
       "</style>\n",
       "<table border=\"1\" class=\"dataframe\">\n",
       "  <thead>\n",
       "    <tr style=\"text-align: right;\">\n",
       "      <th></th>\n",
       "      <th>bicycle_id</th>\n",
       "      <th>start_time</th>\n",
       "      <th>end_time</th>\n",
       "      <th>start_location</th>\n",
       "      <th>end_location</th>\n",
       "      <th>duration</th>\n",
       "    </tr>\n",
       "  </thead>\n",
       "  <tbody>\n",
       "    <tr>\n",
       "      <th>130103</th>\n",
       "      <td>86927</td>\n",
       "      <td>2015-05-27 19:31:00</td>\n",
       "      <td>2015-05-30 18:49:00</td>\n",
       "      <td>902</td>\n",
       "      <td>902</td>\n",
       "      <td>2 days 23:18:00</td>\n",
       "    </tr>\n",
       "    <tr>\n",
       "      <th>120597</th>\n",
       "      <td>86543</td>\n",
       "      <td>2015-05-17 16:00:00</td>\n",
       "      <td>2015-05-19 02:15:00</td>\n",
       "      <td>102</td>\n",
       "      <td>102</td>\n",
       "      <td>1 days 10:15:00</td>\n",
       "    </tr>\n",
       "    <tr>\n",
       "      <th>106911</th>\n",
       "      <td>86271</td>\n",
       "      <td>2015-05-07 22:26:00</td>\n",
       "      <td>2015-05-09 05:26:00</td>\n",
       "      <td>904</td>\n",
       "      <td>904</td>\n",
       "      <td>1 days 07:00:00</td>\n",
       "    </tr>\n",
       "    <tr>\n",
       "      <th>104790</th>\n",
       "      <td>86295</td>\n",
       "      <td>2015-05-07 12:16:00</td>\n",
       "      <td>2015-05-08 13:41:00</td>\n",
       "      <td>104</td>\n",
       "      <td>104</td>\n",
       "      <td>1 days 01:25:00</td>\n",
       "    </tr>\n",
       "    <tr>\n",
       "      <th>92542</th>\n",
       "      <td>86944</td>\n",
       "      <td>2015-04-27 08:50:00</td>\n",
       "      <td>2015-04-28 10:05:00</td>\n",
       "      <td>516</td>\n",
       "      <td>516</td>\n",
       "      <td>1 days 01:15:00</td>\n",
       "    </tr>\n",
       "    <tr>\n",
       "      <th>92704</th>\n",
       "      <td>86840</td>\n",
       "      <td>2015-04-27 10:07:00</td>\n",
       "      <td>2015-04-28 10:36:00</td>\n",
       "      <td>516</td>\n",
       "      <td>516</td>\n",
       "      <td>1 days 00:29:00</td>\n",
       "    </tr>\n",
       "    <tr>\n",
       "      <th>92536</th>\n",
       "      <td>87058</td>\n",
       "      <td>2015-04-27 08:48:00</td>\n",
       "      <td>2015-04-28 08:56:00</td>\n",
       "      <td>516</td>\n",
       "      <td>516</td>\n",
       "      <td>1 days 00:08:00</td>\n",
       "    </tr>\n",
       "    <tr>\n",
       "      <th>52749</th>\n",
       "      <td>86808</td>\n",
       "      <td>2015-03-22 14:06:00</td>\n",
       "      <td>2015-03-23 13:56:00</td>\n",
       "      <td>1401</td>\n",
       "      <td>809</td>\n",
       "      <td>0 days 23:50:00</td>\n",
       "    </tr>\n",
       "    <tr>\n",
       "      <th>52750</th>\n",
       "      <td>86987</td>\n",
       "      <td>2015-03-22 14:07:00</td>\n",
       "      <td>2015-03-23 13:53:00</td>\n",
       "      <td>1401</td>\n",
       "      <td>809</td>\n",
       "      <td>0 days 23:46:00</td>\n",
       "    </tr>\n",
       "    <tr>\n",
       "      <th>125285</th>\n",
       "      <td>86047</td>\n",
       "      <td>2015-05-21 10:12:00</td>\n",
       "      <td>2015-05-22 09:52:00</td>\n",
       "      <td>609</td>\n",
       "      <td>511</td>\n",
       "      <td>0 days 23:40:00</td>\n",
       "    </tr>\n",
       "  </tbody>\n",
       "</table>\n",
       "</div>"
      ],
      "text/plain": [
       "        bicycle_id          start_time            end_time  start_location  \\\n",
       "130103       86927 2015-05-27 19:31:00 2015-05-30 18:49:00             902   \n",
       "120597       86543 2015-05-17 16:00:00 2015-05-19 02:15:00             102   \n",
       "106911       86271 2015-05-07 22:26:00 2015-05-09 05:26:00             904   \n",
       "104790       86295 2015-05-07 12:16:00 2015-05-08 13:41:00             104   \n",
       "92542        86944 2015-04-27 08:50:00 2015-04-28 10:05:00             516   \n",
       "92704        86840 2015-04-27 10:07:00 2015-04-28 10:36:00             516   \n",
       "92536        87058 2015-04-27 08:48:00 2015-04-28 08:56:00             516   \n",
       "52749        86808 2015-03-22 14:06:00 2015-03-23 13:56:00            1401   \n",
       "52750        86987 2015-03-22 14:07:00 2015-03-23 13:53:00            1401   \n",
       "125285       86047 2015-05-21 10:12:00 2015-05-22 09:52:00             609   \n",
       "\n",
       "        end_location        duration  \n",
       "130103           902 2 days 23:18:00  \n",
       "120597           102 1 days 10:15:00  \n",
       "106911           904 1 days 07:00:00  \n",
       "104790           104 1 days 01:25:00  \n",
       "92542            516 1 days 01:15:00  \n",
       "92704            516 1 days 00:29:00  \n",
       "92536            516 1 days 00:08:00  \n",
       "52749            809 0 days 23:50:00  \n",
       "52750            809 0 days 23:46:00  \n",
       "125285           511 0 days 23:40:00  "
      ]
     },
     "execution_count": 21,
     "metadata": {},
     "output_type": "execute_result"
    }
   ],
   "source": [
    "detect_outliers(df, 'duration').sort_values(by='duration', ascending=False).head(10) # Display outliers in order of duration"
   ]
  },
  {
   "cell_type": "markdown",
   "id": "53917b6e",
   "metadata": {},
   "source": [
    "**Extremely long trips (multiple days)**  \n",
    "- These may represent unreturned bikes, misreported end times, or missing check-ins.  \n",
    "- Long rental durations might suggest that some users are treating the bike-sharing system like a traditional rental service.  \n",
    "\n",
    "**Policy Implications**  \n",
    "- If you lock your bike at an off-station location, you will have to pay a service fee.  \n",
    "- The system is designed to encourage short, efficient trips with quick returns.  \n",
    "\n",
    "**Insights**  \n",
    "- Long rental durations could indicate deviations from intended usage patterns or even potential misuse.  "
   ]
  },
  {
   "cell_type": "code",
   "execution_count": 22,
   "id": "564fbfe1",
   "metadata": {},
   "outputs": [
    {
     "data": {
      "application/vnd.microsoft.datawrangler.viewer.v0+json": {
       "columns": [
        {
         "name": "index",
         "rawType": "int64",
         "type": "integer"
        },
        {
         "name": "bicycle_id",
         "rawType": "int64",
         "type": "integer"
        },
        {
         "name": "start_time",
         "rawType": "datetime64[ns]",
         "type": "datetime"
        },
        {
         "name": "end_time",
         "rawType": "datetime64[ns]",
         "type": "datetime"
        },
        {
         "name": "start_location",
         "rawType": "int64",
         "type": "integer"
        },
        {
         "name": "end_location",
         "rawType": "int64",
         "type": "integer"
        },
        {
         "name": "duration",
         "rawType": "timedelta64[ns]",
         "type": "unknown"
        }
       ],
       "conversionMethod": "pd.DataFrame",
       "ref": "20f5cacb-02d7-4870-9bf1-0b1f9ac97c0d",
       "rows": [
        [
         "123937",
         "86635",
         "2015-05-19 18:33:00",
         "2015-05-19 19:06:00",
         "901",
         "514",
         "0 days 00:33:00"
        ],
        [
         "88494",
         "86610",
         "2015-04-23 19:38:00",
         "2015-04-23 20:11:00",
         "1103",
         "1107",
         "0 days 00:33:00"
        ],
        [
         "118288",
         "86108",
         "2015-05-15 18:07:00",
         "2015-05-15 18:40:00",
         "515",
         "602",
         "0 days 00:33:00"
        ],
        [
         "64399",
         "86548",
         "2015-03-30 18:55:00",
         "2015-03-30 19:28:00",
         "904",
         "1302",
         "0 days 00:33:00"
        ],
        [
         "15807",
         "86757",
         "2015-02-03 11:36:00",
         "2015-02-03 12:09:00",
         "809",
         "105",
         "0 days 00:33:00"
        ]
       ],
       "shape": {
        "columns": 6,
        "rows": 5
       }
      },
      "text/html": [
       "<div>\n",
       "<style scoped>\n",
       "    .dataframe tbody tr th:only-of-type {\n",
       "        vertical-align: middle;\n",
       "    }\n",
       "\n",
       "    .dataframe tbody tr th {\n",
       "        vertical-align: top;\n",
       "    }\n",
       "\n",
       "    .dataframe thead th {\n",
       "        text-align: right;\n",
       "    }\n",
       "</style>\n",
       "<table border=\"1\" class=\"dataframe\">\n",
       "  <thead>\n",
       "    <tr style=\"text-align: right;\">\n",
       "      <th></th>\n",
       "      <th>bicycle_id</th>\n",
       "      <th>start_time</th>\n",
       "      <th>end_time</th>\n",
       "      <th>start_location</th>\n",
       "      <th>end_location</th>\n",
       "      <th>duration</th>\n",
       "    </tr>\n",
       "  </thead>\n",
       "  <tbody>\n",
       "    <tr>\n",
       "      <th>123937</th>\n",
       "      <td>86635</td>\n",
       "      <td>2015-05-19 18:33:00</td>\n",
       "      <td>2015-05-19 19:06:00</td>\n",
       "      <td>901</td>\n",
       "      <td>514</td>\n",
       "      <td>0 days 00:33:00</td>\n",
       "    </tr>\n",
       "    <tr>\n",
       "      <th>88494</th>\n",
       "      <td>86610</td>\n",
       "      <td>2015-04-23 19:38:00</td>\n",
       "      <td>2015-04-23 20:11:00</td>\n",
       "      <td>1103</td>\n",
       "      <td>1107</td>\n",
       "      <td>0 days 00:33:00</td>\n",
       "    </tr>\n",
       "    <tr>\n",
       "      <th>118288</th>\n",
       "      <td>86108</td>\n",
       "      <td>2015-05-15 18:07:00</td>\n",
       "      <td>2015-05-15 18:40:00</td>\n",
       "      <td>515</td>\n",
       "      <td>602</td>\n",
       "      <td>0 days 00:33:00</td>\n",
       "    </tr>\n",
       "    <tr>\n",
       "      <th>64399</th>\n",
       "      <td>86548</td>\n",
       "      <td>2015-03-30 18:55:00</td>\n",
       "      <td>2015-03-30 19:28:00</td>\n",
       "      <td>904</td>\n",
       "      <td>1302</td>\n",
       "      <td>0 days 00:33:00</td>\n",
       "    </tr>\n",
       "    <tr>\n",
       "      <th>15807</th>\n",
       "      <td>86757</td>\n",
       "      <td>2015-02-03 11:36:00</td>\n",
       "      <td>2015-02-03 12:09:00</td>\n",
       "      <td>809</td>\n",
       "      <td>105</td>\n",
       "      <td>0 days 00:33:00</td>\n",
       "    </tr>\n",
       "  </tbody>\n",
       "</table>\n",
       "</div>"
      ],
      "text/plain": [
       "        bicycle_id          start_time            end_time  start_location  \\\n",
       "123937       86635 2015-05-19 18:33:00 2015-05-19 19:06:00             901   \n",
       "88494        86610 2015-04-23 19:38:00 2015-04-23 20:11:00            1103   \n",
       "118288       86108 2015-05-15 18:07:00 2015-05-15 18:40:00             515   \n",
       "64399        86548 2015-03-30 18:55:00 2015-03-30 19:28:00             904   \n",
       "15807        86757 2015-02-03 11:36:00 2015-02-03 12:09:00             809   \n",
       "\n",
       "        end_location        duration  \n",
       "123937           514 0 days 00:33:00  \n",
       "88494           1107 0 days 00:33:00  \n",
       "118288           602 0 days 00:33:00  \n",
       "64399           1302 0 days 00:33:00  \n",
       "15807            105 0 days 00:33:00  "
      ]
     },
     "execution_count": 22,
     "metadata": {},
     "output_type": "execute_result"
    }
   ],
   "source": [
    "detect_outliers(df, 'duration').sort_values(by='duration', ascending=False).tail() "
   ]
  },
  {
   "cell_type": "code",
   "execution_count": 23,
   "id": "efa81e72",
   "metadata": {},
   "outputs": [],
   "source": [
    "duration_outliers = detect_outliers(df, 'duration')\n",
    "\n"
   ]
  },
  {
   "cell_type": "code",
   "execution_count": 24,
   "id": "1f5865cb",
   "metadata": {},
   "outputs": [
    {
     "data": {
      "image/png": "[encoded data removed]",
      "text/plain": [
       "<Figure size 640x480 with 1 Axes>"
      ]
     },
     "metadata": {},
     "output_type": "display_data"
    }
   ],
   "source": [
    "sns.histplot(duration_outliers['duration'].dt.total_seconds() / 3600, bins=30)\n",
    "plt.xlabel('Duration (hours)')\n",
    "plt.title('Histogram of Duration Outliers')\n",
    "plt.show()"
   ]
  },
  {
   "cell_type": "markdown",
   "id": "77f391d3",
   "metadata": {},
   "source": [
    "**Most outliers are still clustered within the 0–5 hour range, while a long tail extends up to 70+ hours. The IQR cut could be too extreme, so I will choose 99 percentile to cut**"
   ]
  },
  {
   "cell_type": "markdown",
   "id": "04622126",
   "metadata": {},
   "source": [
    "## I might want to classify the trips by duration, as we could identify the different type of users, people that commute to work, people that are visiting etc.."
   ]
  },
  {
   "cell_type": "code",
   "execution_count": 25,
   "id": "d1ff45ab",
   "metadata": {
    "vscode": {
     "languageId": "ruby"
    }
   },
   "outputs": [
    {
     "data": {
      "text/plain": [
       "2.3281666666667054"
      ]
     },
     "execution_count": 25,
     "metadata": {},
     "output_type": "execute_result"
    }
   ],
   "source": [
    "# Calculate the 99th percentile of the duration in hours\n",
    "percentile_99 = df['duration'].dt.total_seconds().quantile(0.99) / 3600\n",
    "percentile_99"
   ]
  },
  {
   "cell_type": "code",
   "execution_count": 26,
   "id": "51295cc2",
   "metadata": {
    "vscode": {
     "languageId": "ruby"
    }
   },
   "outputs": [],
   "source": [
    "# Filter the DataFrame to exclude rows with duration above 2.32 hours\n",
    "df = df[(df['duration'].dt.total_seconds() / 3600) <= percentile_99]"
   ]
  },
  {
   "cell_type": "code",
   "execution_count": 27,
   "id": "1253a8b1",
   "metadata": {
    "vscode": {
     "languageId": "ruby"
    }
   },
   "outputs": [
    {
     "data": {
      "text/plain": [
       "count                       131800\n",
       "mean     0 days 00:13:27.220789074\n",
       "std      0 days 00:12:30.410867183\n",
       "min                0 days 00:02:00\n",
       "25%                0 days 00:07:00\n",
       "50%                0 days 00:11:00\n",
       "75%                0 days 00:17:00\n",
       "max                0 days 02:19:00\n",
       "Name: duration, dtype: object"
      ]
     },
     "execution_count": 27,
     "metadata": {},
     "output_type": "execute_result"
    }
   ],
   "source": [
    "df['duration'].describe()"
   ]
  },
  {
   "cell_type": "markdown",
   "id": "011fba62",
   "metadata": {},
   "source": [
    "# Route traffic"
   ]
  },
  {
   "cell_type": "code",
   "execution_count": 28,
   "id": "5f943c85",
   "metadata": {},
   "outputs": [
    {
     "data": {
      "text/plain": [
       "0      802-508\n",
       "1      802-508\n",
       "2     513-1106\n",
       "3      513-604\n",
       "5      516-901\n",
       "6      902-902\n",
       "7      902-902\n",
       "8      611-705\n",
       "9      611-705\n",
       "10    905-1106\n",
       "Name: route, dtype: object"
      ]
     },
     "execution_count": 28,
     "metadata": {},
     "output_type": "execute_result"
    }
   ],
   "source": [
    "df['route'] = df['start_location'].astype(str) + \"-\" + df['end_location'].astype(str) # Create a new column 'route' by concatenating start and end station IDs\n",
    "df['route'].head(10) # Display the first 10 rows of the new 'route' column"
   ]
  },
  {
   "cell_type": "code",
   "execution_count": 29,
   "id": "f74576f2",
   "metadata": {},
   "outputs": [
    {
     "data": {
      "text/plain": [
       "route\n",
       "1304-1304    1129\n",
       "1301-1304     606\n",
       "607-604       454\n",
       "604-607       451\n",
       "1304-1301     410\n",
       "1301-1302     354\n",
       "602-607       342\n",
       "703-808       288\n",
       "517-517       283\n",
       "607-602       276\n",
       "Name: count, dtype: int64"
      ]
     },
     "execution_count": 29,
     "metadata": {},
     "output_type": "execute_result"
    }
   ],
   "source": [
    "df['route'].value_counts().head(10) # Display the top 10 most common routes"
   ]
  },
  {
   "cell_type": "code",
   "execution_count": 30,
   "id": "f13aefcc",
   "metadata": {},
   "outputs": [
    {
     "data": {
      "image/png": "[encoded data removed]",
      "text/plain": [
       "<Figure size 640x480 with 1 Axes>"
      ]
     },
     "metadata": {},
     "output_type": "display_data"
    }
   ],
   "source": [
    "sns.countplot(data=df, x='route', order=df['route'].value_counts().index[:30]) # Plot the top 10 most common routes\n",
    "plt.xticks(rotation=90) \n",
    "plt.show()   "
   ]
  },
  {
   "cell_type": "markdown",
   "id": "e5752213",
   "metadata": {},
   "source": [
    "### Route Analysis\n",
    "\n",
    "- **Route 1304–1304** stands out with the highest number of trips—well over 1,000—significantly exceeding any other route. This suggests that station **1304** is either very popular or that many users start and end their trips at the same station (e.g., a round trip).\n",
    "\n",
    "- Overall, station **1304** (in various combinations) dominates the usage, hinting at a high-traffic location—possibly near a major hub, university, or other point of interest.\n",
    "\n",
    "- **Station 1304** corresponds to a location on Margaret Island, a 2.5 km long island in the middle of the Danube in Budapest, Hungary. It is a popular recreational area featuring parks, sports facilities, historical monuments, and a water tower."
   ]
  },
  {
   "cell_type": "code",
   "execution_count": 31,
   "id": "a88d0bcc",
   "metadata": {},
   "outputs": [],
   "source": [
    "trip = df.copy() # Create a copy of the DataFrame to avoid modifying the original data\n",
    "trip.to_csv('trip.csv', index=False) # Save the modified DataFrame to a new CSV file"
   ]
  }
 ],
 "metadata": {
  "kernelspec": {
   "display_name": "Python 3",
   "language": "python",
   "name": "python3"
  },
  "language_info": {
   "codemirror_mode": {
    "name": "ipython",
    "version": 3
   },
   "file_extension": ".py",
   "mimetype": "text/x-python",
   "name": "python",
   "nbconvert_exporter": "python",
   "pygments_lexer": "ipython3",
   "version": "3.12.9"
  }
 },
 "nbformat": 4,
 "nbformat_minor": 5
}
