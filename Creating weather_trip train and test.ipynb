{
 "cells": [
  {
   "cell_type": "code",
   "execution_count": 1,
   "id": "fa00cc15",
   "metadata": {},
   "outputs": [
    {
     "name": "stdout",
     "output_type": "stream",
     "text": [
      "Defaulting to user installation because normal site-packages is not writeableNote: you may need to restart the kernel to use updated packages.\n",
      "\n",
      "Requirement already satisfied: statsmodels in c:\\users\\gsant\\appdata\\local\\packages\\pythonsoftwarefoundation.python.3.12_qbz5n2kfra8p0\\localcache\\local-packages\\python312\\site-packages (0.14.4)\n",
      "Requirement already satisfied: numpy<3,>=1.22.3 in c:\\users\\gsant\\appdata\\local\\packages\\pythonsoftwarefoundation.python.3.12_qbz5n2kfra8p0\\localcache\\local-packages\\python312\\site-packages (from statsmodels) (1.26.4)\n",
      "Requirement already satisfied: scipy!=1.9.2,>=1.8 in c:\\users\\gsant\\appdata\\local\\packages\\pythonsoftwarefoundation.python.3.12_qbz5n2kfra8p0\\localcache\\local-packages\\python312\\site-packages (from statsmodels) (1.15.2)\n",
      "Requirement already satisfied: pandas!=2.1.0,>=1.4 in c:\\users\\gsant\\appdata\\local\\packages\\pythonsoftwarefoundation.python.3.12_qbz5n2kfra8p0\\localcache\\local-packages\\python312\\site-packages (from statsmodels) (2.2.2)\n",
      "Requirement already satisfied: patsy>=0.5.6 in c:\\users\\gsant\\appdata\\local\\packages\\pythonsoftwarefoundation.python.3.12_qbz5n2kfra8p0\\localcache\\local-packages\\python312\\site-packages (from statsmodels) (1.0.1)\n",
      "Requirement already satisfied: packaging>=21.3 in c:\\users\\gsant\\appdata\\local\\packages\\pythonsoftwarefoundation.python.3.12_qbz5n2kfra8p0\\localcache\\local-packages\\python312\\site-packages (from statsmodels) (24.1)\n",
      "Requirement already satisfied: python-dateutil>=2.8.2 in c:\\users\\gsant\\appdata\\local\\packages\\pythonsoftwarefoundation.python.3.12_qbz5n2kfra8p0\\localcache\\local-packages\\python312\\site-packages (from pandas!=2.1.0,>=1.4->statsmodels) (2.9.0.post0)\n",
      "Requirement already satisfied: pytz>=2020.1 in c:\\users\\gsant\\appdata\\local\\packages\\pythonsoftwarefoundation.python.3.12_qbz5n2kfra8p0\\localcache\\local-packages\\python312\\site-packages (from pandas!=2.1.0,>=1.4->statsmodels) (2024.1)\n",
      "Requirement already satisfied: tzdata>=2022.7 in c:\\users\\gsant\\appdata\\local\\packages\\pythonsoftwarefoundation.python.3.12_qbz5n2kfra8p0\\localcache\\local-packages\\python312\\site-packages (from pandas!=2.1.0,>=1.4->statsmodels) (2024.1)\n",
      "Requirement already satisfied: six>=1.5 in c:\\users\\gsant\\appdata\\local\\packages\\pythonsoftwarefoundation.python.3.12_qbz5n2kfra8p0\\localcache\\local-packages\\python312\\site-packages (from python-dateutil>=2.8.2->pandas!=2.1.0,>=1.4->statsmodels) (1.16.0)\n"
     ]
    }
   ],
   "source": [
    "pip install statsmodels"
   ]
  },
  {
   "cell_type": "code",
   "execution_count": 2,
   "id": "818af9a9",
   "metadata": {},
   "outputs": [],
   "source": [
    "import pandas as pd\n",
    "import numpy as np\n",
    "import matplotlib.pyplot as plt\n",
    "import seaborn as sns\n",
    "import statsmodels.api as sm"
   ]
  },
  {
   "cell_type": "code",
   "execution_count": 3,
   "id": "94829228",
   "metadata": {},
   "outputs": [],
   "source": [
    "trip_df = pd.read_csv('trip.csv')\n",
    "weather_df = pd.read_csv('cleaned_weather_data.csv')"
   ]
  },
  {
   "cell_type": "code",
   "execution_count": 4,
   "id": "440aa836",
   "metadata": {},
   "outputs": [],
   "source": [
    "# Ensure datetime format for both datasets\n",
    "trip_df['start_time'] = pd.to_datetime(trip_df['start_time'])\n",
    "weather_df['time'] = pd.to_datetime(weather_df['time'])\n",
    "\n",
    "# Align trip start times to the nearest previous half-hour\n",
    "trip_df['half_hour'] = trip_df['start_time'].dt.floor('30min')\n",
    "\n",
    "# Aggregate the trip counts for each half-hour interval\n",
    "trip_counts = trip_df.groupby('half_hour').size().reset_index(name='trip_count')\n",
    "\n",
    "# Merge with the weather data based on the half-hour intervals\n",
    "# Left join so every weather record is kept, even if there were no trips in that interval\n",
    "merged_df = pd.merge(weather_df, trip_counts, left_on='time', right_on='half_hour', how='left')\n",
    "\n",
    "# Fill missing trip counts with 0 (no trips occurred in that interval)\n",
    "merged_df['trip_count'] = merged_df['trip_count'].fillna(0)\n",
    "\n",
    "# Optionally, drop the redundant 'half_hour' column\n",
    "merged_df.drop(columns=['half_hour'], inplace=True)\n"
   ]
  },
  {
   "cell_type": "code",
   "execution_count": 5,
   "id": "7bf05714",
   "metadata": {},
   "outputs": [
    {
     "data": {
      "application/vnd.microsoft.datawrangler.viewer.v0+json": {
       "columns": [
        {
         "name": "index",
         "rawType": "int64",
         "type": "integer"
        },
        {
         "name": "time",
         "rawType": "datetime64[ns]",
         "type": "datetime"
        },
        {
         "name": "index",
         "rawType": "int64",
         "type": "integer"
        },
        {
         "name": "temperature_C",
         "rawType": "float64",
         "type": "float"
        },
        {
         "name": "humidity",
         "rawType": "int64",
         "type": "integer"
        },
        {
         "name": "windspeed_kph",
         "rawType": "float64",
         "type": "float"
        },
        {
         "name": "wind_direction_degres",
         "rawType": "int64",
         "type": "integer"
        },
        {
         "name": "wind_direction",
         "rawType": "object",
         "type": "string"
        },
        {
         "name": "pressure_mBar",
         "rawType": "int64",
         "type": "integer"
        },
        {
         "name": "visibility_km",
         "rawType": "float64",
         "type": "float"
        },
        {
         "name": "wind_chill_C",
         "rawType": "float64",
         "type": "float"
        },
        {
         "name": "fog",
         "rawType": "int64",
         "type": "integer"
        },
        {
         "name": "rain",
         "rawType": "int64",
         "type": "integer"
        },
        {
         "name": "snow",
         "rawType": "int64",
         "type": "integer"
        },
        {
         "name": "thunder",
         "rawType": "int64",
         "type": "integer"
        },
        {
         "name": "temperature_bin",
         "rawType": "object",
         "type": "string"
        },
        {
         "name": "wind_chill_bin",
         "rawType": "object",
         "type": "string"
        },
        {
         "name": "humidity_bin",
         "rawType": "object",
         "type": "string"
        },
        {
         "name": "hour",
         "rawType": "int64",
         "type": "integer"
        },
        {
         "name": "time_of_day",
         "rawType": "object",
         "type": "string"
        },
        {
         "name": "month",
         "rawType": "int64",
         "type": "integer"
        },
        {
         "name": "month_str",
         "rawType": "object",
         "type": "string"
        },
        {
         "name": "bad_weather",
         "rawType": "int64",
         "type": "integer"
        },
        {
         "name": "severe_weather",
         "rawType": "int64",
         "type": "integer"
        },
        {
         "name": "trip_count",
         "rawType": "float64",
         "type": "float"
        }
       ],
       "conversionMethod": "pd.DataFrame",
       "ref": "f5c6ab31-1646-47f4-96e5-d8ad1875ebf4",
       "rows": [
        [
         "0",
         "2015-01-01 00:00:00",
         "0",
         "-12.0",
         "85",
         "5.6",
         "0",
         "Variable",
         "1037",
         "5.0",
         "-15.5",
         "0",
         "0",
         "0",
         "0",
         "Very Cold",
         "Very Cold",
         "High",
         "0",
         "LateNight",
         "1",
         "Jan",
         "0",
         "0",
         "12.0"
        ],
        [
         "1",
         "2015-01-01 00:30:00",
         "1",
         "-11.0",
         "85",
         "3.7",
         "0",
         "Variable",
         "1036",
         "4.0",
         null,
         "0",
         "0",
         "0",
         "0",
         "Very Cold",
         "Hot",
         "High",
         "0",
         "LateNight",
         "1",
         "Jan",
         "0",
         "0",
         "8.0"
        ],
        [
         "2",
         "2015-01-01 01:00:00",
         "2",
         "-10.0",
         "86",
         "3.7",
         "0",
         "Variable",
         "1036",
         "4.0",
         null,
         "0",
         "0",
         "0",
         "0",
         "Very Cold",
         "Hot",
         "High",
         "1",
         "LateNight",
         "1",
         "Jan",
         "0",
         "0",
         "12.0"
        ],
        [
         "3",
         "2015-01-01 01:30:00",
         "3",
         "-10.0",
         "86",
         "0.0",
         "0",
         "North",
         "1036",
         "5.0",
         null,
         "0",
         "0",
         "0",
         "0",
         "Very Cold",
         "Hot",
         "High",
         "1",
         "LateNight",
         "1",
         "Jan",
         "0",
         "0",
         "11.0"
        ],
        [
         "4",
         "2015-01-01 02:00:00",
         "4",
         "-9.0",
         "79",
         "0.0",
         "0",
         "North",
         "1036",
         "4.0",
         null,
         "0",
         "0",
         "0",
         "0",
         "Very Cold",
         "Hot",
         "High",
         "2",
         "LateNight",
         "1",
         "Jan",
         "0",
         "0",
         "15.0"
        ]
       ],
       "shape": {
        "columns": 24,
        "rows": 5
       }
      },
      "text/html": [
       "<div>\n",
       "<style scoped>\n",
       "    .dataframe tbody tr th:only-of-type {\n",
       "        vertical-align: middle;\n",
       "    }\n",
       "\n",
       "    .dataframe tbody tr th {\n",
       "        vertical-align: top;\n",
       "    }\n",
       "\n",
       "    .dataframe thead th {\n",
       "        text-align: right;\n",
       "    }\n",
       "</style>\n",
       "<table border=\"1\" class=\"dataframe\">\n",
       "  <thead>\n",
       "    <tr style=\"text-align: right;\">\n",
       "      <th></th>\n",
       "      <th>time</th>\n",
       "      <th>index</th>\n",
       "      <th>temperature_C</th>\n",
       "      <th>humidity</th>\n",
       "      <th>windspeed_kph</th>\n",
       "      <th>wind_direction_degres</th>\n",
       "      <th>wind_direction</th>\n",
       "      <th>pressure_mBar</th>\n",
       "      <th>visibility_km</th>\n",
       "      <th>wind_chill_C</th>\n",
       "      <th>...</th>\n",
       "      <th>temperature_bin</th>\n",
       "      <th>wind_chill_bin</th>\n",
       "      <th>humidity_bin</th>\n",
       "      <th>hour</th>\n",
       "      <th>time_of_day</th>\n",
       "      <th>month</th>\n",
       "      <th>month_str</th>\n",
       "      <th>bad_weather</th>\n",
       "      <th>severe_weather</th>\n",
       "      <th>trip_count</th>\n",
       "    </tr>\n",
       "  </thead>\n",
       "  <tbody>\n",
       "    <tr>\n",
       "      <th>0</th>\n",
       "      <td>2015-01-01 00:00:00</td>\n",
       "      <td>0</td>\n",
       "      <td>-12.0</td>\n",
       "      <td>85</td>\n",
       "      <td>5.6</td>\n",
       "      <td>0</td>\n",
       "      <td>Variable</td>\n",
       "      <td>1037</td>\n",
       "      <td>5.0</td>\n",
       "      <td>-15.5</td>\n",
       "      <td>...</td>\n",
       "      <td>Very Cold</td>\n",
       "      <td>Very Cold</td>\n",
       "      <td>High</td>\n",
       "      <td>0</td>\n",
       "      <td>LateNight</td>\n",
       "      <td>1</td>\n",
       "      <td>Jan</td>\n",
       "      <td>0</td>\n",
       "      <td>0</td>\n",
       "      <td>12.0</td>\n",
       "    </tr>\n",
       "    <tr>\n",
       "      <th>1</th>\n",
       "      <td>2015-01-01 00:30:00</td>\n",
       "      <td>1</td>\n",
       "      <td>-11.0</td>\n",
       "      <td>85</td>\n",
       "      <td>3.7</td>\n",
       "      <td>0</td>\n",
       "      <td>Variable</td>\n",
       "      <td>1036</td>\n",
       "      <td>4.0</td>\n",
       "      <td>NaN</td>\n",
       "      <td>...</td>\n",
       "      <td>Very Cold</td>\n",
       "      <td>Hot</td>\n",
       "      <td>High</td>\n",
       "      <td>0</td>\n",
       "      <td>LateNight</td>\n",
       "      <td>1</td>\n",
       "      <td>Jan</td>\n",
       "      <td>0</td>\n",
       "      <td>0</td>\n",
       "      <td>8.0</td>\n",
       "    </tr>\n",
       "    <tr>\n",
       "      <th>2</th>\n",
       "      <td>2015-01-01 01:00:00</td>\n",
       "      <td>2</td>\n",
       "      <td>-10.0</td>\n",
       "      <td>86</td>\n",
       "      <td>3.7</td>\n",
       "      <td>0</td>\n",
       "      <td>Variable</td>\n",
       "      <td>1036</td>\n",
       "      <td>4.0</td>\n",
       "      <td>NaN</td>\n",
       "      <td>...</td>\n",
       "      <td>Very Cold</td>\n",
       "      <td>Hot</td>\n",
       "      <td>High</td>\n",
       "      <td>1</td>\n",
       "      <td>LateNight</td>\n",
       "      <td>1</td>\n",
       "      <td>Jan</td>\n",
       "      <td>0</td>\n",
       "      <td>0</td>\n",
       "      <td>12.0</td>\n",
       "    </tr>\n",
       "    <tr>\n",
       "      <th>3</th>\n",
       "      <td>2015-01-01 01:30:00</td>\n",
       "      <td>3</td>\n",
       "      <td>-10.0</td>\n",
       "      <td>86</td>\n",
       "      <td>0.0</td>\n",
       "      <td>0</td>\n",
       "      <td>North</td>\n",
       "      <td>1036</td>\n",
       "      <td>5.0</td>\n",
       "      <td>NaN</td>\n",
       "      <td>...</td>\n",
       "      <td>Very Cold</td>\n",
       "      <td>Hot</td>\n",
       "      <td>High</td>\n",
       "      <td>1</td>\n",
       "      <td>LateNight</td>\n",
       "      <td>1</td>\n",
       "      <td>Jan</td>\n",
       "      <td>0</td>\n",
       "      <td>0</td>\n",
       "      <td>11.0</td>\n",
       "    </tr>\n",
       "    <tr>\n",
       "      <th>4</th>\n",
       "      <td>2015-01-01 02:00:00</td>\n",
       "      <td>4</td>\n",
       "      <td>-9.0</td>\n",
       "      <td>79</td>\n",
       "      <td>0.0</td>\n",
       "      <td>0</td>\n",
       "      <td>North</td>\n",
       "      <td>1036</td>\n",
       "      <td>4.0</td>\n",
       "      <td>NaN</td>\n",
       "      <td>...</td>\n",
       "      <td>Very Cold</td>\n",
       "      <td>Hot</td>\n",
       "      <td>High</td>\n",
       "      <td>2</td>\n",
       "      <td>LateNight</td>\n",
       "      <td>1</td>\n",
       "      <td>Jan</td>\n",
       "      <td>0</td>\n",
       "      <td>0</td>\n",
       "      <td>15.0</td>\n",
       "    </tr>\n",
       "  </tbody>\n",
       "</table>\n",
       "<p>5 rows × 24 columns</p>\n",
       "</div>"
      ],
      "text/plain": [
       "                 time  index  temperature_C  humidity  windspeed_kph  \\\n",
       "0 2015-01-01 00:00:00      0          -12.0        85            5.6   \n",
       "1 2015-01-01 00:30:00      1          -11.0        85            3.7   \n",
       "2 2015-01-01 01:00:00      2          -10.0        86            3.7   \n",
       "3 2015-01-01 01:30:00      3          -10.0        86            0.0   \n",
       "4 2015-01-01 02:00:00      4           -9.0        79            0.0   \n",
       "\n",
       "   wind_direction_degres wind_direction  pressure_mBar  visibility_km  \\\n",
       "0                      0       Variable           1037            5.0   \n",
       "1                      0       Variable           1036            4.0   \n",
       "2                      0       Variable           1036            4.0   \n",
       "3                      0          North           1036            5.0   \n",
       "4                      0          North           1036            4.0   \n",
       "\n",
       "   wind_chill_C  ...  temperature_bin  wind_chill_bin  humidity_bin  hour  \\\n",
       "0         -15.5  ...        Very Cold       Very Cold          High     0   \n",
       "1           NaN  ...        Very Cold             Hot          High     0   \n",
       "2           NaN  ...        Very Cold             Hot          High     1   \n",
       "3           NaN  ...        Very Cold             Hot          High     1   \n",
       "4           NaN  ...        Very Cold             Hot          High     2   \n",
       "\n",
       "  time_of_day month month_str  bad_weather severe_weather  trip_count  \n",
       "0   LateNight     1       Jan            0              0        12.0  \n",
       "1   LateNight     1       Jan            0              0         8.0  \n",
       "2   LateNight     1       Jan            0              0        12.0  \n",
       "3   LateNight     1       Jan            0              0        11.0  \n",
       "4   LateNight     1       Jan            0              0        15.0  \n",
       "\n",
       "[5 rows x 24 columns]"
      ]
     },
     "execution_count": 5,
     "metadata": {},
     "output_type": "execute_result"
    }
   ],
   "source": [
    "merged_df.head()"
   ]
  },
  {
   "cell_type": "code",
   "execution_count": 6,
   "id": "1ecdb208",
   "metadata": {},
   "outputs": [],
   "source": [
    "# 4. Identify Missing Dates for April and May from the Trip Data\n",
    "# and assign the corresponding records to the test set.\n",
    "# ---------------------------\n",
    "# Create a date column in both the trip data and the merged merged data.\n",
    "trip_df['date'] = trip_df['start_time'].dt.date\n",
    "merged_df['date'] = merged_df['time'].dt.date\n",
    "\n",
    "# Generate the full date range for April and May 2015\n",
    "april_may_range = pd.date_range(start=\"2015-04-01\", end=\"2015-05-31\", freq=\"D\").date\n",
    "\n",
    "# Get the unique trip dates in April and May (from the trip data)\n",
    "dates_in_trip = set(trip_df[trip_df['start_time'].dt.month.isin([4, 5])]['date'])\n",
    "\n",
    "# Identify missing dates (dates in April–May that have no trips)\n",
    "missing_dates = {d for d in april_may_range if d not in dates_in_trip}\n",
    "\n",
    "# ---------------------------\n",
    "# 5. Label Records as Training or Test\n",
    "# For each record in the merged (weather) data, assign 'test' if its date is one of the missing dates,\n",
    "# otherwise 'train'. Note that even if a trip spans midnight, you always use the start date.\n",
    "# ---------------------------\n",
    "merged_df['set'] = merged_df['date'].apply(lambda d: 'test' if d in missing_dates else 'train')"
   ]
  },
  {
   "cell_type": "code",
   "execution_count": 7,
   "id": "e5b87922",
   "metadata": {},
   "outputs": [],
   "source": [
    "merged_df['weekend'] = pd.to_datetime(merged_df['date']).dt.dayofweek.isin([5, 6]).astype(int) #Creating weekend column"
   ]
  },
  {
   "cell_type": "code",
   "execution_count": 8,
   "id": "bca7a7c2",
   "metadata": {},
   "outputs": [],
   "source": [
    "# Split the Data into Train and Test Sets\n",
    "train_df = merged_df[merged_df['set'] == 'train'] \n",
    "test_df = merged_df[merged_df['set'] == 'test']"
   ]
  },
  {
   "cell_type": "code",
   "execution_count": 9,
   "id": "c87aaffa",
   "metadata": {},
   "outputs": [
    {
     "data": {
      "application/vnd.microsoft.datawrangler.viewer.v0+json": {
       "columns": [
        {
         "name": "index",
         "rawType": "int64",
         "type": "integer"
        },
        {
         "name": "time",
         "rawType": "datetime64[ns]",
         "type": "datetime"
        },
        {
         "name": "index",
         "rawType": "int64",
         "type": "integer"
        },
        {
         "name": "temperature_C",
         "rawType": "float64",
         "type": "float"
        },
        {
         "name": "humidity",
         "rawType": "int64",
         "type": "integer"
        },
        {
         "name": "windspeed_kph",
         "rawType": "float64",
         "type": "float"
        },
        {
         "name": "wind_direction_degres",
         "rawType": "int64",
         "type": "integer"
        },
        {
         "name": "wind_direction",
         "rawType": "object",
         "type": "string"
        },
        {
         "name": "pressure_mBar",
         "rawType": "int64",
         "type": "integer"
        },
        {
         "name": "visibility_km",
         "rawType": "float64",
         "type": "float"
        },
        {
         "name": "wind_chill_C",
         "rawType": "float64",
         "type": "float"
        },
        {
         "name": "fog",
         "rawType": "int64",
         "type": "integer"
        },
        {
         "name": "rain",
         "rawType": "int64",
         "type": "integer"
        },
        {
         "name": "snow",
         "rawType": "int64",
         "type": "integer"
        },
        {
         "name": "thunder",
         "rawType": "int64",
         "type": "integer"
        },
        {
         "name": "temperature_bin",
         "rawType": "object",
         "type": "string"
        },
        {
         "name": "wind_chill_bin",
         "rawType": "object",
         "type": "string"
        },
        {
         "name": "humidity_bin",
         "rawType": "object",
         "type": "string"
        },
        {
         "name": "hour",
         "rawType": "int64",
         "type": "integer"
        },
        {
         "name": "time_of_day",
         "rawType": "object",
         "type": "string"
        },
        {
         "name": "month",
         "rawType": "int64",
         "type": "integer"
        },
        {
         "name": "month_str",
         "rawType": "object",
         "type": "string"
        },
        {
         "name": "bad_weather",
         "rawType": "int64",
         "type": "integer"
        },
        {
         "name": "severe_weather",
         "rawType": "int64",
         "type": "integer"
        },
        {
         "name": "trip_count",
         "rawType": "float64",
         "type": "float"
        },
        {
         "name": "date",
         "rawType": "object",
         "type": "unknown"
        },
        {
         "name": "set",
         "rawType": "object",
         "type": "string"
        },
        {
         "name": "weekend",
         "rawType": "int32",
         "type": "integer"
        }
       ],
       "conversionMethod": "pd.DataFrame",
       "ref": "6d74cffd-52a9-41a9-81eb-298c50afd73d",
       "rows": [
        [
         "4360",
         "2015-04-02 00:00:00",
         "4360",
         "3.0",
         "81",
         "22.2",
         "270",
         "West",
         "1014",
         "10.0",
         "-1.7",
         "0",
         "0",
         "0",
         "0",
         "Cold",
         "Very Cold",
         "High",
         "0",
         "LateNight",
         "4",
         "Apr",
         "0",
         "0",
         "0.0",
         "2015-04-02",
         "test",
         "0"
        ],
        [
         "4361",
         "2015-04-02 00:30:00",
         "4361",
         "3.0",
         "75",
         "22.2",
         "280",
         "West",
         "1013",
         "10.0",
         "-1.7",
         "0",
         "0",
         "0",
         "0",
         "Cold",
         "Very Cold",
         "High",
         "0",
         "LateNight",
         "4",
         "Apr",
         "0",
         "0",
         "0.0",
         "2015-04-02",
         "test",
         "0"
        ],
        [
         "4362",
         "2015-04-02 01:00:00",
         "4362",
         "4.0",
         "70",
         "20.4",
         "290",
         "WNW",
         "1013",
         "10.0",
         "-0.2",
         "0",
         "0",
         "0",
         "0",
         "Cold",
         "Very Cold",
         "Moderate",
         "1",
         "LateNight",
         "4",
         "Apr",
         "0",
         "0",
         "0.0",
         "2015-04-02",
         "test",
         "0"
        ],
        [
         "4363",
         "2015-04-02 01:30:00",
         "4363",
         "3.0",
         "75",
         "13.0",
         "250",
         "WSW",
         "1014",
         "10.0",
         "-0.3",
         "0",
         "0",
         "0",
         "0",
         "Cold",
         "Very Cold",
         "High",
         "1",
         "LateNight",
         "4",
         "Apr",
         "0",
         "0",
         "0.0",
         "2015-04-02",
         "test",
         "0"
        ],
        [
         "4364",
         "2015-04-02 02:00:00",
         "4364",
         "3.0",
         "75",
         "20.4",
         "230",
         "SW",
         "1014",
         "10.0",
         "-1.5",
         "0",
         "0",
         "0",
         "0",
         "Cold",
         "Very Cold",
         "High",
         "2",
         "LateNight",
         "4",
         "Apr",
         "0",
         "0",
         "0.0",
         "2015-04-02",
         "test",
         "0"
        ]
       ],
       "shape": {
        "columns": 27,
        "rows": 5
       }
      },
      "text/html": [
       "<div>\n",
       "<style scoped>\n",
       "    .dataframe tbody tr th:only-of-type {\n",
       "        vertical-align: middle;\n",
       "    }\n",
       "\n",
       "    .dataframe tbody tr th {\n",
       "        vertical-align: top;\n",
       "    }\n",
       "\n",
       "    .dataframe thead th {\n",
       "        text-align: right;\n",
       "    }\n",
       "</style>\n",
       "<table border=\"1\" class=\"dataframe\">\n",
       "  <thead>\n",
       "    <tr style=\"text-align: right;\">\n",
       "      <th></th>\n",
       "      <th>time</th>\n",
       "      <th>index</th>\n",
       "      <th>temperature_C</th>\n",
       "      <th>humidity</th>\n",
       "      <th>windspeed_kph</th>\n",
       "      <th>wind_direction_degres</th>\n",
       "      <th>wind_direction</th>\n",
       "      <th>pressure_mBar</th>\n",
       "      <th>visibility_km</th>\n",
       "      <th>wind_chill_C</th>\n",
       "      <th>...</th>\n",
       "      <th>hour</th>\n",
       "      <th>time_of_day</th>\n",
       "      <th>month</th>\n",
       "      <th>month_str</th>\n",
       "      <th>bad_weather</th>\n",
       "      <th>severe_weather</th>\n",
       "      <th>trip_count</th>\n",
       "      <th>date</th>\n",
       "      <th>set</th>\n",
       "      <th>weekend</th>\n",
       "    </tr>\n",
       "  </thead>\n",
       "  <tbody>\n",
       "    <tr>\n",
       "      <th>4360</th>\n",
       "      <td>2015-04-02 00:00:00</td>\n",
       "      <td>4360</td>\n",
       "      <td>3.0</td>\n",
       "      <td>81</td>\n",
       "      <td>22.2</td>\n",
       "      <td>270</td>\n",
       "      <td>West</td>\n",
       "      <td>1014</td>\n",
       "      <td>10.0</td>\n",
       "      <td>-1.7</td>\n",
       "      <td>...</td>\n",
       "      <td>0</td>\n",
       "      <td>LateNight</td>\n",
       "      <td>4</td>\n",
       "      <td>Apr</td>\n",
       "      <td>0</td>\n",
       "      <td>0</td>\n",
       "      <td>0.0</td>\n",
       "      <td>2015-04-02</td>\n",
       "      <td>test</td>\n",
       "      <td>0</td>\n",
       "    </tr>\n",
       "    <tr>\n",
       "      <th>4361</th>\n",
       "      <td>2015-04-02 00:30:00</td>\n",
       "      <td>4361</td>\n",
       "      <td>3.0</td>\n",
       "      <td>75</td>\n",
       "      <td>22.2</td>\n",
       "      <td>280</td>\n",
       "      <td>West</td>\n",
       "      <td>1013</td>\n",
       "      <td>10.0</td>\n",
       "      <td>-1.7</td>\n",
       "      <td>...</td>\n",
       "      <td>0</td>\n",
       "      <td>LateNight</td>\n",
       "      <td>4</td>\n",
       "      <td>Apr</td>\n",
       "      <td>0</td>\n",
       "      <td>0</td>\n",
       "      <td>0.0</td>\n",
       "      <td>2015-04-02</td>\n",
       "      <td>test</td>\n",
       "      <td>0</td>\n",
       "    </tr>\n",
       "    <tr>\n",
       "      <th>4362</th>\n",
       "      <td>2015-04-02 01:00:00</td>\n",
       "      <td>4362</td>\n",
       "      <td>4.0</td>\n",
       "      <td>70</td>\n",
       "      <td>20.4</td>\n",
       "      <td>290</td>\n",
       "      <td>WNW</td>\n",
       "      <td>1013</td>\n",
       "      <td>10.0</td>\n",
       "      <td>-0.2</td>\n",
       "      <td>...</td>\n",
       "      <td>1</td>\n",
       "      <td>LateNight</td>\n",
       "      <td>4</td>\n",
       "      <td>Apr</td>\n",
       "      <td>0</td>\n",
       "      <td>0</td>\n",
       "      <td>0.0</td>\n",
       "      <td>2015-04-02</td>\n",
       "      <td>test</td>\n",
       "      <td>0</td>\n",
       "    </tr>\n",
       "    <tr>\n",
       "      <th>4363</th>\n",
       "      <td>2015-04-02 01:30:00</td>\n",
       "      <td>4363</td>\n",
       "      <td>3.0</td>\n",
       "      <td>75</td>\n",
       "      <td>13.0</td>\n",
       "      <td>250</td>\n",
       "      <td>WSW</td>\n",
       "      <td>1014</td>\n",
       "      <td>10.0</td>\n",
       "      <td>-0.3</td>\n",
       "      <td>...</td>\n",
       "      <td>1</td>\n",
       "      <td>LateNight</td>\n",
       "      <td>4</td>\n",
       "      <td>Apr</td>\n",
       "      <td>0</td>\n",
       "      <td>0</td>\n",
       "      <td>0.0</td>\n",
       "      <td>2015-04-02</td>\n",
       "      <td>test</td>\n",
       "      <td>0</td>\n",
       "    </tr>\n",
       "    <tr>\n",
       "      <th>4364</th>\n",
       "      <td>2015-04-02 02:00:00</td>\n",
       "      <td>4364</td>\n",
       "      <td>3.0</td>\n",
       "      <td>75</td>\n",
       "      <td>20.4</td>\n",
       "      <td>230</td>\n",
       "      <td>SW</td>\n",
       "      <td>1014</td>\n",
       "      <td>10.0</td>\n",
       "      <td>-1.5</td>\n",
       "      <td>...</td>\n",
       "      <td>2</td>\n",
       "      <td>LateNight</td>\n",
       "      <td>4</td>\n",
       "      <td>Apr</td>\n",
       "      <td>0</td>\n",
       "      <td>0</td>\n",
       "      <td>0.0</td>\n",
       "      <td>2015-04-02</td>\n",
       "      <td>test</td>\n",
       "      <td>0</td>\n",
       "    </tr>\n",
       "  </tbody>\n",
       "</table>\n",
       "<p>5 rows × 27 columns</p>\n",
       "</div>"
      ],
      "text/plain": [
       "                    time  index  temperature_C  humidity  windspeed_kph  \\\n",
       "4360 2015-04-02 00:00:00   4360            3.0        81           22.2   \n",
       "4361 2015-04-02 00:30:00   4361            3.0        75           22.2   \n",
       "4362 2015-04-02 01:00:00   4362            4.0        70           20.4   \n",
       "4363 2015-04-02 01:30:00   4363            3.0        75           13.0   \n",
       "4364 2015-04-02 02:00:00   4364            3.0        75           20.4   \n",
       "\n",
       "      wind_direction_degres wind_direction  pressure_mBar  visibility_km  \\\n",
       "4360                    270           West           1014           10.0   \n",
       "4361                    280           West           1013           10.0   \n",
       "4362                    290            WNW           1013           10.0   \n",
       "4363                    250            WSW           1014           10.0   \n",
       "4364                    230             SW           1014           10.0   \n",
       "\n",
       "      wind_chill_C  ...  hour  time_of_day  month  month_str bad_weather  \\\n",
       "4360          -1.7  ...     0    LateNight      4        Apr           0   \n",
       "4361          -1.7  ...     0    LateNight      4        Apr           0   \n",
       "4362          -0.2  ...     1    LateNight      4        Apr           0   \n",
       "4363          -0.3  ...     1    LateNight      4        Apr           0   \n",
       "4364          -1.5  ...     2    LateNight      4        Apr           0   \n",
       "\n",
       "     severe_weather trip_count        date   set  weekend  \n",
       "4360              0        0.0  2015-04-02  test        0  \n",
       "4361              0        0.0  2015-04-02  test        0  \n",
       "4362              0        0.0  2015-04-02  test        0  \n",
       "4363              0        0.0  2015-04-02  test        0  \n",
       "4364              0        0.0  2015-04-02  test        0  \n",
       "\n",
       "[5 rows x 27 columns]"
      ]
     },
     "execution_count": 9,
     "metadata": {},
     "output_type": "execute_result"
    }
   ],
   "source": [
    "test_df.head()"
   ]
  },
  {
   "cell_type": "code",
   "execution_count": 10,
   "id": "9ff78402",
   "metadata": {},
   "outputs": [
    {
     "data": {
      "text/plain": [
       "1437"
      ]
     },
     "execution_count": 10,
     "metadata": {},
     "output_type": "execute_result"
    }
   ],
   "source": [
    "test_df.shape[0] # Number of Records in the Test Set"
   ]
  },
  {
   "cell_type": "code",
   "execution_count": 11,
   "id": "7b96ddc1",
   "metadata": {},
   "outputs": [
    {
     "data": {
      "text/plain": [
       "0"
      ]
     },
     "execution_count": 11,
     "metadata": {},
     "output_type": "execute_result"
    }
   ],
   "source": [
    "test_df['trip_count'].isnull().sum()  "
   ]
  },
  {
   "cell_type": "markdown",
   "id": "89c91c12",
   "metadata": {},
   "source": [
    "**Looks like it worked!!**"
   ]
  },
  {
   "cell_type": "code",
   "execution_count": 12,
   "id": "093a22f7",
   "metadata": {},
   "outputs": [
    {
     "name": "stderr",
     "output_type": "stream",
     "text": [
      "C:\\Users\\gsant\\AppData\\Local\\Temp\\ipykernel_7172\\421185300.py:1: SettingWithCopyWarning: \n",
      "A value is trying to be set on a copy of a slice from a DataFrame\n",
      "\n",
      "See the caveats in the documentation: https://pandas.pydata.org/pandas-docs/stable/user_guide/indexing.html#returning-a-view-versus-a-copy\n",
      "  test_df.drop(columns=['set'], inplace=True) # Drop the 'set' and 'date' columns from the test set\n",
      "C:\\Users\\gsant\\AppData\\Local\\Temp\\ipykernel_7172\\421185300.py:2: SettingWithCopyWarning: \n",
      "A value is trying to be set on a copy of a slice from a DataFrame\n",
      "\n",
      "See the caveats in the documentation: https://pandas.pydata.org/pandas-docs/stable/user_guide/indexing.html#returning-a-view-versus-a-copy\n",
      "  train_df.drop(columns=['set'], inplace=True) # Drop the 'set' and 'date' columns from the train set\n"
     ]
    }
   ],
   "source": [
    "test_df.drop(columns=['set'], inplace=True) # Drop the 'set' and 'date' columns from the test set\n",
    "train_df.drop(columns=['set'], inplace=True) # Drop the 'set' and 'date' columns from the train set"
   ]
  },
  {
   "cell_type": "code",
   "execution_count": 13,
   "id": "14c700ea",
   "metadata": {},
   "outputs": [
    {
     "data": {
      "text/plain": [
       "Index(['time', 'index', 'temperature_C', 'humidity', 'windspeed_kph',\n",
       "       'wind_direction_degres', 'wind_direction', 'pressure_mBar',\n",
       "       'visibility_km', 'wind_chill_C', 'fog', 'rain', 'snow', 'thunder',\n",
       "       'temperature_bin', 'wind_chill_bin', 'humidity_bin', 'hour',\n",
       "       'time_of_day', 'month', 'month_str', 'bad_weather', 'severe_weather',\n",
       "       'trip_count', 'date', 'weekend'],\n",
       "      dtype='object')"
      ]
     },
     "execution_count": 13,
     "metadata": {},
     "output_type": "execute_result"
    }
   ],
   "source": [
    "train_df.columns # Check the columns in the train_df"
   ]
  },
  {
   "cell_type": "code",
   "execution_count": null,
   "id": "8ce06b9b",
   "metadata": {},
   "outputs": [],
   "source": [
    "# Save the train and test sets to CSV files\n",
    "train_df.to_csv('train_df.csv', index=False)\n",
    "test_df.to_csv('test_df.csv', index=False)"
   ]
  }
 ],
 "metadata": {
  "kernelspec": {
   "display_name": "Python 3",
   "language": "python",
   "name": "python3"
  },
  "language_info": {
   "codemirror_mode": {
    "name": "ipython",
    "version": 3
   },
   "file_extension": ".py",
   "mimetype": "text/x-python",
   "name": "python",
   "nbconvert_exporter": "python",
   "pygments_lexer": "ipython3",
   "version": "3.12.10"
  }
 },
 "nbformat": 4,
 "nbformat_minor": 5
}
