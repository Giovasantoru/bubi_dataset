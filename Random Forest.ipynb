{
 "cells": [
  {
   "cell_type": "code",
   "execution_count": null,
   "id": "ea589476",
   "metadata": {},
   "outputs": [],
   "source": [
    "import pandas as pd\n",
    "import numpy as np\n",
    "import matplotlib.pyplot as plt\n",
    "import seaborn as sns   \n",
    "from sklearn.model_selection import TimeSeriesSplit, GridSearchCV\n",
    "from sklearn.ensemble import RandomForestRegressor\n",
    "from sklearn.metrics import mean_squared_error"
   ]
  },
  {
   "cell_type": "markdown",
   "id": "a52da40c",
   "metadata": {},
   "source": [
    "Importing the datasets"
   ]
  },
  {
   "cell_type": "code",
   "execution_count": 4,
   "id": "94141e89",
   "metadata": {},
   "outputs": [],
   "source": [
    "train_df = pd.read_csv('train_df.csv')\n",
    "test_df = pd.read_csv('test_df.csv')   "
   ]
  },
  {
   "cell_type": "code",
   "execution_count": 11,
   "id": "6516a62e",
   "metadata": {},
   "outputs": [
    {
     "name": "stdout",
     "output_type": "stream",
     "text": [
      "Fitting 5 folds for each of 96 candidates, totalling 480 fits\n",
      "Best parameters: {'max_depth': None, 'max_features': 9, 'min_samples_leaf': 1, 'min_samples_split': 2, 'n_estimators': 200}\n",
      "Best CV score (MSE): 88.83923015039775\n",
      "Validation RMSE: 9.278598986353662\n"
     ]
    }
   ],
   "source": [
    "# --- Define Feature Set ---\n",
    "# Here, we select a preliminary set of features.\n",
    "# Adjust the list below based on your final variable names.\n",
    "feature_cols = ['temperature_C', 'humidity', 'windspeed_kph', 'rain', 'snow', 'thunder',\n",
    "                 'weekend', 'visibility_km', 'pressure_mBar', 'wind_chill_C', 'wind_direction', 'time_of_day', 'month_str', 'hour', 'month_str', 'wind_chill_bin'] \n",
    "\n",
    "X = train_df[feature_cols]\n",
    "y = train_df['trip_count']\n",
    "\n",
    "# Optionally, perform any necessary preprocessing such as encoding categorical variables.\n",
    "# For example, using one-hot encoding for categorical variables:\n",
    "X = pd.get_dummies(X, columns=['time_of_day', 'month_str', 'wind_direction', 'wind_chill_bin'], drop_first=True)\n",
    "\n",
    "# Split data into training and local validation sets.\n",
    "X_train, X_val, y_train, y_val = train_test_split(X, y, test_size=0.2, random_state=42)\n",
    "\n",
    "# --- Model Setup ---\n",
    "rf = RandomForestRegressor(random_state=42)\n",
    "\n",
    "# Define the grid search parameters (including max_features interval tuning)\n",
    "param_grid = {\n",
    "    'n_estimators': [100, 200],\n",
    "    'max_depth': [None, 10, 20],\n",
    "    'min_samples_split': [2, 5],\n",
    "    'min_samples_leaf': [1, 2],\n",
    "    'max_features': [3, 5, 7, 9]\n",
    "}\n",
    "\n",
    "grid_cv = GridSearchCV(\n",
    "    estimator=rf,\n",
    "    param_grid=param_grid,\n",
    "    cv=5,\n",
    "    scoring='neg_mean_squared_error',\n",
    "    n_jobs=-1,\n",
    "    verbose=1\n",
    ")\n",
    "\n",
    "# Run grid search\n",
    "grid_cv.fit(X_train, y_train)\n",
    "\n",
    "# Best parameters and cross-validation score\n",
    "print(\"Best parameters:\", grid_cv.best_params_)\n",
    "print(\"Best CV score (MSE):\", -grid_cv.best_score_)\n",
    "\n",
    "# Evaluate on local validation set\n",
    "best_rf = grid_cv.best_estimator_\n",
    "y_pred = best_rf.predict(X_val)\n",
    "rmse = np.sqrt(mean_squared_error(y_val, y_pred))\n",
    "print(\"Validation RMSE:\", rmse)\n"
   ]
  },
  {
   "cell_type": "code",
   "execution_count": null,
   "id": "2c3109ac",
   "metadata": {},
   "outputs": [
    {
     "data": {
      "text/plain": [
       "402"
      ]
     },
     "execution_count": 17,
     "metadata": {},
     "output_type": "execute_result"
    }
   ],
   "source": [
    "train_df[train_df['trip_count']==0].shape[0] # 0.0"
   ]
  },
  {
   "cell_type": "code",
   "execution_count": 6,
   "id": "dcc5700f",
   "metadata": {},
   "outputs": [
    {
     "data": {
      "text/plain": [
       "count    5798.000000\n",
       "mean       22.699897\n",
       "std        26.175480\n",
       "min         0.000000\n",
       "25%         5.000000\n",
       "50%        14.000000\n",
       "75%        30.000000\n",
       "max       187.000000\n",
       "Name: trip_count, dtype: float64"
      ]
     },
     "execution_count": 6,
     "metadata": {},
     "output_type": "execute_result"
    }
   ],
   "source": [
    "train_df['trip_count'].describe()"
   ]
  },
  {
   "cell_type": "code",
   "execution_count": 7,
   "id": "66b8fda0",
   "metadata": {},
   "outputs": [
    {
     "data": {
      "text/plain": [
       "<Axes: xlabel='trip_count', ylabel='Count'>"
      ]
     },
     "execution_count": 7,
     "metadata": {},
     "output_type": "execute_result"
    },
    {
     "data": {
      "image/png": "[encoded data removed]",
      "text/plain": [
       "<Figure size 640x480 with 1 Axes>"
      ]
     },
     "metadata": {},
     "output_type": "display_data"
    }
   ],
   "source": [
    "sns.histplot(train_df['trip_count'], bins=30, kde=True)"
   ]
  },
  {
   "cell_type": "markdown",
   "id": "816c222f",
   "metadata": {},
   "source": [
    "### Next Steps\n",
    "\n",
    "#### Fine-tuning and Feature Engineering:\n",
    "- Experiment with adding interactions or new features (e.g., combining weather with time-of-day or lagged values of trip counts) to see if performance improves.\n",
    "- Consider including the binned versions of temperature and wind chill if the continuous values don't capture non-linear effects sufficiently.\n",
    "\n",
    "#### Validation Strategy:\n",
    "- Given the time-series nature of your data, ensure your validation scheme respects temporal ordering—perhaps using time-based splits (e.g., rolling or expanding windows) rather than random splits.\n",
    "\n",
    "#### Model Comparison:\n",
    "- Although Random Forests are strong, you might later compare performance with other models (like XGBoost, Prophet with regressors, or GLMs) to check if further improvements are possible.\n",
    "\n",
    "#### External Evaluation:\n",
    "- Once satisfied with your performance on the validation set, proceed with generating predictions for the withheld test set. \n",
    "- Remember that withheld labels are intended to assess generalization.\n"
   ]
  },
  {
   "cell_type": "markdown",
   "id": "15dc7012",
   "metadata": {},
   "source": [
    "When dealing with time series or any data with temporal trends, random splits can mix up past and future data. This may lead to overly optimistic performance estimates because the model might inadvertently “learn” from future data when predicting past events"
   ]
  },
  {
   "cell_type": "code",
   "execution_count": null,
   "id": "83b64387",
   "metadata": {},
   "outputs": [],
   "source": [
    "# --- PREPARE DATA ---\n",
    "# Assume train_df is your training DataFrame already loaded in memory\n",
    "\n",
    "# Define feature columns – adjust based on your actual DataFrame column names\n",
    "feature_cols = [\n",
    "    'temperature_C', 'humidity', 'windspeed_kph', \n",
    "    'pressure_mBar', 'visibility_km', 'wind_chill_C', \n",
    "    'time_of_day', 'month_str', 'wind_direction',\n",
    "    'weekend', 'fog', 'rain', 'snow', 'thunder'\n",
    "]\n",
    "\n",
    "# Extract features and target\n",
    "X = train_df[feature_cols]\n",
    "y = train_df['trip_count']\n",
    "\n",
    "# Perform one-hot encoding for the categorical variables.\n",
    "# drop_first=True removes the first category to avoid multicollinearity.\n",
    "X = pd.get_dummies(X, columns=['time_of_day', 'month_str', 'wind_direction'], drop_first=True)\n",
    "\n",
    "# --- MODEL SETUP & GRID SEARCH WITH TIMESERIES SPLIT ---\n",
    "# Instantiate the time series splitter (n_splits defines the number of folds)\n",
    "tscv = TimeSeriesSplit(n_splits=5)\n",
    "\n",
    "# Set up the RandomForestRegressor\n",
    "rf = RandomForestRegressor(random_state=42)\n",
    "\n",
    "# Define grid search parameters\n",
    "param_grid = {\n",
    "    'n_estimators': [100, 200],\n",
    "    'max_depth': [None, 10, 20],\n",
    "    'min_samples_split': [2, 5],\n",
    "    'min_samples_leaf': [1, 2],\n",
    "    'max_features': [3, 5, 7, 9]\n",
    "}\n",
    "\n",
    "# Set up grid search with TimeSeriesSplit.\n",
    "# The cv parameter now uses tscv to ensure our cross-validation maintains the time order.\n",
    "grid_cv = GridSearchCV(\n",
    "    estimator=rf,\n",
    "    param_grid=param_grid,\n",
    "    cv=tscv,\n",
    "    scoring='neg_mean_squared_error',\n",
    "    n_jobs=-1,\n",
    "    verbose=1\n",
    ")\n",
    "\n",
    "# Run grid search on the entire training set using TimeSeriesSplit for cross-validation.\n",
    "grid_cv.fit(X, y)\n",
    "\n",
    "# Display best parameters and best CV score (remember, scoring returns negative MSE so we negate it)\n",
    "print(\"Best parameters:\", grid_cv.best_params_)\n",
    "print(\"Best CV score (MSE):\", -grid_cv.best_score_)\n"
   ]
  }
 ],
 "metadata": {
  "kernelspec": {
   "display_name": "Python 3",
   "language": "python",
   "name": "python3"
  },
  "language_info": {
   "codemirror_mode": {
    "name": "ipython",
    "version": 3
   },
   "file_extension": ".py",
   "mimetype": "text/x-python",
   "name": "python",
   "nbconvert_exporter": "python",
   "pygments_lexer": "ipython3",
   "version": "3.12.9"
  }
 },
 "nbformat": 4,
 "nbformat_minor": 5
}
