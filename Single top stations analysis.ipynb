{
 "cells": [
  {
   "cell_type": "code",
   "execution_count": 1,
   "id": "de02754d",
   "metadata": {},
   "outputs": [],
   "source": [
    "import pandas as pd\n",
    "import numpy as np          \n",
    "import matplotlib.pyplot as plt\n",
    "import seaborn as sns   \n",
    "import statsmodels.api as sm\n",
    "import statsmodels.formula.api as smf\n",
    "from numpy import log"
   ]
  },
  {
   "cell_type": "code",
   "execution_count": 2,
   "id": "3b3f95f7",
   "metadata": {},
   "outputs": [],
   "source": [
    "df = pd.read_csv('top_stations.csv')"
   ]
  },
  {
   "cell_type": "code",
   "execution_count": 3,
   "id": "cd66347a",
   "metadata": {},
   "outputs": [
    {
     "name": "stderr",
     "output_type": "stream",
     "text": [
      "C:\\Users\\gsant\\AppData\\Local\\Packages\\PythonSoftwareFoundation.Python.3.12_qbz5n2kfra8p0\\LocalCache\\local-packages\\Python312\\site-packages\\statsmodels\\genmod\\families\\family.py:1367: ValueWarning: Negative binomial dispersion parameter alpha not set. Using default value alpha=1.0.\n",
      "  warnings.warn(\"Negative binomial dispersion parameter alpha not \"\n",
      "C:\\Users\\gsant\\AppData\\Local\\Packages\\PythonSoftwareFoundation.Python.3.12_qbz5n2kfra8p0\\LocalCache\\local-packages\\Python312\\site-packages\\statsmodels\\genmod\\families\\family.py:1367: ValueWarning: Negative binomial dispersion parameter alpha not set. Using default value alpha=1.0.\n",
      "  warnings.warn(\"Negative binomial dispersion parameter alpha not \"\n",
      "C:\\Users\\gsant\\AppData\\Local\\Packages\\PythonSoftwareFoundation.Python.3.12_qbz5n2kfra8p0\\LocalCache\\local-packages\\Python312\\site-packages\\statsmodels\\genmod\\families\\family.py:1367: ValueWarning: Negative binomial dispersion parameter alpha not set. Using default value alpha=1.0.\n",
      "  warnings.warn(\"Negative binomial dispersion parameter alpha not \"\n",
      "C:\\Users\\gsant\\AppData\\Local\\Packages\\PythonSoftwareFoundation.Python.3.12_qbz5n2kfra8p0\\LocalCache\\local-packages\\Python312\\site-packages\\statsmodels\\genmod\\families\\family.py:1367: ValueWarning: Negative binomial dispersion parameter alpha not set. Using default value alpha=1.0.\n",
      "  warnings.warn(\"Negative binomial dispersion parameter alpha not \"\n",
      "C:\\Users\\gsant\\AppData\\Local\\Packages\\PythonSoftwareFoundation.Python.3.12_qbz5n2kfra8p0\\LocalCache\\local-packages\\Python312\\site-packages\\statsmodels\\genmod\\families\\family.py:1367: ValueWarning: Negative binomial dispersion parameter alpha not set. Using default value alpha=1.0.\n",
      "  warnings.warn(\"Negative binomial dispersion parameter alpha not \"\n",
      "C:\\Users\\gsant\\AppData\\Local\\Packages\\PythonSoftwareFoundation.Python.3.12_qbz5n2kfra8p0\\LocalCache\\local-packages\\Python312\\site-packages\\statsmodels\\genmod\\families\\family.py:1367: ValueWarning: Negative binomial dispersion parameter alpha not set. Using default value alpha=1.0.\n",
      "  warnings.warn(\"Negative binomial dispersion parameter alpha not \"\n",
      "C:\\Users\\gsant\\AppData\\Local\\Packages\\PythonSoftwareFoundation.Python.3.12_qbz5n2kfra8p0\\LocalCache\\local-packages\\Python312\\site-packages\\statsmodels\\genmod\\families\\family.py:1367: ValueWarning: Negative binomial dispersion parameter alpha not set. Using default value alpha=1.0.\n",
      "  warnings.warn(\"Negative binomial dispersion parameter alpha not \"\n",
      "C:\\Users\\gsant\\AppData\\Local\\Packages\\PythonSoftwareFoundation.Python.3.12_qbz5n2kfra8p0\\LocalCache\\local-packages\\Python312\\site-packages\\statsmodels\\genmod\\families\\family.py:1367: ValueWarning: Negative binomial dispersion parameter alpha not set. Using default value alpha=1.0.\n",
      "  warnings.warn(\"Negative binomial dispersion parameter alpha not \"\n"
     ]
    }
   ],
   "source": [
    "# Get unique stations from the aggregated data\n",
    "stations = df['place_id'].unique()\n",
    "\n",
    "# Dictionary to store the regression results for each station\n",
    "station_results = {}\n",
    "\n",
    "# Define the regression formula\n",
    "formula = (\"trip_count ~ max_temp + avg_humidity + min_temp + avg_windspeed + pressure_change + \"\n",
    "           \"avg_pressure + avg_visibility + bad_weather_half_hours + trip_count_lag1 + \"\n",
    "           \"C(time_of_day) + C(month) + C(weekend)\")\n",
    "\n",
    "for station in stations:\n",
    "    # Subset data for the current station\n",
    "    subset = df[df['place_id'] == station].copy()\n",
    "    \n",
    "    # Negative Binomial regression for this station\n",
    "    model_station = smf.glm(formula=formula,\n",
    "                            data=subset,\n",
    "                            family=sm.families.NegativeBinomial()).fit()\n",
    "    \n",
    "    # Store the model summary for the station\n",
    "    station_results[station] = model_station.summary()"
   ]
  },
  {
   "cell_type": "code",
   "execution_count": 4,
   "id": "685c2cc1",
   "metadata": {},
   "outputs": [
    {
     "data": {
      "text/plain": [
       "array([ 515,  517,  607,  609,  611,  905, 1101, 1304], dtype=int64)"
      ]
     },
     "execution_count": 4,
     "metadata": {},
     "output_type": "execute_result"
    }
   ],
   "source": [
    "df['place_id'].unique()"
   ]
  },
  {
   "cell_type": "markdown",
   "id": "c9b3c635",
   "metadata": {},
   "source": [
    "### Station 611: Nyugati tér"
   ]
  },
  {
   "cell_type": "code",
   "execution_count": 5,
   "id": "710a350f",
   "metadata": {},
   "outputs": [
    {
     "data": {
      "text/plain": [
       "2530    Nyugati tér\n",
       "Name: place_name, dtype: object"
      ]
     },
     "execution_count": 5,
     "metadata": {},
     "output_type": "execute_result"
    }
   ],
   "source": [
    "df[df['place_id']==611]['place_name'].head(1)"
   ]
  },
  {
   "cell_type": "code",
   "execution_count": 6,
   "id": "297a3326",
   "metadata": {},
   "outputs": [
    {
     "name": "stdout",
     "output_type": "stream",
     "text": [
      "                 Generalized Linear Model Regression Results                  \n",
      "==============================================================================\n",
      "Dep. Variable:             trip_count   No. Observations:                  648\n",
      "Model:                            GLM   Df Residuals:                      627\n",
      "Model Family:        NegativeBinomial   Df Model:                           20\n",
      "Link Function:                    Log   Scale:                          1.0000\n",
      "Method:                          IRLS   Log-Likelihood:                -1603.9\n",
      "Date:                Tue, 15 Apr 2025   Deviance:                       121.77\n",
      "Time:                        11:40:41   Pearson chi2:                     128.\n",
      "No. Iterations:                     7   Pseudo R-squ. (CS):             0.2682\n",
      "Covariance Type:            nonrobust                                         \n",
      "=======================================================================================================\n",
      "                                          coef    std err          z      P>|z|      [0.025      0.975]\n",
      "-------------------------------------------------------------------------------------------------------\n",
      "Intercept                              -3.7166      6.703     -0.554      0.579     -16.854       9.421\n",
      "C(time_of_day)[T.Early Afternoon]       0.0028      0.159      0.018      0.986      -0.308       0.314\n",
      "C(time_of_day)[T.Evening]               0.0357      0.170      0.210      0.834      -0.298       0.370\n",
      "C(time_of_day)[T.Late Night]           -0.2213      0.234     -0.944      0.345      -0.681       0.238\n",
      "C(time_of_day)[T.Morning]              -0.3882      0.167     -2.325      0.020      -0.715      -0.061\n",
      "C(time_of_day)[T.Morning Rush Hour]    -0.6073      0.198     -3.071      0.002      -0.995      -0.220\n",
      "C(time_of_day)[T.Night]                -0.4945      0.186     -2.659      0.008      -0.859      -0.130\n",
      "C(month)[T.2]                           0.0251      0.142      0.177      0.859      -0.253       0.303\n",
      "C(month)[T.3]                           0.1144      0.166      0.689      0.491      -0.211       0.440\n",
      "C(month)[T.4]                           0.1154      0.232      0.498      0.619      -0.339       0.570\n",
      "C(month)[T.5]                           0.1607      0.251      0.641      0.522      -0.331       0.652\n",
      "C(weekend)[T.1]                        -0.3090      0.109     -2.837      0.005      -0.522      -0.096\n",
      "max_temp                                0.1457      0.034      4.268      0.000       0.079       0.213\n",
      "avg_humidity                           -0.0029      0.004     -0.725      0.468      -0.011       0.005\n",
      "min_temp                               -0.1036      0.035     -2.961      0.003      -0.172      -0.035\n",
      "avg_windspeed                           0.0008      0.007      0.129      0.897      -0.012       0.014\n",
      "pressure_change                         0.2028      0.073      2.768      0.006       0.059       0.346\n",
      "avg_pressure                            0.0051      0.006      0.789      0.430      -0.008       0.018\n",
      "avg_visibility                         -0.0258      0.030     -0.866      0.386      -0.084       0.033\n",
      "bad_weather_half_hours                  0.0387      0.054      0.718      0.473      -0.067       0.144\n",
      "trip_count_lag1                        -0.0073      0.015     -0.479      0.632      -0.037       0.022\n",
      "=======================================================================================================\n"
     ]
    }
   ],
   "source": [
    "print(station_results[611])  # Print the summary for station 611"
   ]
  },
  {
   "cell_type": "markdown",
   "id": "20617439",
   "metadata": {},
   "source": [
    "### Nyugati tér Station (Station 611) – Regression Results Interpretation\n",
    "\n",
    "**Context:**  \n",
    "Nyugati tér is one of the most common end stations, recording the highest number of trips. It is a major transportation hub in central Budapest, located near the WestEnd shopping mall and the Nyugati Railway Station. This area is bustling with commuters, tourists, and has strong public transport connections (Metro M3, trams 4 and 6), which may contribute to the observed trip patterns.\n",
    "\n",
    "---\n",
    "\n",
    "#### Month & Weekend Effects  \n",
    "- **Results:**  \n",
    "  - The coefficients for Month [T.2], [T.3], [T.4], [T.5], are **not statistically significant** (p > 0.05).\n",
    "  - Weekend has a **significant  negative effect**\n",
    "\n",
    "- **Interpretation:**  \n",
    "  - There is **no clear seasonal effect** on trip counts at Station 611. Usage appears consistent regardless of the month but the usage appears to diminsh during the weekends compared to working days weekend.\n",
    "\n",
    "---\n",
    "\n",
    "#### Weather Variables  \n",
    "- **Max Temperature:**  \n",
    "  - **Coefficient:** exp(0.0712) ≈ 1.07  \n",
    "  - **p-value:** 0.756  \n",
    "- **Min Temperature:**  \n",
    "  - **Coefficient:** exp(−0.0833) ≈ 0.92  \n",
    "  - **p-value:** 0.651  \n",
    "- **Other Weather Factors: \n",
    "   - Avg Humidity, Avg Windspeed:** have p-values > 0.05.\n",
    "   - Pressure change has a significant positive effect. \n",
    "- **Interpretation:**  \n",
    "  - **No strong evidence** that day-to-day variations in temperature, humidity, wind, or minor “bad weather” events affect trip counts at Station 611.\n",
    "  - This suggests that the station’s trafficc is **comparatively insensitive to typical weather fluctuations**.\n",
    "  - A potential explanation is that many users are commuters or short-distance travelers who rely on this hub regardless of moderate weather changes.\n",
    "\n",
    "---\n",
    "\n",
    "#### Time-of-Day Effects  \n",
    "- **Result:**  \n",
    "  - Time of Day is the **primary factor** influencing trip counts at this location.\n",
    "  - The **morning period** shows significantly fewer trips compared to the baseline period (likely Afternoon Rush Hour).\n",
    "  - Other dayparts exhibit non-significant differences relative to the baseline.\n",
    "\n",
    "- **Interpretation:**  \n",
    "  - The strong impact of the time of day indicates that the station's usage is more closely linked with daily commuting patterns rather than weather conditions.\n",
    "\n",
    "---\n",
    "\n",
    "### **Conclusion**\n",
    "\n",
    "- **Weather Variables:**  \n",
    "  Weather variables (temperature, humidity, wind speed, etc.) are **not significant** predictors of trip counts at Nyugati tér.  \n",
    "- **Overall Impact:**  \n",
    "  - The data indicate that **Nyugati tér Station's usage is robust to typical weather fluctuations**.\n",
    "  - This robustness may be due to heavy usage by commuters and travelers who depend on the station for connecting to other public transport options.\n",
    "- **Implications for Policy/Planning:**  \n",
    "  - Efforts to maintain or enhance service quality at this hub might focus more on managing peak time demands rather than weather mitigation strategies.\n",
    "\n",
    "This analysis supports the hypothesis that strategic end stations like Nyugati tér are relatively **less affected by weather factors**, primarily because their user base is driven by consistent, weather-insensitive travel needs.\n"
   ]
  },
  {
   "cell_type": "markdown",
   "id": "b4a7ba79",
   "metadata": {},
   "source": [
    "### Station 517: Városháza Park"
   ]
  },
  {
   "cell_type": "code",
   "execution_count": 7,
   "id": "7cbe919a",
   "metadata": {},
   "outputs": [
    {
     "data": {
      "text/plain": [
       "609    Városháza Park\n",
       "Name: place_name, dtype: object"
      ]
     },
     "execution_count": 7,
     "metadata": {},
     "output_type": "execute_result"
    }
   ],
   "source": [
    "df[df['place_id']==517]['place_name'].head(1)"
   ]
  },
  {
   "cell_type": "code",
   "execution_count": 8,
   "id": "949792f0",
   "metadata": {},
   "outputs": [
    {
     "name": "stdout",
     "output_type": "stream",
     "text": [
      "                 Generalized Linear Model Regression Results                  \n",
      "==============================================================================\n",
      "Dep. Variable:             trip_count   No. Observations:                  640\n",
      "Model:                            GLM   Df Residuals:                      619\n",
      "Model Family:        NegativeBinomial   Df Model:                           20\n",
      "Link Function:                    Log   Scale:                          1.0000\n",
      "Method:                          IRLS   Log-Likelihood:                -1518.3\n",
      "Date:                Tue, 15 Apr 2025   Deviance:                       122.16\n",
      "Time:                        11:40:41   Pearson chi2:                     128.\n",
      "No. Iterations:                     8   Pseudo R-squ. (CS):             0.2877\n",
      "Covariance Type:            nonrobust                                         \n",
      "=======================================================================================================\n",
      "                                          coef    std err          z      P>|z|      [0.025      0.975]\n",
      "-------------------------------------------------------------------------------------------------------\n",
      "Intercept                              -4.0520      6.588     -0.615      0.539     -16.965       8.861\n",
      "C(time_of_day)[T.Early Afternoon]       0.2162      0.163      1.329      0.184      -0.103       0.535\n",
      "C(time_of_day)[T.Evening]               0.0609      0.171      0.357      0.721      -0.273       0.395\n",
      "C(time_of_day)[T.Late Night]            0.1146      0.215      0.534      0.593      -0.306       0.535\n",
      "C(time_of_day)[T.Morning]              -0.2233      0.174     -1.286      0.198      -0.564       0.117\n",
      "C(time_of_day)[T.Morning Rush Hour]    -0.2842      0.199     -1.426      0.154      -0.675       0.107\n",
      "C(time_of_day)[T.Night]                -0.0136      0.194     -0.070      0.944      -0.394       0.366\n",
      "C(month)[T.2]                           0.2219      0.154      1.444      0.149      -0.079       0.523\n",
      "C(month)[T.3]                           0.2805      0.176      1.594      0.111      -0.064       0.625\n",
      "C(month)[T.4]                           0.4990      0.235      2.125      0.034       0.039       0.959\n",
      "C(month)[T.5]                           0.5744      0.267      2.153      0.031       0.052       1.097\n",
      "C(weekend)[T.1]                        -0.0702      0.107     -0.658      0.510      -0.279       0.139\n",
      "max_temp                                0.1753      0.032      5.507      0.000       0.113       0.238\n",
      "avg_humidity                           -0.0021      0.004     -0.537      0.591      -0.010       0.006\n",
      "min_temp                               -0.1405      0.033     -4.316      0.000      -0.204      -0.077\n",
      "avg_windspeed                          -0.0030      0.007     -0.453      0.650      -0.016       0.010\n",
      "pressure_change                         0.1888      0.077      2.455      0.014       0.038       0.340\n",
      "avg_pressure                            0.0048      0.006      0.754      0.451      -0.008       0.017\n",
      "avg_visibility                         -0.0215      0.031     -0.694      0.488      -0.082       0.039\n",
      "bad_weather_half_hours                  0.0672      0.049      1.371      0.170      -0.029       0.163\n",
      "trip_count_lag1                        -0.0011      0.015     -0.074      0.941      -0.030       0.028\n",
      "=======================================================================================================\n"
     ]
    }
   ],
   "source": [
    "print(station_results[517]) "
   ]
  },
  {
   "cell_type": "markdown",
   "id": "7f8003b2",
   "metadata": {},
   "source": [
    "**Városháza Park Station – Regression Results Interpretation**\n",
    "\n",
    "**Context:**  \n",
    "Városháza Park is located near the City Hall in central Budapest, an area that can attract both residents and tourists. \n",
    "\n",
    "---\n",
    "\n",
    "### Time-of-Day Effects  \n",
    "- **Baseline:** Afternoon Rush Hour (implied reference).  \n",
    "- **Coefficients (Morning, Evening, etc.)** are **not statistically significant** (p > 0.05).  \n",
    "  - *Interpretation:* There is no strong evidence that time-of-day segments differ from Afternoon Rush Hour in terms of trip counts for this station.\n",
    "\n",
    "---\n",
    "\n",
    "### Month & Weekend Effects  \n",
    "- **Month [T.2], [T.3], [T.4], [T.5]** and **Weekend** have **p > 0.05**.  \n",
    "  - *Interpretation:* No clear seasonal or weekend pattern emerges. Usage appears relatively stable across months and weekdays/weekends.\n",
    "\n",
    "---\n",
    "\n",
    "### Weather Variables  \n",
    "- **Max Temp (coef ≈ 0.1790, p=0.572)**  \n",
    "- **Min Temp (coef ≈ 0.0343, p=0.858)**  \n",
    "- **Avg Humidity, Avg Windspeed, Avg Visibility, Bad Weather Half Hours**  \n",
    "  - All show **p-values > 0.05**.  \n",
    "  - *Interpretation:* No statistically significant influence of these weather factors on bike trips to Városháza Park.\n",
    "\n",
    "#### **Pressure Change** (coef ≈ 0.1951, p=0.074)  \n",
    "- Borderline significance (p just above 0.05).  \n",
    "  - If we exponentiate the coefficient, `exp(0.1951) ≈ 1.215`, implying a potential 21.5% increase in trips with each unit increase in pressure change.  \n",
    "  - Since p=0.074 > 0.05, this effect is **not conventionally significant** but could merit a cautious note.\n",
    "\n",
    "---\n",
    "\n",
    "### **Conclusion on Weather Sensitivity**  \n",
    "- **Overall Finding:** Temperature (both Max and Min) emerges as a **strong predictor** of trip counts to Városháza Park, while other weather predictors (wind, humidity, etc.) show no significant effects.   \n",
    "- **Implication:** Trips ending at Városháza Park seem **largely unaffected by day-to-day weather variations**, suggesting that other factors (like local attractions, short-distance or routine usage) may dominate ridership decisions at this station.\n",
    "\n"
   ]
  },
  {
   "cell_type": "code",
   "execution_count": null,
   "id": "ebb816c6",
   "metadata": {},
   "outputs": [
    {
     "data": {
      "text/plain": [
       "1867    Kálvin tér\n",
       "Name: place_name, dtype: object"
      ]
     },
     "execution_count": 20,
     "metadata": {},
     "output_type": "execute_result"
    }
   ],
   "source": [
    "df[df['place_id']==905]['place_name'].head(1)"
   ]
  },
  {
   "cell_type": "code",
   "execution_count": null,
   "id": "b204066f",
   "metadata": {},
   "outputs": [
    {
     "name": "stdout",
     "output_type": "stream",
     "text": [
      "                 Generalized Linear Model Regression Results                  \n",
      "==============================================================================\n",
      "Dep. Variable:             trip_count   No. Observations:                  687\n",
      "Model:                            GLM   Df Residuals:                      666\n",
      "Model Family:        NegativeBinomial   Df Model:                           20\n",
      "Link Function:                    Log   Scale:                          1.0000\n",
      "Method:                          IRLS   Log-Likelihood:                -1750.3\n",
      "Date:                Mon, 14 Apr 2025   Deviance:                       136.57\n",
      "Time:                        12:39:35   Pearson chi2:                     140.\n",
      "No. Iterations:                     8   Pseudo R-squ. (CS):             0.3447\n",
      "Covariance Type:            nonrobust                                         \n",
      "=======================================================================================================\n",
      "                                          coef    std err          z      P>|z|      [0.025      0.975]\n",
      "-------------------------------------------------------------------------------------------------------\n",
      "Intercept                              -4.5400      6.268     -0.724      0.469     -16.825       7.745\n",
      "C(time_of_day)[T.Early Afternoon]       0.1852      0.154      1.204      0.228      -0.116       0.487\n",
      "C(time_of_day)[T.Evening]              -0.1189      0.171     -0.693      0.488      -0.455       0.217\n",
      "C(time_of_day)[T.Late Night]           -0.2587      0.206     -1.258      0.209      -0.662       0.144\n",
      "C(time_of_day)[T.Morning]              -0.3662      0.160     -2.294      0.022      -0.679      -0.053\n",
      "C(time_of_day)[T.Morning Rush Hour]    -0.5541      0.194     -2.855      0.004      -0.935      -0.174\n",
      "C(time_of_day)[T.Night]                -0.1619      0.176     -0.921      0.357      -0.507       0.183\n",
      "C(month)[T.2]                           0.0353      0.141      0.251      0.802      -0.240       0.311\n",
      "C(month)[T.3]                           0.1044      0.159      0.656      0.512      -0.207       0.416\n",
      "C(month)[T.4]                           0.2574      0.212      1.212      0.226      -0.159       0.674\n",
      "C(month)[T.5]                           0.3892      0.242      1.606      0.108      -0.086       0.864\n",
      "C(weekend)[T.1]                        -0.1136      0.100     -1.141      0.254      -0.309       0.082\n",
      "max_temp                                0.1795      0.031      5.849      0.000       0.119       0.240\n",
      "avg_humidity                           -0.0047      0.004     -1.228      0.219      -0.012       0.003\n",
      "min_temp                               -0.1402      0.032     -4.407      0.000      -0.203      -0.078\n",
      "avg_windspeed                          -0.0016      0.006     -0.256      0.798      -0.014       0.010\n",
      "pressure_change                         0.1283      0.068      1.894      0.058      -0.004       0.261\n",
      "avg_pressure                            0.0059      0.006      0.975      0.329      -0.006       0.018\n",
      "avg_visibility                         -0.0257      0.030     -0.843      0.399      -0.085       0.034\n",
      "bad_weather_half_hours                  0.0410      0.058      0.713      0.476      -0.072       0.154\n",
      "trip_count_lag1                         0.0065      0.012      0.568      0.570      -0.016       0.029\n",
      "=======================================================================================================\n"
     ]
    }
   ],
   "source": [
    "print(station_results[905])"
   ]
  },
  {
   "cell_type": "markdown",
   "id": "c2d8c71e",
   "metadata": {},
   "source": [
    "**No particular differences with the other top 5 stations, besides the borderline non-significance of pressure change.**"
   ]
  },
  {
   "cell_type": "markdown",
   "id": "5bda15f7",
   "metadata": {},
   "source": [
    "Kálvin tér is a major square and intersection in the city center. It serves as a key urban hub where cultural events. Being a major thoroughfare and locality, the square is a major transport hub with tram, bus, and trolleybus routes serving the square. The Kálvin tér station on the M3 (North-South) line, and M4 of the Budapest Metro is located here.\n",
    "The Hungarian National Museum is near Kálvin tér."
   ]
  },
  {
   "cell_type": "code",
   "execution_count": 11,
   "id": "7a9ec28b",
   "metadata": {},
   "outputs": [
    {
     "data": {
      "text/plain": [
       "4460    Margitsziget \n",
       "Name: place_name, dtype: object"
      ]
     },
     "execution_count": 11,
     "metadata": {},
     "output_type": "execute_result"
    }
   ],
   "source": [
    "df[df['place_id']==1304]['place_name'].head(1)"
   ]
  },
  {
   "cell_type": "code",
   "execution_count": 12,
   "id": "0d2c6f1a",
   "metadata": {},
   "outputs": [
    {
     "name": "stdout",
     "output_type": "stream",
     "text": [
      "                 Generalized Linear Model Regression Results                  \n",
      "==============================================================================\n",
      "Dep. Variable:             trip_count   No. Observations:                  541\n",
      "Model:                            GLM   Df Residuals:                      520\n",
      "Model Family:        NegativeBinomial   Df Model:                           20\n",
      "Link Function:                    Log   Scale:                          1.0000\n",
      "Method:                          IRLS   Log-Likelihood:                -1296.7\n",
      "Date:                Tue, 15 Apr 2025   Deviance:                       114.22\n",
      "Time:                        11:40:41   Pearson chi2:                     124.\n",
      "No. Iterations:                     9   Pseudo R-squ. (CS):             0.4660\n",
      "Covariance Type:            nonrobust                                         \n",
      "=======================================================================================================\n",
      "                                          coef    std err          z      P>|z|      [0.025      0.975]\n",
      "-------------------------------------------------------------------------------------------------------\n",
      "Intercept                              -1.4364      7.607     -0.189      0.850     -16.345      13.472\n",
      "C(time_of_day)[T.Early Afternoon]       0.1723      0.176      0.981      0.327      -0.172       0.517\n",
      "C(time_of_day)[T.Evening]              -0.0733      0.204     -0.360      0.719      -0.472       0.326\n",
      "C(time_of_day)[T.Late Night]           -0.2572      0.259     -0.992      0.321      -0.765       0.251\n",
      "C(time_of_day)[T.Morning]              -0.1486      0.182     -0.814      0.415      -0.506       0.209\n",
      "C(time_of_day)[T.Morning Rush Hour]    -0.3232      0.223     -1.446      0.148      -0.761       0.115\n",
      "C(time_of_day)[T.Night]                -0.4882      0.282     -1.732      0.083      -1.040       0.064\n",
      "C(month)[T.2]                          -0.0313      0.183     -0.171      0.865      -0.390       0.328\n",
      "C(month)[T.3]                           0.0739      0.197      0.376      0.707      -0.312       0.460\n",
      "C(month)[T.4]                           0.4188      0.252      1.664      0.096      -0.074       0.912\n",
      "C(month)[T.5]                           0.5423      0.288      1.882      0.060      -0.023       1.107\n",
      "C(weekend)[T.1]                         0.4415      0.119      3.723      0.000       0.209       0.674\n",
      "max_temp                                0.1403      0.034      4.113      0.000       0.073       0.207\n",
      "avg_humidity                           -0.0098      0.004     -2.285      0.022      -0.018      -0.001\n",
      "min_temp                               -0.1026      0.035     -2.918      0.004      -0.171      -0.034\n",
      "avg_windspeed                          -0.0027      0.007     -0.411      0.681      -0.016       0.010\n",
      "pressure_change                         0.2766      0.088      3.143      0.002       0.104       0.449\n",
      "avg_pressure                            0.0029      0.007      0.398      0.691      -0.011       0.017\n",
      "avg_visibility                         -0.0398      0.035     -1.123      0.261      -0.109       0.030\n",
      "bad_weather_half_hours                  0.0682      0.070      0.969      0.333      -0.070       0.206\n",
      "trip_count_lag1                        -0.0017      0.010     -0.177      0.859      -0.021       0.017\n",
      "=======================================================================================================\n"
     ]
    }
   ],
   "source": [
    "print(station_results[1304])"
   ]
  },
  {
   "cell_type": "markdown",
   "id": "8f284fd8",
   "metadata": {},
   "source": [
    "Across the top five strategic end stations in Budapest, the results consistently indicate that only extreme temperature metrics and the magnitude of daily pressure change significantly influence trip counts. In other words, both maximum and minimum temperatures play a significant role in determining rider behavior—higher maximum temperatures tend to boost trips while higher minimum temperatures tend to lower them. Similarly, larger daily pressure changes (which signal weather volatility) are associated with noticeable shifts in trip demand.\n",
    "\n",
    "These stations, which include hubs like Nyugati tér, Városháza Park, Keleti Pályaudvar, and Szent István Park, are located in key central areas where commuters and tourists rely heavily on the network. Because these users are generally motivated by tight schedules and strong transit connections, they tend to disregard modest variations in humidity, wind speed, or minor adverse weather. Only when the weather conditions are markedly different—such as with temperature extremes or significant pressure changes—do these factors meaningfully affect travel choices. This pattern reflects the robustness of these stations as central transit nodes in Budapest, where travel is driven more by established commuting needs than by everyday weather fluctuations."
   ]
  },
  {
   "cell_type": "markdown",
   "id": "2f67484b",
   "metadata": {},
   "source": [
    "# A Note on Pressure Change\n",
    "\n",
    "Daily pressure change, defined as the difference between the highest and lowest atmospheric pressure throughout the day, offers a unique insight into weather volatility. Unlike average temperature or humidity, this metric captures the rapid fluctuations that often signal transitional weather periods. When pressure changes significantly, it can indicate that conditions are on the brink of a shift—either improving or deteriorating. This phenomenon is especially relevant to bike riders; a marked pressure drop might warn of an impending storm or increased cloud cover, prompting commuters to finish their trips promptly, while a rise in pressure could suggest a clearing, more stable day.\n",
    "\n",
    "This pattern is consistently observed across different stations, making pressure variability a reliable proxy for weather-induced changes in rider behavior throughout the city. In the broader context of weather forecasting, a decrease in pressure typically suggests the arrival of a low-pressure system, associated with rising, cooling air and a greater chance of precipitation or storms. Conversely, increasing pressure usually heralds clearer, calmer conditions. Thus, tracking pressure change not only enhances our understanding of daily weather patterns but also provides practical insights into how such fluctuations may drive decisions in urban mobility.\n"
   ]
  }
 ],
 "metadata": {
  "kernelspec": {
   "display_name": "Python 3",
   "language": "python",
   "name": "python3"
  },
  "language_info": {
   "codemirror_mode": {
    "name": "ipython",
    "version": 3
   },
   "file_extension": ".py",
   "mimetype": "text/x-python",
   "name": "python",
   "nbconvert_exporter": "python",
   "pygments_lexer": "ipython3",
   "version": "3.12.10"
  }
 },
 "nbformat": 4,
 "nbformat_minor": 5
}
