{
 "cells": [
  {
   "cell_type": "markdown",
   "metadata": {},
   "source": [
    "Let's start Exploring"
   ]
  },
  {
   "cell_type": "code",
   "execution_count": 1,
   "metadata": {},
   "outputs": [],
   "source": [
    "import pandas as pd\n",
    "import numpy as np  \n",
    "import matplotlib.pyplot as plt\n",
    "import seaborn as sns"
   ]
  },
  {
   "cell_type": "code",
   "execution_count": 2,
   "metadata": {},
   "outputs": [],
   "source": [
    "df = pd.read_csv('station_data.csv', parse_dates=['datetime_start', 'datetime_end'])\n",
    "\n"
   ]
  },
  {
   "cell_type": "code",
   "execution_count": 3,
   "metadata": {},
   "outputs": [
    {
     "data": {
      "application/vnd.microsoft.datawrangler.viewer.v0+json": {
       "columns": [
        {
         "name": "index",
         "rawType": "int64",
         "type": "integer"
        },
        {
         "name": "place_id",
         "rawType": "int64",
         "type": "integer"
        },
        {
         "name": "place_name",
         "rawType": "object",
         "type": "string"
        },
        {
         "name": "lat",
         "rawType": "float64",
         "type": "float"
        },
        {
         "name": "lng",
         "rawType": "float64",
         "type": "float"
        },
        {
         "name": "num_of_rack",
         "rawType": "float64",
         "type": "float"
        },
        {
         "name": "datetime_start",
         "rawType": "datetime64[ns]",
         "type": "datetime"
        },
        {
         "name": "datetime_end",
         "rawType": "datetime64[ns]",
         "type": "datetime"
        }
       ],
       "conversionMethod": "pd.DataFrame",
       "ref": "10f0a592-9b32-4189-9c17-7ee2c89fa38f",
       "rows": [
        [
         "0",
         "102",
         "Szilágyi Dezső tér",
         "47.5034243929",
         "19.0397143364",
         "15.0",
         "2015-01-01 00:00:01",
         "2015-05-31 23:55:03"
        ],
        [
         "1",
         "103",
         "Clark Ádám tér",
         "47.4975859462",
         "19.040915966",
         "15.0",
         "2015-01-01 00:00:01",
         "2015-05-22 15:35:03"
        ],
        [
         "2",
         "103",
         "Clark Ádám tér",
         "47.4975859462",
         "19.040915966",
         "16.0",
         "2015-05-22 15:40:02",
         "2015-05-31 23:55:03"
        ],
        [
         "3",
         "104",
         "Döbrentei tér",
         "47.4912792595",
         "19.0451163054",
         "22.0",
         "2015-01-01 00:00:01",
         "2015-05-31 23:55:03"
        ],
        [
         "4",
         "105",
         "Déli pályaudvar",
         "47.4998583425",
         "19.0254878998",
         "28.0",
         "2015-01-01 00:00:01",
         "2015-05-31 23:55:03"
        ]
       ],
       "shape": {
        "columns": 7,
        "rows": 5
       }
      },
      "text/html": [
       "<div>\n",
       "<style scoped>\n",
       "    .dataframe tbody tr th:only-of-type {\n",
       "        vertical-align: middle;\n",
       "    }\n",
       "\n",
       "    .dataframe tbody tr th {\n",
       "        vertical-align: top;\n",
       "    }\n",
       "\n",
       "    .dataframe thead th {\n",
       "        text-align: right;\n",
       "    }\n",
       "</style>\n",
       "<table border=\"1\" class=\"dataframe\">\n",
       "  <thead>\n",
       "    <tr style=\"text-align: right;\">\n",
       "      <th></th>\n",
       "      <th>place_id</th>\n",
       "      <th>place_name</th>\n",
       "      <th>lat</th>\n",
       "      <th>lng</th>\n",
       "      <th>num_of_rack</th>\n",
       "      <th>datetime_start</th>\n",
       "      <th>datetime_end</th>\n",
       "    </tr>\n",
       "  </thead>\n",
       "  <tbody>\n",
       "    <tr>\n",
       "      <th>0</th>\n",
       "      <td>102</td>\n",
       "      <td>Szilágyi Dezső tér</td>\n",
       "      <td>47.503424</td>\n",
       "      <td>19.039714</td>\n",
       "      <td>15.0</td>\n",
       "      <td>2015-01-01 00:00:01</td>\n",
       "      <td>2015-05-31 23:55:03</td>\n",
       "    </tr>\n",
       "    <tr>\n",
       "      <th>1</th>\n",
       "      <td>103</td>\n",
       "      <td>Clark Ádám tér</td>\n",
       "      <td>47.497586</td>\n",
       "      <td>19.040916</td>\n",
       "      <td>15.0</td>\n",
       "      <td>2015-01-01 00:00:01</td>\n",
       "      <td>2015-05-22 15:35:03</td>\n",
       "    </tr>\n",
       "    <tr>\n",
       "      <th>2</th>\n",
       "      <td>103</td>\n",
       "      <td>Clark Ádám tér</td>\n",
       "      <td>47.497586</td>\n",
       "      <td>19.040916</td>\n",
       "      <td>16.0</td>\n",
       "      <td>2015-05-22 15:40:02</td>\n",
       "      <td>2015-05-31 23:55:03</td>\n",
       "    </tr>\n",
       "    <tr>\n",
       "      <th>3</th>\n",
       "      <td>104</td>\n",
       "      <td>Döbrentei tér</td>\n",
       "      <td>47.491279</td>\n",
       "      <td>19.045116</td>\n",
       "      <td>22.0</td>\n",
       "      <td>2015-01-01 00:00:01</td>\n",
       "      <td>2015-05-31 23:55:03</td>\n",
       "    </tr>\n",
       "    <tr>\n",
       "      <th>4</th>\n",
       "      <td>105</td>\n",
       "      <td>Déli pályaudvar</td>\n",
       "      <td>47.499858</td>\n",
       "      <td>19.025488</td>\n",
       "      <td>28.0</td>\n",
       "      <td>2015-01-01 00:00:01</td>\n",
       "      <td>2015-05-31 23:55:03</td>\n",
       "    </tr>\n",
       "  </tbody>\n",
       "</table>\n",
       "</div>"
      ],
      "text/plain": [
       "   place_id          place_name        lat        lng  num_of_rack  \\\n",
       "0       102  Szilágyi Dezső tér  47.503424  19.039714         15.0   \n",
       "1       103      Clark Ádám tér  47.497586  19.040916         15.0   \n",
       "2       103      Clark Ádám tér  47.497586  19.040916         16.0   \n",
       "3       104       Döbrentei tér  47.491279  19.045116         22.0   \n",
       "4       105     Déli pályaudvar  47.499858  19.025488         28.0   \n",
       "\n",
       "       datetime_start        datetime_end  \n",
       "0 2015-01-01 00:00:01 2015-05-31 23:55:03  \n",
       "1 2015-01-01 00:00:01 2015-05-22 15:35:03  \n",
       "2 2015-05-22 15:40:02 2015-05-31 23:55:03  \n",
       "3 2015-01-01 00:00:01 2015-05-31 23:55:03  \n",
       "4 2015-01-01 00:00:01 2015-05-31 23:55:03  "
      ]
     },
     "execution_count": 3,
     "metadata": {},
     "output_type": "execute_result"
    }
   ],
   "source": [
    "df.head()"
   ]
  },
  {
   "cell_type": "code",
   "execution_count": 4,
   "metadata": {},
   "outputs": [
    {
     "name": "stdout",
     "output_type": "stream",
     "text": [
      "<class 'pandas.core.frame.DataFrame'>\n",
      "RangeIndex: 87 entries, 0 to 86\n",
      "Data columns (total 7 columns):\n",
      " #   Column          Non-Null Count  Dtype         \n",
      "---  ------          --------------  -----         \n",
      " 0   place_id        87 non-null     int64         \n",
      " 1   place_name      87 non-null     object        \n",
      " 2   lat             87 non-null     float64       \n",
      " 3   lng             87 non-null     float64       \n",
      " 4   num_of_rack     87 non-null     float64       \n",
      " 5   datetime_start  87 non-null     datetime64[ns]\n",
      " 6   datetime_end    87 non-null     datetime64[ns]\n",
      "dtypes: datetime64[ns](2), float64(3), int64(1), object(1)\n",
      "memory usage: 4.9+ KB\n"
     ]
    }
   ],
   "source": [
    "df.info()"
   ]
  },
  {
   "cell_type": "code",
   "execution_count": 5,
   "metadata": {},
   "outputs": [
    {
     "data": {
      "application/vnd.microsoft.datawrangler.viewer.v0+json": {
       "columns": [
        {
         "name": "index",
         "rawType": "object",
         "type": "string"
        },
        {
         "name": "place_id",
         "rawType": "float64",
         "type": "float"
        },
        {
         "name": "place_name",
         "rawType": "object",
         "type": "unknown"
        },
        {
         "name": "lat",
         "rawType": "float64",
         "type": "float"
        },
        {
         "name": "lng",
         "rawType": "float64",
         "type": "float"
        },
        {
         "name": "num_of_rack",
         "rawType": "float64",
         "type": "float"
        },
        {
         "name": "datetime_start",
         "rawType": "object",
         "type": "unknown"
        },
        {
         "name": "datetime_end",
         "rawType": "object",
         "type": "unknown"
        }
       ],
       "conversionMethod": "pd.DataFrame",
       "ref": "5f5d9810-3305-491a-8ce6-a6f782654730",
       "rows": [
        [
         "count",
         "87.0",
         "87",
         "87.0",
         "87.0",
         "87.0",
         "87",
         "87"
        ],
        [
         "unique",
         null,
         "75",
         null,
         null,
         null,
         null,
         null
        ],
        [
         "top",
         null,
         "Keleti pályaudvar",
         null,
         null,
         null,
         null,
         null
        ],
        [
         "freq",
         null,
         "3",
         null,
         null,
         null,
         null,
         null
        ],
        [
         "mean",
         "695.816091954023",
         null,
         "47.49918518531035",
         "19.058434456854023",
         "20.35632183908046",
         "2015-01-17 00:41:27.333332992",
         "2015-05-27 04:05:23.551724800"
        ],
        [
         "min",
         "102.0",
         null,
         "47.473243031",
         "19.0254878998",
         "14.0",
         "2015-01-01 00:00:01",
         "2015-01-24 22:10:01"
        ],
        [
         "25%",
         "512.5",
         null,
         "47.492645772450004",
         "19.05150264505",
         "15.0",
         "2015-01-01 00:00:01",
         "2015-05-31 23:55:03"
        ],
        [
         "50%",
         "612.0",
         null,
         "47.499100888",
         "19.057213068",
         "22.0",
         "2015-01-01 00:00:01",
         "2015-05-31 23:55:03"
        ],
        [
         "75%",
         "808.0",
         null,
         "47.5077674716",
         "19.06561106445",
         "22.0",
         "2015-01-01 00:00:01",
         "2015-05-31 23:55:03"
        ],
        [
         "max",
         "1401.0",
         null,
         "47.5188454963",
         "19.0854084492",
         "36.0",
         "2015-05-27 16:30:02",
         "2015-05-31 23:55:03"
        ],
        [
         "std",
         "304.37505661087795",
         null,
         "0.010966082088151816",
         "0.012205758846150626",
         "5.565627509062549",
         null,
         null
        ]
       ],
       "shape": {
        "columns": 7,
        "rows": 11
       }
      },
      "text/html": [
       "<div>\n",
       "<style scoped>\n",
       "    .dataframe tbody tr th:only-of-type {\n",
       "        vertical-align: middle;\n",
       "    }\n",
       "\n",
       "    .dataframe tbody tr th {\n",
       "        vertical-align: top;\n",
       "    }\n",
       "\n",
       "    .dataframe thead th {\n",
       "        text-align: right;\n",
       "    }\n",
       "</style>\n",
       "<table border=\"1\" class=\"dataframe\">\n",
       "  <thead>\n",
       "    <tr style=\"text-align: right;\">\n",
       "      <th></th>\n",
       "      <th>place_id</th>\n",
       "      <th>place_name</th>\n",
       "      <th>lat</th>\n",
       "      <th>lng</th>\n",
       "      <th>num_of_rack</th>\n",
       "      <th>datetime_start</th>\n",
       "      <th>datetime_end</th>\n",
       "    </tr>\n",
       "  </thead>\n",
       "  <tbody>\n",
       "    <tr>\n",
       "      <th>count</th>\n",
       "      <td>87.000000</td>\n",
       "      <td>87</td>\n",
       "      <td>87.000000</td>\n",
       "      <td>87.000000</td>\n",
       "      <td>87.000000</td>\n",
       "      <td>87</td>\n",
       "      <td>87</td>\n",
       "    </tr>\n",
       "    <tr>\n",
       "      <th>unique</th>\n",
       "      <td>NaN</td>\n",
       "      <td>75</td>\n",
       "      <td>NaN</td>\n",
       "      <td>NaN</td>\n",
       "      <td>NaN</td>\n",
       "      <td>NaN</td>\n",
       "      <td>NaN</td>\n",
       "    </tr>\n",
       "    <tr>\n",
       "      <th>top</th>\n",
       "      <td>NaN</td>\n",
       "      <td>Keleti pályaudvar</td>\n",
       "      <td>NaN</td>\n",
       "      <td>NaN</td>\n",
       "      <td>NaN</td>\n",
       "      <td>NaN</td>\n",
       "      <td>NaN</td>\n",
       "    </tr>\n",
       "    <tr>\n",
       "      <th>freq</th>\n",
       "      <td>NaN</td>\n",
       "      <td>3</td>\n",
       "      <td>NaN</td>\n",
       "      <td>NaN</td>\n",
       "      <td>NaN</td>\n",
       "      <td>NaN</td>\n",
       "      <td>NaN</td>\n",
       "    </tr>\n",
       "    <tr>\n",
       "      <th>mean</th>\n",
       "      <td>695.816092</td>\n",
       "      <td>NaN</td>\n",
       "      <td>47.499185</td>\n",
       "      <td>19.058434</td>\n",
       "      <td>20.356322</td>\n",
       "      <td>2015-01-17 00:41:27.333332992</td>\n",
       "      <td>2015-05-27 04:05:23.551724800</td>\n",
       "    </tr>\n",
       "    <tr>\n",
       "      <th>min</th>\n",
       "      <td>102.000000</td>\n",
       "      <td>NaN</td>\n",
       "      <td>47.473243</td>\n",
       "      <td>19.025488</td>\n",
       "      <td>14.000000</td>\n",
       "      <td>2015-01-01 00:00:01</td>\n",
       "      <td>2015-01-24 22:10:01</td>\n",
       "    </tr>\n",
       "    <tr>\n",
       "      <th>25%</th>\n",
       "      <td>512.500000</td>\n",
       "      <td>NaN</td>\n",
       "      <td>47.492646</td>\n",
       "      <td>19.051503</td>\n",
       "      <td>15.000000</td>\n",
       "      <td>2015-01-01 00:00:01</td>\n",
       "      <td>2015-05-31 23:55:03</td>\n",
       "    </tr>\n",
       "    <tr>\n",
       "      <th>50%</th>\n",
       "      <td>612.000000</td>\n",
       "      <td>NaN</td>\n",
       "      <td>47.499101</td>\n",
       "      <td>19.057213</td>\n",
       "      <td>22.000000</td>\n",
       "      <td>2015-01-01 00:00:01</td>\n",
       "      <td>2015-05-31 23:55:03</td>\n",
       "    </tr>\n",
       "    <tr>\n",
       "      <th>75%</th>\n",
       "      <td>808.000000</td>\n",
       "      <td>NaN</td>\n",
       "      <td>47.507767</td>\n",
       "      <td>19.065611</td>\n",
       "      <td>22.000000</td>\n",
       "      <td>2015-01-01 00:00:01</td>\n",
       "      <td>2015-05-31 23:55:03</td>\n",
       "    </tr>\n",
       "    <tr>\n",
       "      <th>max</th>\n",
       "      <td>1401.000000</td>\n",
       "      <td>NaN</td>\n",
       "      <td>47.518845</td>\n",
       "      <td>19.085408</td>\n",
       "      <td>36.000000</td>\n",
       "      <td>2015-05-27 16:30:02</td>\n",
       "      <td>2015-05-31 23:55:03</td>\n",
       "    </tr>\n",
       "    <tr>\n",
       "      <th>std</th>\n",
       "      <td>304.375057</td>\n",
       "      <td>NaN</td>\n",
       "      <td>0.010966</td>\n",
       "      <td>0.012206</td>\n",
       "      <td>5.565628</td>\n",
       "      <td>NaN</td>\n",
       "      <td>NaN</td>\n",
       "    </tr>\n",
       "  </tbody>\n",
       "</table>\n",
       "</div>"
      ],
      "text/plain": [
       "           place_id         place_name        lat        lng  num_of_rack  \\\n",
       "count     87.000000                 87  87.000000  87.000000    87.000000   \n",
       "unique          NaN                 75        NaN        NaN          NaN   \n",
       "top             NaN  Keleti pályaudvar        NaN        NaN          NaN   \n",
       "freq            NaN                  3        NaN        NaN          NaN   \n",
       "mean     695.816092                NaN  47.499185  19.058434    20.356322   \n",
       "min      102.000000                NaN  47.473243  19.025488    14.000000   \n",
       "25%      512.500000                NaN  47.492646  19.051503    15.000000   \n",
       "50%      612.000000                NaN  47.499101  19.057213    22.000000   \n",
       "75%      808.000000                NaN  47.507767  19.065611    22.000000   \n",
       "max     1401.000000                NaN  47.518845  19.085408    36.000000   \n",
       "std      304.375057                NaN   0.010966   0.012206     5.565628   \n",
       "\n",
       "                       datetime_start                   datetime_end  \n",
       "count                              87                             87  \n",
       "unique                            NaN                            NaN  \n",
       "top                               NaN                            NaN  \n",
       "freq                              NaN                            NaN  \n",
       "mean    2015-01-17 00:41:27.333332992  2015-05-27 04:05:23.551724800  \n",
       "min               2015-01-01 00:00:01            2015-01-24 22:10:01  \n",
       "25%               2015-01-01 00:00:01            2015-05-31 23:55:03  \n",
       "50%               2015-01-01 00:00:01            2015-05-31 23:55:03  \n",
       "75%               2015-01-01 00:00:01            2015-05-31 23:55:03  \n",
       "max               2015-05-27 16:30:02            2015-05-31 23:55:03  \n",
       "std                               NaN                            NaN  "
      ]
     },
     "execution_count": 5,
     "metadata": {},
     "output_type": "execute_result"
    }
   ],
   "source": [
    "df.describe(include='all')"
   ]
  },
  {
   "cell_type": "code",
   "execution_count": 6,
   "metadata": {},
   "outputs": [
    {
     "data": {
      "text/plain": [
       "Index(['place_id', 'place_name', 'lat', 'lng', 'num_of_rack', 'datetime_start',\n",
       "       'datetime_end'],\n",
       "      dtype='object')"
      ]
     },
     "execution_count": 6,
     "metadata": {},
     "output_type": "execute_result"
    }
   ],
   "source": [
    "df.columns"
   ]
  },
  {
   "cell_type": "code",
   "execution_count": 7,
   "metadata": {},
   "outputs": [
    {
     "data": {
      "text/plain": [
       "75"
      ]
     },
     "execution_count": 7,
     "metadata": {},
     "output_type": "execute_result"
    }
   ],
   "source": [
    "df['place_id'].nunique()"
   ]
  },
  {
   "cell_type": "code",
   "execution_count": 8,
   "metadata": {},
   "outputs": [],
   "source": [
    "df['duration'] = (df['datetime_end'] - df['datetime_start']).dt.total_seconds() / 60.0\t# Convert to minutes \n",
    "df['duration'] = df['duration'].astype(int)\t# Convert to int "
   ]
  },
  {
   "cell_type": "code",
   "execution_count": 9,
   "metadata": {},
   "outputs": [
    {
     "data": {
      "application/vnd.microsoft.datawrangler.viewer.v0+json": {
       "columns": [
        {
         "name": "index",
         "rawType": "int64",
         "type": "integer"
        },
        {
         "name": "place_id",
         "rawType": "int64",
         "type": "integer"
        },
        {
         "name": "place_name",
         "rawType": "object",
         "type": "string"
        },
        {
         "name": "lat",
         "rawType": "float64",
         "type": "float"
        },
        {
         "name": "lng",
         "rawType": "float64",
         "type": "float"
        },
        {
         "name": "num_of_rack",
         "rawType": "float64",
         "type": "float"
        },
        {
         "name": "datetime_start",
         "rawType": "datetime64[ns]",
         "type": "datetime"
        },
        {
         "name": "datetime_end",
         "rawType": "datetime64[ns]",
         "type": "datetime"
        },
        {
         "name": "duration",
         "rawType": "int32",
         "type": "integer"
        }
       ],
       "conversionMethod": "pd.DataFrame",
       "ref": "cec1ca93-3d89-465d-86b2-fdfbb8be9176",
       "rows": [
        [
         "40",
         "611",
         "Nyugati tér",
         "47.510113708",
         "19.0555661917",
         "30.0",
         "2015-01-01 00:00:01",
         "2015-03-31 08:50:02",
         "128690"
        ],
        [
         "41",
         "611",
         "Nyugati tér",
         "47.5097586087",
         "19.055351615",
         "30.0",
         "2015-04-02 18:00:01",
         "2015-04-04 22:25:02",
         "3145"
        ],
        [
         "42",
         "611",
         "Nyugati tér",
         "47.5096752687",
         "19.0553086996",
         "30.0",
         "2015-04-04 22:30:02",
         "2015-05-31 23:55:03",
         "82165"
        ]
       ],
       "shape": {
        "columns": 8,
        "rows": 3
       }
      },
      "text/html": [
       "<div>\n",
       "<style scoped>\n",
       "    .dataframe tbody tr th:only-of-type {\n",
       "        vertical-align: middle;\n",
       "    }\n",
       "\n",
       "    .dataframe tbody tr th {\n",
       "        vertical-align: top;\n",
       "    }\n",
       "\n",
       "    .dataframe thead th {\n",
       "        text-align: right;\n",
       "    }\n",
       "</style>\n",
       "<table border=\"1\" class=\"dataframe\">\n",
       "  <thead>\n",
       "    <tr style=\"text-align: right;\">\n",
       "      <th></th>\n",
       "      <th>place_id</th>\n",
       "      <th>place_name</th>\n",
       "      <th>lat</th>\n",
       "      <th>lng</th>\n",
       "      <th>num_of_rack</th>\n",
       "      <th>datetime_start</th>\n",
       "      <th>datetime_end</th>\n",
       "      <th>duration</th>\n",
       "    </tr>\n",
       "  </thead>\n",
       "  <tbody>\n",
       "    <tr>\n",
       "      <th>40</th>\n",
       "      <td>611</td>\n",
       "      <td>Nyugati tér</td>\n",
       "      <td>47.510114</td>\n",
       "      <td>19.055566</td>\n",
       "      <td>30.0</td>\n",
       "      <td>2015-01-01 00:00:01</td>\n",
       "      <td>2015-03-31 08:50:02</td>\n",
       "      <td>128690</td>\n",
       "    </tr>\n",
       "    <tr>\n",
       "      <th>41</th>\n",
       "      <td>611</td>\n",
       "      <td>Nyugati tér</td>\n",
       "      <td>47.509759</td>\n",
       "      <td>19.055352</td>\n",
       "      <td>30.0</td>\n",
       "      <td>2015-04-02 18:00:01</td>\n",
       "      <td>2015-04-04 22:25:02</td>\n",
       "      <td>3145</td>\n",
       "    </tr>\n",
       "    <tr>\n",
       "      <th>42</th>\n",
       "      <td>611</td>\n",
       "      <td>Nyugati tér</td>\n",
       "      <td>47.509675</td>\n",
       "      <td>19.055309</td>\n",
       "      <td>30.0</td>\n",
       "      <td>2015-04-04 22:30:02</td>\n",
       "      <td>2015-05-31 23:55:03</td>\n",
       "      <td>82165</td>\n",
       "    </tr>\n",
       "  </tbody>\n",
       "</table>\n",
       "</div>"
      ],
      "text/plain": [
       "    place_id   place_name        lat        lng  num_of_rack  \\\n",
       "40       611  Nyugati tér  47.510114  19.055566         30.0   \n",
       "41       611  Nyugati tér  47.509759  19.055352         30.0   \n",
       "42       611  Nyugati tér  47.509675  19.055309         30.0   \n",
       "\n",
       "        datetime_start        datetime_end  duration  \n",
       "40 2015-01-01 00:00:01 2015-03-31 08:50:02    128690  \n",
       "41 2015-04-02 18:00:01 2015-04-04 22:25:02      3145  \n",
       "42 2015-04-04 22:30:02 2015-05-31 23:55:03     82165  "
      ]
     },
     "execution_count": 9,
     "metadata": {},
     "output_type": "execute_result"
    }
   ],
   "source": [
    "df[df['place_id']==611]"
   ]
  },
  {
   "cell_type": "code",
   "execution_count": 10,
   "metadata": {},
   "outputs": [
    {
     "data": {
      "text/plain": [
       "count    87.000000\n",
       "mean     20.356322\n",
       "std       5.565628\n",
       "min      14.000000\n",
       "25%      15.000000\n",
       "50%      22.000000\n",
       "75%      22.000000\n",
       "max      36.000000\n",
       "Name: num_of_rack, dtype: float64"
      ]
     },
     "execution_count": 10,
     "metadata": {},
     "output_type": "execute_result"
    }
   ],
   "source": [
    "df['num_of_rack'].describe()"
   ]
  },
  {
   "cell_type": "markdown",
   "metadata": {},
   "source": [
    "The goal is to treat each station as a single entity—especially when the “new” location is effectively the same place or very close by—you can consolidate rows into a single row per station ID."
   ]
  },
  {
   "cell_type": "code",
   "execution_count": 11,
   "metadata": {},
   "outputs": [
    {
     "data": {
      "application/vnd.microsoft.datawrangler.viewer.v0+json": {
       "columns": [
        {
         "name": "index",
         "rawType": "int64",
         "type": "integer"
        },
        {
         "name": "place_id",
         "rawType": "int64",
         "type": "integer"
        },
        {
         "name": "place_name",
         "rawType": "object",
         "type": "string"
        },
        {
         "name": "lat",
         "rawType": "float64",
         "type": "float"
        },
        {
         "name": "lng",
         "rawType": "float64",
         "type": "float"
        },
        {
         "name": "num_of_rack",
         "rawType": "float64",
         "type": "float"
        },
        {
         "name": "datetime_start",
         "rawType": "datetime64[ns]",
         "type": "datetime"
        },
        {
         "name": "datetime_end",
         "rawType": "datetime64[ns]",
         "type": "datetime"
        }
       ],
       "conversionMethod": "pd.DataFrame",
       "ref": "a6b1a0e7-02d7-43ca-af93-7048dad7fbb0",
       "rows": [
        [
         "0",
         "102",
         "Szilágyi Dezső tér",
         "47.5034243929",
         "19.0397143364",
         "15.0",
         "2015-01-01 00:00:01",
         "2015-05-31 23:55:03"
        ],
        [
         "1",
         "103",
         "Clark Ádám tér",
         "47.4975859462",
         "19.040915966",
         "15.5",
         "2015-01-01 00:00:01",
         "2015-05-31 23:55:03"
        ],
        [
         "2",
         "104",
         "Döbrentei tér",
         "47.4912792595",
         "19.0451163054",
         "22.0",
         "2015-01-01 00:00:01",
         "2015-05-31 23:55:03"
        ],
        [
         "3",
         "105",
         "Déli pályaudvar",
         "47.4998583425",
         "19.0254878998",
         "28.0",
         "2015-01-01 00:00:01",
         "2015-05-31 23:55:03"
        ],
        [
         "4",
         "201",
         "Margit híd -  Buda",
         "47.5150015146",
         "19.0398055315",
         "15.0",
         "2015-01-01 00:00:01",
         "2015-05-31 23:55:03"
        ],
        [
         "5",
         "202",
         "Horvát utca",
         "47.5103745958",
         "19.034371376",
         "15.0",
         "2015-01-01 00:00:01",
         "2015-05-31 23:55:03"
        ],
        [
         "6",
         "203",
         "Bem József tér",
         "47.5121971505",
         "19.0382552147",
         "15.0",
         "2015-01-01 00:00:01",
         "2015-05-31 23:55:03"
        ],
        [
         "7",
         "204",
         "Széna tér",
         "47.50785625",
         "19.0270650387",
         "22.0",
         "2015-01-01 00:00:01",
         "2015-05-31 23:55:03"
        ],
        [
         "8",
         "501",
         "Szent István körút - Vígszínház",
         "47.5118927918",
         "19.0514194965",
         "22.0",
         "2015-01-01 00:00:01",
         "2015-05-31 23:55:03"
        ],
        [
         "9",
         "502",
         "Szalay utca - Falk Miksa utca",
         "47.5085845898",
         "19.0482115746",
         "14.0",
         "2015-01-01 00:00:01",
         "2015-05-31 23:55:03"
        ],
        [
         "10",
         "503",
         "Bajcsy-Zsilinszky út - Kálmán Imre utca",
         "47.5069430934",
         "19.0548527241",
         "15.0",
         "2015-01-01 00:00:01",
         "2015-05-31 23:55:03"
        ],
        [
         "11",
         "504",
         "Vécsey utca",
         "47.5054211304",
         "19.0487104654",
         "22.0",
         "2015-01-01 00:00:01",
         "2015-05-31 23:55:03"
        ],
        [
         "12",
         "505",
         "Podmaniczky tér",
         "47.5032540687",
         "19.0542519093",
         "30.0",
         "2015-01-01 00:00:01",
         "2015-05-31 23:55:03"
        ],
        [
         "13",
         "506",
         "Szabadság tér",
         "47.5028952991",
         "19.0514302254",
         "22.0",
         "2015-01-01 00:00:01",
         "2015-05-31 23:55:03"
        ],
        [
         "14",
         "507",
         "Akadémia",
         "47.5007607501",
         "19.0472406149",
         "15.0",
         "2015-01-01 00:00:01",
         "2015-05-31 23:55:03"
        ],
        [
         "15",
         "508",
         "Erzsébet tér",
         "47.499100888",
         "19.0544986725",
         "16.0",
         "2015-01-01 00:00:01",
         "2015-05-31 23:55:03"
        ],
        [
         "16",
         "509",
         "Apáczai Csere János utca",
         "47.4974880896",
         "19.0480130911",
         "15.0",
         "2015-01-01 00:00:01",
         "2015-05-31 23:55:03"
        ],
        [
         "17",
         "510",
         "József nádor tér",
         "47.4977309186",
         "19.0502661467",
         "22.0",
         "2015-01-01 00:00:01",
         "2015-05-31 23:55:03"
        ],
        [
         "18",
         "511",
         "Vigadó tér",
         "47.495987599",
         "19.0488177538",
         "22.0",
         "2015-01-01 00:00:01",
         "2015-05-31 23:55:03"
        ],
        [
         "19",
         "512",
         "Vitkovics Mihály utca - Városház utca",
         "47.4946682916",
         "19.0561294556",
         "15.0",
         "2015-01-01 00:00:01",
         "2015-05-31 23:55:03"
        ],
        [
         "20",
         "513",
         "Március 15. tér",
         "47.4916526074",
         "19.0529698133",
         "22.0",
         "2015-01-01 00:00:01",
         "2015-05-31 23:55:03"
        ],
        [
         "21",
         "514",
         "Károlyi utca",
         "47.4912973832",
         "19.0582430363",
         "22.0",
         "2015-01-01 00:00:01",
         "2015-05-31 23:55:03"
        ],
        [
         "22",
         "515",
         "Fővám tér",
         "47.4871505067",
         "19.057213068",
         "30.0",
         "2015-01-01 00:00:01",
         "2015-05-31 23:55:03"
        ],
        [
         "23",
         "516",
         "Ferenciek tere",
         "47.4925370328",
         "19.0566176176",
         "15.0",
         "2015-01-01 00:00:01",
         "2015-05-31 23:55:03"
        ],
        [
         "24",
         "517",
         "Városháza Park",
         "47.4970676666",
         "19.055120945",
         "25.5",
         "2015-01-01 00:00:01",
         "2015-05-31 23:55:03"
        ],
        [
         "25",
         "518",
         "Deák tér",
         "47.4978541448",
         "19.0535491705",
         "16.5",
         "2015-01-01 00:00:01",
         "2015-05-31 23:55:03"
        ],
        [
         "26",
         "601",
         "Teréz körút - Király utca ",
         "47.5035693492",
         "19.0655601025",
         "22.0",
         "2015-01-01 00:00:01",
         "2015-05-31 23:55:03"
        ],
        [
         "27",
         "602",
         "Hősök tere",
         "47.5142370322",
         "19.0766644478",
         "22.0",
         "2015-01-01 00:00:01",
         "2015-05-31 23:55:03"
        ],
        [
         "28",
         "603",
         "Nyugati pályaudvar",
         "47.5112659525",
         "19.0574920177",
         "22.0",
         "2015-01-01 00:00:01",
         "2015-05-31 23:55:03"
        ],
        [
         "29",
         "604",
         "Kodály körönd",
         "47.5092948019",
         "19.0691006184",
         "18.0",
         "2015-01-01 00:00:01",
         "2015-05-31 23:55:03"
        ],
        [
         "30",
         "605",
         "Teréz körút - Szondi utca",
         "47.5077439181",
         "19.0595519543",
         "22.0",
         "2015-01-01 00:00:01",
         "2015-05-31 23:55:03"
        ],
        [
         "31",
         "606",
         "Lövölde tér",
         "47.5077910251",
         "19.0728986263",
         "16.0",
         "2015-01-01 00:00:01",
         "2015-05-31 23:55:03"
        ],
        [
         "32",
         "607",
         "Oktogon",
         "47.5057581403",
         "19.0638327599",
         "30.0",
         "2015-01-01 00:00:01",
         "2015-05-31 23:55:03"
        ],
        [
         "33",
         "608",
         "Jókai utca - Zichy Jenő utca",
         "47.5064611432",
         "19.0600562096",
         "15.0",
         "2015-01-01 00:00:01",
         "2015-05-31 23:55:03"
        ],
        [
         "34",
         "609",
         "Andrássy út - Nagymező utca",
         "47.5034280168",
         "19.0607964993",
         "22.0",
         "2015-01-01 00:00:01",
         "2015-05-31 23:55:03"
        ],
        [
         "35",
         "610",
         "Andrássy út - Káldy Gyula utca",
         "47.5006882681",
         "19.056724906",
         "15.0",
         "2015-01-01 00:00:01",
         "2015-05-31 23:55:03"
        ],
        [
         "36",
         "611",
         "Nyugati tér",
         "47.509849195133334",
         "19.055408835433333",
         "30.0",
         "2015-01-01 00:00:01",
         "2015-05-31 23:55:03"
        ],
        [
         "37",
         "612",
         "Városligeti fasor - Dózsa György út",
         "47.511135511",
         "19.0803337097",
         "15.0",
         "2015-01-01 00:00:01",
         "2015-05-31 23:55:03"
        ],
        [
         "38",
         "701",
         "Gozsdu udvar",
         "47.4987348414",
         "19.0594768524",
         "15.0",
         "2015-01-01 00:00:01",
         "2015-05-31 23:55:03"
        ],
        [
         "39",
         "702",
         "Dózsa György út - Dembinszky utca",
         "47.5079178513",
         "19.0841639042",
         "15.0",
         "2015-01-01 00:00:01",
         "2015-05-31 23:55:03"
        ],
        [
         "40",
         "703",
         "Garay tér",
         "47.5044898122",
         "19.0854084492",
         "15.0",
         "2015-01-01 00:00:01",
         "2015-05-31 23:55:03"
        ],
        [
         "41",
         "704",
         "Klauzál tér",
         "47.5002678707",
         "19.0637040138",
         "15.0",
         "2015-01-01 00:00:01",
         "2015-05-31 23:55:03"
        ],
        [
         "42",
         "705",
         "Erzsébet körút - Wesselényi utca",
         "47.5006049137",
         "19.068403244",
         "21.0",
         "2015-01-01 00:00:01",
         "2015-05-31 23:55:03"
        ],
        [
         "43",
         "706",
         "Rózsák tere",
         "47.5014819402",
         "19.0752911568",
         "15.0",
         "2015-01-01 00:00:01",
         "2015-05-31 23:55:03"
        ],
        [
         "44",
         "707",
         "Kéthly Anna tér",
         "47.4981404634",
         "19.065527916",
         "16.666666666666668",
         "2015-01-01 00:00:01",
         "2015-05-31 23:55:03"
        ],
        [
         "45",
         "708",
         "Wesselényi utca - Síp utca",
         "47.4970386718",
         "19.0620732307",
         "15.0",
         "2015-01-01 00:00:01",
         "2015-05-31 23:55:03"
        ],
        [
         "46",
         "709",
         "Rumbach Sebestyén utca - BKK",
         "47.4984304048",
         "19.0572720766",
         "15.0",
         "2015-01-01 00:00:01",
         "2015-05-31 23:55:03"
        ],
        [
         "47",
         "801",
         "Gyulai Pál utca - Rákóczi út",
         "47.4958272251",
         "19.0667319819",
         "22.0",
         "2015-01-01 00:00:01",
         "2015-05-31 23:55:03"
        ],
        [
         "48",
         "802",
         "Astoria",
         "47.4942152251",
         "19.0603512526",
         "22.0",
         "2015-01-01 00:00:01",
         "2015-05-31 23:55:03"
        ],
        [
         "49",
         "803",
         "Kőfaragó utca - Vas utca",
         "47.4937331581",
         "19.066799283",
         "15.0",
         "2015-01-01 00:00:01",
         "2015-05-31 23:55:03"
        ]
       ],
       "shape": {
        "columns": 7,
        "rows": 75
       }
      },
      "text/html": [
       "<div>\n",
       "<style scoped>\n",
       "    .dataframe tbody tr th:only-of-type {\n",
       "        vertical-align: middle;\n",
       "    }\n",
       "\n",
       "    .dataframe tbody tr th {\n",
       "        vertical-align: top;\n",
       "    }\n",
       "\n",
       "    .dataframe thead th {\n",
       "        text-align: right;\n",
       "    }\n",
       "</style>\n",
       "<table border=\"1\" class=\"dataframe\">\n",
       "  <thead>\n",
       "    <tr style=\"text-align: right;\">\n",
       "      <th></th>\n",
       "      <th>place_id</th>\n",
       "      <th>place_name</th>\n",
       "      <th>lat</th>\n",
       "      <th>lng</th>\n",
       "      <th>num_of_rack</th>\n",
       "      <th>datetime_start</th>\n",
       "      <th>datetime_end</th>\n",
       "    </tr>\n",
       "  </thead>\n",
       "  <tbody>\n",
       "    <tr>\n",
       "      <th>0</th>\n",
       "      <td>102</td>\n",
       "      <td>Szilágyi Dezső tér</td>\n",
       "      <td>47.503424</td>\n",
       "      <td>19.039714</td>\n",
       "      <td>15.0</td>\n",
       "      <td>2015-01-01 00:00:01</td>\n",
       "      <td>2015-05-31 23:55:03</td>\n",
       "    </tr>\n",
       "    <tr>\n",
       "      <th>1</th>\n",
       "      <td>103</td>\n",
       "      <td>Clark Ádám tér</td>\n",
       "      <td>47.497586</td>\n",
       "      <td>19.040916</td>\n",
       "      <td>15.5</td>\n",
       "      <td>2015-01-01 00:00:01</td>\n",
       "      <td>2015-05-31 23:55:03</td>\n",
       "    </tr>\n",
       "    <tr>\n",
       "      <th>2</th>\n",
       "      <td>104</td>\n",
       "      <td>Döbrentei tér</td>\n",
       "      <td>47.491279</td>\n",
       "      <td>19.045116</td>\n",
       "      <td>22.0</td>\n",
       "      <td>2015-01-01 00:00:01</td>\n",
       "      <td>2015-05-31 23:55:03</td>\n",
       "    </tr>\n",
       "    <tr>\n",
       "      <th>3</th>\n",
       "      <td>105</td>\n",
       "      <td>Déli pályaudvar</td>\n",
       "      <td>47.499858</td>\n",
       "      <td>19.025488</td>\n",
       "      <td>28.0</td>\n",
       "      <td>2015-01-01 00:00:01</td>\n",
       "      <td>2015-05-31 23:55:03</td>\n",
       "    </tr>\n",
       "    <tr>\n",
       "      <th>4</th>\n",
       "      <td>201</td>\n",
       "      <td>Margit híd -  Buda</td>\n",
       "      <td>47.515002</td>\n",
       "      <td>19.039806</td>\n",
       "      <td>15.0</td>\n",
       "      <td>2015-01-01 00:00:01</td>\n",
       "      <td>2015-05-31 23:55:03</td>\n",
       "    </tr>\n",
       "    <tr>\n",
       "      <th>...</th>\n",
       "      <td>...</td>\n",
       "      <td>...</td>\n",
       "      <td>...</td>\n",
       "      <td>...</td>\n",
       "      <td>...</td>\n",
       "      <td>...</td>\n",
       "      <td>...</td>\n",
       "    </tr>\n",
       "    <tr>\n",
       "      <th>70</th>\n",
       "      <td>1302</td>\n",
       "      <td>Szent István park</td>\n",
       "      <td>47.518183</td>\n",
       "      <td>19.051610</td>\n",
       "      <td>22.0</td>\n",
       "      <td>2015-01-01 00:00:01</td>\n",
       "      <td>2015-05-31 23:55:03</td>\n",
       "    </tr>\n",
       "    <tr>\n",
       "      <th>71</th>\n",
       "      <td>1303</td>\n",
       "      <td>Váci út - Victor Hugo utca</td>\n",
       "      <td>47.517498</td>\n",
       "      <td>19.060008</td>\n",
       "      <td>16.0</td>\n",
       "      <td>2015-01-01 00:00:01</td>\n",
       "      <td>2015-05-31 23:55:03</td>\n",
       "    </tr>\n",
       "    <tr>\n",
       "      <th>72</th>\n",
       "      <td>1304</td>\n",
       "      <td>Margitsziget</td>\n",
       "      <td>47.518349</td>\n",
       "      <td>19.044821</td>\n",
       "      <td>30.0</td>\n",
       "      <td>2015-01-01 00:00:01</td>\n",
       "      <td>2015-05-31 23:55:03</td>\n",
       "    </tr>\n",
       "    <tr>\n",
       "      <th>73</th>\n",
       "      <td>1305</td>\n",
       "      <td>Pannónia utca - Raoul Wallenberg utca</td>\n",
       "      <td>47.514491</td>\n",
       "      <td>19.052535</td>\n",
       "      <td>15.0</td>\n",
       "      <td>2015-01-01 00:00:01</td>\n",
       "      <td>2015-05-31 23:55:03</td>\n",
       "    </tr>\n",
       "    <tr>\n",
       "      <th>74</th>\n",
       "      <td>1401</td>\n",
       "      <td>Széchenyi fürdő</td>\n",
       "      <td>47.518845</td>\n",
       "      <td>19.081321</td>\n",
       "      <td>22.0</td>\n",
       "      <td>2015-01-01 00:00:01</td>\n",
       "      <td>2015-05-31 23:55:03</td>\n",
       "    </tr>\n",
       "  </tbody>\n",
       "</table>\n",
       "<p>75 rows × 7 columns</p>\n",
       "</div>"
      ],
      "text/plain": [
       "    place_id                             place_name        lat        lng  \\\n",
       "0        102                     Szilágyi Dezső tér  47.503424  19.039714   \n",
       "1        103                         Clark Ádám tér  47.497586  19.040916   \n",
       "2        104                          Döbrentei tér  47.491279  19.045116   \n",
       "3        105                        Déli pályaudvar  47.499858  19.025488   \n",
       "4        201                     Margit híd -  Buda  47.515002  19.039806   \n",
       "..       ...                                    ...        ...        ...   \n",
       "70      1302                      Szent István park  47.518183  19.051610   \n",
       "71      1303             Váci út - Victor Hugo utca  47.517498  19.060008   \n",
       "72      1304                          Margitsziget   47.518349  19.044821   \n",
       "73      1305  Pannónia utca - Raoul Wallenberg utca  47.514491  19.052535   \n",
       "74      1401                        Széchenyi fürdő  47.518845  19.081321   \n",
       "\n",
       "    num_of_rack      datetime_start        datetime_end  \n",
       "0          15.0 2015-01-01 00:00:01 2015-05-31 23:55:03  \n",
       "1          15.5 2015-01-01 00:00:01 2015-05-31 23:55:03  \n",
       "2          22.0 2015-01-01 00:00:01 2015-05-31 23:55:03  \n",
       "3          28.0 2015-01-01 00:00:01 2015-05-31 23:55:03  \n",
       "4          15.0 2015-01-01 00:00:01 2015-05-31 23:55:03  \n",
       "..          ...                 ...                 ...  \n",
       "70         22.0 2015-01-01 00:00:01 2015-05-31 23:55:03  \n",
       "71         16.0 2015-01-01 00:00:01 2015-05-31 23:55:03  \n",
       "72         30.0 2015-01-01 00:00:01 2015-05-31 23:55:03  \n",
       "73         15.0 2015-01-01 00:00:01 2015-05-31 23:55:03  \n",
       "74         22.0 2015-01-01 00:00:01 2015-05-31 23:55:03  \n",
       "\n",
       "[75 rows x 7 columns]"
      ]
     },
     "execution_count": 11,
     "metadata": {},
     "output_type": "execute_result"
    }
   ],
   "source": [
    "df['datetime_start'] = pd.to_datetime(df['datetime_start'])\n",
    "df['datetime_end'] = pd.to_datetime(df['datetime_end'])\n",
    "\n",
    "# Group by place_id, unify rows\n",
    "\n",
    "agg_dict = {\n",
    "    'place_name': 'first',\n",
    "    'lat': 'mean',\n",
    "    'lng': 'mean',\n",
    "    'num_of_rack': 'mean',           \n",
    "    'datetime_start': 'min',         # earliest start\n",
    "    'datetime_end': 'max'            # latest end\n",
    "}\n",
    "\n",
    "unique_df = df.groupby('place_id', as_index=False).agg(agg_dict)\n",
    "\n",
    "# Inspect the result\n",
    "unique_df"
   ]
  },
  {
   "cell_type": "code",
   "execution_count": 12,
   "metadata": {},
   "outputs": [],
   "source": [
    "unique_df.to_csv('unique_station_data.csv', index=False)"
   ]
  }
 ],
 "metadata": {
  "kernelspec": {
   "display_name": "Python 3",
   "language": "python",
   "name": "python3"
  },
  "language_info": {
   "codemirror_mode": {
    "name": "ipython",
    "version": 3
   },
   "file_extension": ".py",
   "mimetype": "text/x-python",
   "name": "python",
   "nbconvert_exporter": "python",
   "pygments_lexer": "ipython3",
   "version": "3.12.10"
  }
 },
 "nbformat": 4,
 "nbformat_minor": 2
}
