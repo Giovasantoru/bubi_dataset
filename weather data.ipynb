{
 "cells": [
  {
   "cell_type": "markdown",
   "id": "fd5551ef",
   "metadata": {},
   "source": [
    "Univariate analysis of weather variables"
   ]
  },
  {
   "cell_type": "code",
   "execution_count": 1,
   "id": "0a7de383",
   "metadata": {},
   "outputs": [],
   "source": [
    "import pandas as pd\n",
    "import numpy as np  \n",
    "import matplotlib.pyplot as plt\n",
    "import seaborn as sns\n",
    "from pandas.api.types import CategoricalDtype"
   ]
  },
  {
   "cell_type": "code",
   "execution_count": 2,
   "id": "ea16a1e0",
   "metadata": {},
   "outputs": [],
   "source": [
    "df = pd.read_csv('weather_data.csv')"
   ]
  },
  {
   "cell_type": "code",
   "execution_count": 3,
   "id": "ab68d7f1",
   "metadata": {},
   "outputs": [
    {
     "data": {
      "application/vnd.microsoft.datawrangler.viewer.v0+json": {
       "columns": [
        {
         "name": "index",
         "rawType": "int64",
         "type": "integer"
        },
        {
         "name": "time",
         "rawType": "object",
         "type": "string"
        },
        {
         "name": "tempm",
         "rawType": "float64",
         "type": "float"
        },
        {
         "name": "hum",
         "rawType": "int64",
         "type": "integer"
        },
        {
         "name": "wspdm",
         "rawType": "float64",
         "type": "float"
        },
        {
         "name": "wdird",
         "rawType": "int64",
         "type": "integer"
        },
        {
         "name": "wdire",
         "rawType": "object",
         "type": "string"
        },
        {
         "name": "pressurem",
         "rawType": "int64",
         "type": "integer"
        },
        {
         "name": "vism",
         "rawType": "float64",
         "type": "float"
        },
        {
         "name": "windchillm",
         "rawType": "float64",
         "type": "float"
        },
        {
         "name": "fog",
         "rawType": "int64",
         "type": "integer"
        },
        {
         "name": "rain",
         "rawType": "int64",
         "type": "integer"
        },
        {
         "name": "snow",
         "rawType": "int64",
         "type": "integer"
        },
        {
         "name": "hail",
         "rawType": "int64",
         "type": "integer"
        },
        {
         "name": "thunder",
         "rawType": "int64",
         "type": "integer"
        }
       ],
       "conversionMethod": "pd.DataFrame",
       "ref": "24859cf3-0954-462a-8807-7ca68e8bd355",
       "rows": [
        [
         "0",
         "2015-01-01 00:00:00",
         "-12.0",
         "85",
         "5.6",
         "0",
         "Variable",
         "1037",
         "5.0",
         "-15.5",
         "0",
         "0",
         "0",
         "0",
         "0"
        ],
        [
         "1",
         "2015-01-01 00:30:00",
         "-11.0",
         "85",
         "3.7",
         "0",
         "Variable",
         "1036",
         "4.0",
         "-999.0",
         "0",
         "0",
         "0",
         "0",
         "0"
        ],
        [
         "2",
         "2015-01-01 01:00:00",
         "-10.0",
         "86",
         "3.7",
         "0",
         "Variable",
         "1036",
         "4.0",
         "-999.0",
         "0",
         "0",
         "0",
         "0",
         "0"
        ],
        [
         "3",
         "2015-01-01 01:30:00",
         "-10.0",
         "86",
         "0.0",
         "0",
         "North",
         "1036",
         "5.0",
         "-999.0",
         "0",
         "0",
         "0",
         "0",
         "0"
        ],
        [
         "4",
         "2015-01-01 02:00:00",
         "-9.0",
         "79",
         "0.0",
         "0",
         "North",
         "1036",
         "4.0",
         "-999.0",
         "0",
         "0",
         "0",
         "0",
         "0"
        ],
        [
         "5",
         "2015-01-01 02:30:00",
         "-8.0",
         "79",
         "3.7",
         "0",
         "Variable",
         "1036",
         "4.0",
         "-999.0",
         "0",
         "0",
         "0",
         "0",
         "0"
        ],
        [
         "6",
         "2015-01-01 03:00:00",
         "-7.0",
         "74",
         "9.3",
         "230",
         "SW",
         "1036",
         "5.0",
         "-11.4",
         "0",
         "0",
         "0",
         "0",
         "0"
        ],
        [
         "7",
         "2015-01-01 03:30:00",
         "-7.0",
         "74",
         "11.1",
         "250",
         "WSW",
         "1036",
         "6.0",
         "-12.0",
         "0",
         "0",
         "0",
         "0",
         "0"
        ],
        [
         "8",
         "2015-01-01 04:00:00",
         "-7.0",
         "74",
         "11.1",
         "240",
         "WSW",
         "1035",
         "6.0",
         "-12.0",
         "0",
         "0",
         "0",
         "0",
         "0"
        ],
        [
         "9",
         "2015-01-01 04:30:00",
         "-7.0",
         "74",
         "11.1",
         "220",
         "SW",
         "1035",
         "8.0",
         "-12.0",
         "0",
         "0",
         "0",
         "0",
         "0"
        ]
       ],
       "shape": {
        "columns": 14,
        "rows": 10
       }
      },
      "text/html": [
       "<div>\n",
       "<style scoped>\n",
       "    .dataframe tbody tr th:only-of-type {\n",
       "        vertical-align: middle;\n",
       "    }\n",
       "\n",
       "    .dataframe tbody tr th {\n",
       "        vertical-align: top;\n",
       "    }\n",
       "\n",
       "    .dataframe thead th {\n",
       "        text-align: right;\n",
       "    }\n",
       "</style>\n",
       "<table border=\"1\" class=\"dataframe\">\n",
       "  <thead>\n",
       "    <tr style=\"text-align: right;\">\n",
       "      <th></th>\n",
       "      <th>time</th>\n",
       "      <th>tempm</th>\n",
       "      <th>hum</th>\n",
       "      <th>wspdm</th>\n",
       "      <th>wdird</th>\n",
       "      <th>wdire</th>\n",
       "      <th>pressurem</th>\n",
       "      <th>vism</th>\n",
       "      <th>windchillm</th>\n",
       "      <th>fog</th>\n",
       "      <th>rain</th>\n",
       "      <th>snow</th>\n",
       "      <th>hail</th>\n",
       "      <th>thunder</th>\n",
       "    </tr>\n",
       "  </thead>\n",
       "  <tbody>\n",
       "    <tr>\n",
       "      <th>0</th>\n",
       "      <td>2015-01-01 00:00:00</td>\n",
       "      <td>-12.0</td>\n",
       "      <td>85</td>\n",
       "      <td>5.6</td>\n",
       "      <td>0</td>\n",
       "      <td>Variable</td>\n",
       "      <td>1037</td>\n",
       "      <td>5.0</td>\n",
       "      <td>-15.5</td>\n",
       "      <td>0</td>\n",
       "      <td>0</td>\n",
       "      <td>0</td>\n",
       "      <td>0</td>\n",
       "      <td>0</td>\n",
       "    </tr>\n",
       "    <tr>\n",
       "      <th>1</th>\n",
       "      <td>2015-01-01 00:30:00</td>\n",
       "      <td>-11.0</td>\n",
       "      <td>85</td>\n",
       "      <td>3.7</td>\n",
       "      <td>0</td>\n",
       "      <td>Variable</td>\n",
       "      <td>1036</td>\n",
       "      <td>4.0</td>\n",
       "      <td>-999.0</td>\n",
       "      <td>0</td>\n",
       "      <td>0</td>\n",
       "      <td>0</td>\n",
       "      <td>0</td>\n",
       "      <td>0</td>\n",
       "    </tr>\n",
       "    <tr>\n",
       "      <th>2</th>\n",
       "      <td>2015-01-01 01:00:00</td>\n",
       "      <td>-10.0</td>\n",
       "      <td>86</td>\n",
       "      <td>3.7</td>\n",
       "      <td>0</td>\n",
       "      <td>Variable</td>\n",
       "      <td>1036</td>\n",
       "      <td>4.0</td>\n",
       "      <td>-999.0</td>\n",
       "      <td>0</td>\n",
       "      <td>0</td>\n",
       "      <td>0</td>\n",
       "      <td>0</td>\n",
       "      <td>0</td>\n",
       "    </tr>\n",
       "    <tr>\n",
       "      <th>3</th>\n",
       "      <td>2015-01-01 01:30:00</td>\n",
       "      <td>-10.0</td>\n",
       "      <td>86</td>\n",
       "      <td>0.0</td>\n",
       "      <td>0</td>\n",
       "      <td>North</td>\n",
       "      <td>1036</td>\n",
       "      <td>5.0</td>\n",
       "      <td>-999.0</td>\n",
       "      <td>0</td>\n",
       "      <td>0</td>\n",
       "      <td>0</td>\n",
       "      <td>0</td>\n",
       "      <td>0</td>\n",
       "    </tr>\n",
       "    <tr>\n",
       "      <th>4</th>\n",
       "      <td>2015-01-01 02:00:00</td>\n",
       "      <td>-9.0</td>\n",
       "      <td>79</td>\n",
       "      <td>0.0</td>\n",
       "      <td>0</td>\n",
       "      <td>North</td>\n",
       "      <td>1036</td>\n",
       "      <td>4.0</td>\n",
       "      <td>-999.0</td>\n",
       "      <td>0</td>\n",
       "      <td>0</td>\n",
       "      <td>0</td>\n",
       "      <td>0</td>\n",
       "      <td>0</td>\n",
       "    </tr>\n",
       "    <tr>\n",
       "      <th>5</th>\n",
       "      <td>2015-01-01 02:30:00</td>\n",
       "      <td>-8.0</td>\n",
       "      <td>79</td>\n",
       "      <td>3.7</td>\n",
       "      <td>0</td>\n",
       "      <td>Variable</td>\n",
       "      <td>1036</td>\n",
       "      <td>4.0</td>\n",
       "      <td>-999.0</td>\n",
       "      <td>0</td>\n",
       "      <td>0</td>\n",
       "      <td>0</td>\n",
       "      <td>0</td>\n",
       "      <td>0</td>\n",
       "    </tr>\n",
       "    <tr>\n",
       "      <th>6</th>\n",
       "      <td>2015-01-01 03:00:00</td>\n",
       "      <td>-7.0</td>\n",
       "      <td>74</td>\n",
       "      <td>9.3</td>\n",
       "      <td>230</td>\n",
       "      <td>SW</td>\n",
       "      <td>1036</td>\n",
       "      <td>5.0</td>\n",
       "      <td>-11.4</td>\n",
       "      <td>0</td>\n",
       "      <td>0</td>\n",
       "      <td>0</td>\n",
       "      <td>0</td>\n",
       "      <td>0</td>\n",
       "    </tr>\n",
       "    <tr>\n",
       "      <th>7</th>\n",
       "      <td>2015-01-01 03:30:00</td>\n",
       "      <td>-7.0</td>\n",
       "      <td>74</td>\n",
       "      <td>11.1</td>\n",
       "      <td>250</td>\n",
       "      <td>WSW</td>\n",
       "      <td>1036</td>\n",
       "      <td>6.0</td>\n",
       "      <td>-12.0</td>\n",
       "      <td>0</td>\n",
       "      <td>0</td>\n",
       "      <td>0</td>\n",
       "      <td>0</td>\n",
       "      <td>0</td>\n",
       "    </tr>\n",
       "    <tr>\n",
       "      <th>8</th>\n",
       "      <td>2015-01-01 04:00:00</td>\n",
       "      <td>-7.0</td>\n",
       "      <td>74</td>\n",
       "      <td>11.1</td>\n",
       "      <td>240</td>\n",
       "      <td>WSW</td>\n",
       "      <td>1035</td>\n",
       "      <td>6.0</td>\n",
       "      <td>-12.0</td>\n",
       "      <td>0</td>\n",
       "      <td>0</td>\n",
       "      <td>0</td>\n",
       "      <td>0</td>\n",
       "      <td>0</td>\n",
       "    </tr>\n",
       "    <tr>\n",
       "      <th>9</th>\n",
       "      <td>2015-01-01 04:30:00</td>\n",
       "      <td>-7.0</td>\n",
       "      <td>74</td>\n",
       "      <td>11.1</td>\n",
       "      <td>220</td>\n",
       "      <td>SW</td>\n",
       "      <td>1035</td>\n",
       "      <td>8.0</td>\n",
       "      <td>-12.0</td>\n",
       "      <td>0</td>\n",
       "      <td>0</td>\n",
       "      <td>0</td>\n",
       "      <td>0</td>\n",
       "      <td>0</td>\n",
       "    </tr>\n",
       "  </tbody>\n",
       "</table>\n",
       "</div>"
      ],
      "text/plain": [
       "                  time  tempm  hum  wspdm  wdird     wdire  pressurem  vism  \\\n",
       "0  2015-01-01 00:00:00  -12.0   85    5.6      0  Variable       1037   5.0   \n",
       "1  2015-01-01 00:30:00  -11.0   85    3.7      0  Variable       1036   4.0   \n",
       "2  2015-01-01 01:00:00  -10.0   86    3.7      0  Variable       1036   4.0   \n",
       "3  2015-01-01 01:30:00  -10.0   86    0.0      0     North       1036   5.0   \n",
       "4  2015-01-01 02:00:00   -9.0   79    0.0      0     North       1036   4.0   \n",
       "5  2015-01-01 02:30:00   -8.0   79    3.7      0  Variable       1036   4.0   \n",
       "6  2015-01-01 03:00:00   -7.0   74    9.3    230        SW       1036   5.0   \n",
       "7  2015-01-01 03:30:00   -7.0   74   11.1    250       WSW       1036   6.0   \n",
       "8  2015-01-01 04:00:00   -7.0   74   11.1    240       WSW       1035   6.0   \n",
       "9  2015-01-01 04:30:00   -7.0   74   11.1    220        SW       1035   8.0   \n",
       "\n",
       "   windchillm  fog  rain  snow  hail  thunder  \n",
       "0       -15.5    0     0     0     0        0  \n",
       "1      -999.0    0     0     0     0        0  \n",
       "2      -999.0    0     0     0     0        0  \n",
       "3      -999.0    0     0     0     0        0  \n",
       "4      -999.0    0     0     0     0        0  \n",
       "5      -999.0    0     0     0     0        0  \n",
       "6       -11.4    0     0     0     0        0  \n",
       "7       -12.0    0     0     0     0        0  \n",
       "8       -12.0    0     0     0     0        0  \n",
       "9       -12.0    0     0     0     0        0  "
      ]
     },
     "execution_count": 3,
     "metadata": {},
     "output_type": "execute_result"
    }
   ],
   "source": [
    "df.head(10) #first 10 rows of the dataset"
   ]
  },
  {
   "cell_type": "code",
   "execution_count": 4,
   "id": "d6c695fb",
   "metadata": {},
   "outputs": [
    {
     "data": {
      "application/vnd.microsoft.datawrangler.viewer.v0+json": {
       "columns": [
        {
         "name": "index",
         "rawType": "int64",
         "type": "integer"
        },
        {
         "name": "time",
         "rawType": "object",
         "type": "string"
        },
        {
         "name": "tempm",
         "rawType": "float64",
         "type": "float"
        },
        {
         "name": "hum",
         "rawType": "int64",
         "type": "integer"
        },
        {
         "name": "wspdm",
         "rawType": "float64",
         "type": "float"
        },
        {
         "name": "wdird",
         "rawType": "int64",
         "type": "integer"
        },
        {
         "name": "wdire",
         "rawType": "object",
         "type": "string"
        },
        {
         "name": "pressurem",
         "rawType": "int64",
         "type": "integer"
        },
        {
         "name": "vism",
         "rawType": "float64",
         "type": "float"
        },
        {
         "name": "windchillm",
         "rawType": "float64",
         "type": "float"
        },
        {
         "name": "fog",
         "rawType": "int64",
         "type": "integer"
        },
        {
         "name": "rain",
         "rawType": "int64",
         "type": "integer"
        },
        {
         "name": "snow",
         "rawType": "int64",
         "type": "integer"
        },
        {
         "name": "hail",
         "rawType": "int64",
         "type": "integer"
        },
        {
         "name": "thunder",
         "rawType": "int64",
         "type": "integer"
        }
       ],
       "conversionMethod": "pd.DataFrame",
       "ref": "aef51790-c3f7-486d-bd47-f1608644bfa7",
       "rows": [
        [
         "7225",
         "2015-05-31 19:00:00",
         "22.0",
         "50",
         "3.7",
         "0",
         "Variable",
         "1018",
         "-9999.0",
         "-999.0",
         "0",
         "0",
         "0",
         "0",
         "0"
        ],
        [
         "7226",
         "2015-05-31 19:30:00",
         "21.0",
         "53",
         "9.3",
         "160",
         "SSE",
         "1018",
         "-9999.0",
         "-999.0",
         "0",
         "0",
         "0",
         "0",
         "0"
        ],
        [
         "7227",
         "2015-05-31 20:00:00",
         "20.0",
         "56",
         "5.6",
         "0",
         "Variable",
         "1018",
         "-9999.0",
         "-999.0",
         "0",
         "0",
         "0",
         "0",
         "0"
        ],
        [
         "7228",
         "2015-05-31 20:30:00",
         "17.0",
         "77",
         "3.7",
         "0",
         "Variable",
         "1018",
         "-9999.0",
         "-999.0",
         "0",
         "0",
         "0",
         "0",
         "0"
        ],
        [
         "7229",
         "2015-05-31 21:00:00",
         "18.0",
         "64",
         "3.7",
         "0",
         "Variable",
         "1018",
         "-9999.0",
         "-999.0",
         "0",
         "0",
         "0",
         "0",
         "0"
        ],
        [
         "7230",
         "2015-05-31 21:30:00",
         "16.0",
         "77",
         "3.7",
         "0",
         "Variable",
         "1019",
         "-9999.0",
         "-999.0",
         "0",
         "0",
         "0",
         "0",
         "0"
        ],
        [
         "7231",
         "2015-05-31 22:00:00",
         "14.0",
         "88",
         "3.7",
         "0",
         "Variable",
         "1019",
         "-9999.0",
         "-999.0",
         "0",
         "0",
         "0",
         "0",
         "0"
        ],
        [
         "7232",
         "2015-05-31 22:30:00",
         "14.0",
         "88",
         "3.7",
         "0",
         "Variable",
         "1019",
         "-9999.0",
         "-999.0",
         "0",
         "0",
         "0",
         "0",
         "0"
        ],
        [
         "7233",
         "2015-05-31 23:00:00",
         "15.0",
         "82",
         "3.7",
         "0",
         "Variable",
         "1019",
         "-9999.0",
         "-999.0",
         "0",
         "0",
         "0",
         "0",
         "0"
        ],
        [
         "7234",
         "2015-05-31 23:30:00",
         "13.0",
         "94",
         "1.9",
         "0",
         "Variable",
         "1019",
         "-9999.0",
         "-999.0",
         "0",
         "0",
         "0",
         "0",
         "0"
        ]
       ],
       "shape": {
        "columns": 14,
        "rows": 10
       }
      },
      "text/html": [
       "<div>\n",
       "<style scoped>\n",
       "    .dataframe tbody tr th:only-of-type {\n",
       "        vertical-align: middle;\n",
       "    }\n",
       "\n",
       "    .dataframe tbody tr th {\n",
       "        vertical-align: top;\n",
       "    }\n",
       "\n",
       "    .dataframe thead th {\n",
       "        text-align: right;\n",
       "    }\n",
       "</style>\n",
       "<table border=\"1\" class=\"dataframe\">\n",
       "  <thead>\n",
       "    <tr style=\"text-align: right;\">\n",
       "      <th></th>\n",
       "      <th>time</th>\n",
       "      <th>tempm</th>\n",
       "      <th>hum</th>\n",
       "      <th>wspdm</th>\n",
       "      <th>wdird</th>\n",
       "      <th>wdire</th>\n",
       "      <th>pressurem</th>\n",
       "      <th>vism</th>\n",
       "      <th>windchillm</th>\n",
       "      <th>fog</th>\n",
       "      <th>rain</th>\n",
       "      <th>snow</th>\n",
       "      <th>hail</th>\n",
       "      <th>thunder</th>\n",
       "    </tr>\n",
       "  </thead>\n",
       "  <tbody>\n",
       "    <tr>\n",
       "      <th>7225</th>\n",
       "      <td>2015-05-31 19:00:00</td>\n",
       "      <td>22.0</td>\n",
       "      <td>50</td>\n",
       "      <td>3.7</td>\n",
       "      <td>0</td>\n",
       "      <td>Variable</td>\n",
       "      <td>1018</td>\n",
       "      <td>-9999.0</td>\n",
       "      <td>-999.0</td>\n",
       "      <td>0</td>\n",
       "      <td>0</td>\n",
       "      <td>0</td>\n",
       "      <td>0</td>\n",
       "      <td>0</td>\n",
       "    </tr>\n",
       "    <tr>\n",
       "      <th>7226</th>\n",
       "      <td>2015-05-31 19:30:00</td>\n",
       "      <td>21.0</td>\n",
       "      <td>53</td>\n",
       "      <td>9.3</td>\n",
       "      <td>160</td>\n",
       "      <td>SSE</td>\n",
       "      <td>1018</td>\n",
       "      <td>-9999.0</td>\n",
       "      <td>-999.0</td>\n",
       "      <td>0</td>\n",
       "      <td>0</td>\n",
       "      <td>0</td>\n",
       "      <td>0</td>\n",
       "      <td>0</td>\n",
       "    </tr>\n",
       "    <tr>\n",
       "      <th>7227</th>\n",
       "      <td>2015-05-31 20:00:00</td>\n",
       "      <td>20.0</td>\n",
       "      <td>56</td>\n",
       "      <td>5.6</td>\n",
       "      <td>0</td>\n",
       "      <td>Variable</td>\n",
       "      <td>1018</td>\n",
       "      <td>-9999.0</td>\n",
       "      <td>-999.0</td>\n",
       "      <td>0</td>\n",
       "      <td>0</td>\n",
       "      <td>0</td>\n",
       "      <td>0</td>\n",
       "      <td>0</td>\n",
       "    </tr>\n",
       "    <tr>\n",
       "      <th>7228</th>\n",
       "      <td>2015-05-31 20:30:00</td>\n",
       "      <td>17.0</td>\n",
       "      <td>77</td>\n",
       "      <td>3.7</td>\n",
       "      <td>0</td>\n",
       "      <td>Variable</td>\n",
       "      <td>1018</td>\n",
       "      <td>-9999.0</td>\n",
       "      <td>-999.0</td>\n",
       "      <td>0</td>\n",
       "      <td>0</td>\n",
       "      <td>0</td>\n",
       "      <td>0</td>\n",
       "      <td>0</td>\n",
       "    </tr>\n",
       "    <tr>\n",
       "      <th>7229</th>\n",
       "      <td>2015-05-31 21:00:00</td>\n",
       "      <td>18.0</td>\n",
       "      <td>64</td>\n",
       "      <td>3.7</td>\n",
       "      <td>0</td>\n",
       "      <td>Variable</td>\n",
       "      <td>1018</td>\n",
       "      <td>-9999.0</td>\n",
       "      <td>-999.0</td>\n",
       "      <td>0</td>\n",
       "      <td>0</td>\n",
       "      <td>0</td>\n",
       "      <td>0</td>\n",
       "      <td>0</td>\n",
       "    </tr>\n",
       "    <tr>\n",
       "      <th>7230</th>\n",
       "      <td>2015-05-31 21:30:00</td>\n",
       "      <td>16.0</td>\n",
       "      <td>77</td>\n",
       "      <td>3.7</td>\n",
       "      <td>0</td>\n",
       "      <td>Variable</td>\n",
       "      <td>1019</td>\n",
       "      <td>-9999.0</td>\n",
       "      <td>-999.0</td>\n",
       "      <td>0</td>\n",
       "      <td>0</td>\n",
       "      <td>0</td>\n",
       "      <td>0</td>\n",
       "      <td>0</td>\n",
       "    </tr>\n",
       "    <tr>\n",
       "      <th>7231</th>\n",
       "      <td>2015-05-31 22:00:00</td>\n",
       "      <td>14.0</td>\n",
       "      <td>88</td>\n",
       "      <td>3.7</td>\n",
       "      <td>0</td>\n",
       "      <td>Variable</td>\n",
       "      <td>1019</td>\n",
       "      <td>-9999.0</td>\n",
       "      <td>-999.0</td>\n",
       "      <td>0</td>\n",
       "      <td>0</td>\n",
       "      <td>0</td>\n",
       "      <td>0</td>\n",
       "      <td>0</td>\n",
       "    </tr>\n",
       "    <tr>\n",
       "      <th>7232</th>\n",
       "      <td>2015-05-31 22:30:00</td>\n",
       "      <td>14.0</td>\n",
       "      <td>88</td>\n",
       "      <td>3.7</td>\n",
       "      <td>0</td>\n",
       "      <td>Variable</td>\n",
       "      <td>1019</td>\n",
       "      <td>-9999.0</td>\n",
       "      <td>-999.0</td>\n",
       "      <td>0</td>\n",
       "      <td>0</td>\n",
       "      <td>0</td>\n",
       "      <td>0</td>\n",
       "      <td>0</td>\n",
       "    </tr>\n",
       "    <tr>\n",
       "      <th>7233</th>\n",
       "      <td>2015-05-31 23:00:00</td>\n",
       "      <td>15.0</td>\n",
       "      <td>82</td>\n",
       "      <td>3.7</td>\n",
       "      <td>0</td>\n",
       "      <td>Variable</td>\n",
       "      <td>1019</td>\n",
       "      <td>-9999.0</td>\n",
       "      <td>-999.0</td>\n",
       "      <td>0</td>\n",
       "      <td>0</td>\n",
       "      <td>0</td>\n",
       "      <td>0</td>\n",
       "      <td>0</td>\n",
       "    </tr>\n",
       "    <tr>\n",
       "      <th>7234</th>\n",
       "      <td>2015-05-31 23:30:00</td>\n",
       "      <td>13.0</td>\n",
       "      <td>94</td>\n",
       "      <td>1.9</td>\n",
       "      <td>0</td>\n",
       "      <td>Variable</td>\n",
       "      <td>1019</td>\n",
       "      <td>-9999.0</td>\n",
       "      <td>-999.0</td>\n",
       "      <td>0</td>\n",
       "      <td>0</td>\n",
       "      <td>0</td>\n",
       "      <td>0</td>\n",
       "      <td>0</td>\n",
       "    </tr>\n",
       "  </tbody>\n",
       "</table>\n",
       "</div>"
      ],
      "text/plain": [
       "                     time  tempm  hum  wspdm  wdird     wdire  pressurem  \\\n",
       "7225  2015-05-31 19:00:00   22.0   50    3.7      0  Variable       1018   \n",
       "7226  2015-05-31 19:30:00   21.0   53    9.3    160       SSE       1018   \n",
       "7227  2015-05-31 20:00:00   20.0   56    5.6      0  Variable       1018   \n",
       "7228  2015-05-31 20:30:00   17.0   77    3.7      0  Variable       1018   \n",
       "7229  2015-05-31 21:00:00   18.0   64    3.7      0  Variable       1018   \n",
       "7230  2015-05-31 21:30:00   16.0   77    3.7      0  Variable       1019   \n",
       "7231  2015-05-31 22:00:00   14.0   88    3.7      0  Variable       1019   \n",
       "7232  2015-05-31 22:30:00   14.0   88    3.7      0  Variable       1019   \n",
       "7233  2015-05-31 23:00:00   15.0   82    3.7      0  Variable       1019   \n",
       "7234  2015-05-31 23:30:00   13.0   94    1.9      0  Variable       1019   \n",
       "\n",
       "        vism  windchillm  fog  rain  snow  hail  thunder  \n",
       "7225 -9999.0      -999.0    0     0     0     0        0  \n",
       "7226 -9999.0      -999.0    0     0     0     0        0  \n",
       "7227 -9999.0      -999.0    0     0     0     0        0  \n",
       "7228 -9999.0      -999.0    0     0     0     0        0  \n",
       "7229 -9999.0      -999.0    0     0     0     0        0  \n",
       "7230 -9999.0      -999.0    0     0     0     0        0  \n",
       "7231 -9999.0      -999.0    0     0     0     0        0  \n",
       "7232 -9999.0      -999.0    0     0     0     0        0  \n",
       "7233 -9999.0      -999.0    0     0     0     0        0  \n",
       "7234 -9999.0      -999.0    0     0     0     0        0  "
      ]
     },
     "execution_count": 4,
     "metadata": {},
     "output_type": "execute_result"
    }
   ],
   "source": [
    "df.tail(10) #last 10 rows  "
   ]
  },
  {
   "cell_type": "code",
   "execution_count": 5,
   "id": "ff76ac6f",
   "metadata": {},
   "outputs": [
    {
     "data": {
      "text/plain": [
       "(7235, 14)"
      ]
     },
     "execution_count": 5,
     "metadata": {},
     "output_type": "execute_result"
    }
   ],
   "source": [
    "df.shape"
   ]
  },
  {
   "cell_type": "markdown",
   "id": "11f07a52",
   "metadata": {},
   "source": [
    "This table has 7235 rows and 14 columns"
   ]
  },
  {
   "cell_type": "code",
   "execution_count": 6,
   "id": "767c7897",
   "metadata": {},
   "outputs": [
    {
     "name": "stdout",
     "output_type": "stream",
     "text": [
      "<class 'pandas.core.frame.DataFrame'>\n",
      "RangeIndex: 7235 entries, 0 to 7234\n",
      "Data columns (total 14 columns):\n",
      " #   Column      Non-Null Count  Dtype  \n",
      "---  ------      --------------  -----  \n",
      " 0   time        7235 non-null   object \n",
      " 1   tempm       7235 non-null   float64\n",
      " 2   hum         7235 non-null   int64  \n",
      " 3   wspdm       7235 non-null   float64\n",
      " 4   wdird       7235 non-null   int64  \n",
      " 5   wdire       7235 non-null   object \n",
      " 6   pressurem   7235 non-null   int64  \n",
      " 7   vism        7235 non-null   float64\n",
      " 8   windchillm  7235 non-null   float64\n",
      " 9   fog         7235 non-null   int64  \n",
      " 10  rain        7235 non-null   int64  \n",
      " 11  snow        7235 non-null   int64  \n",
      " 12  hail        7235 non-null   int64  \n",
      " 13  thunder     7235 non-null   int64  \n",
      "dtypes: float64(4), int64(8), object(2)\n",
      "memory usage: 791.5+ KB\n"
     ]
    }
   ],
   "source": [
    "df.info() #information about the dataset"
   ]
  },
  {
   "cell_type": "markdown",
   "id": "e72d5062",
   "metadata": {},
   "source": [
    "The time variable is object type, we should change it in date type to operate. We can also see already that there are no null values."
   ]
  },
  {
   "cell_type": "code",
   "execution_count": 7,
   "id": "890db3a8",
   "metadata": {},
   "outputs": [
    {
     "data": {
      "text/plain": [
       "time          0\n",
       "tempm         0\n",
       "hum           0\n",
       "wspdm         0\n",
       "wdird         0\n",
       "wdire         0\n",
       "pressurem     0\n",
       "vism          0\n",
       "windchillm    0\n",
       "fog           0\n",
       "rain          0\n",
       "snow          0\n",
       "hail          0\n",
       "thunder       0\n",
       "dtype: int64"
      ]
     },
     "execution_count": 7,
     "metadata": {},
     "output_type": "execute_result"
    }
   ],
   "source": [
    "df.isnull().sum() #checking for null values "
   ]
  },
  {
   "cell_type": "code",
   "execution_count": 8,
   "id": "96064cdc",
   "metadata": {},
   "outputs": [
    {
     "data": {
      "text/plain": [
       "0"
      ]
     },
     "execution_count": 8,
     "metadata": {},
     "output_type": "execute_result"
    }
   ],
   "source": [
    "df.duplicated().sum() #checking for duplicate values  "
   ]
  },
  {
   "cell_type": "markdown",
   "id": "3ee8678d",
   "metadata": {},
   "source": [
    "Let's first conver time in date format"
   ]
  },
  {
   "cell_type": "code",
   "execution_count": 9,
   "id": "2951b542",
   "metadata": {},
   "outputs": [],
   "source": [
    "df['time'] = pd.to_datetime(df['time']) #converting time column to datetime format"
   ]
  },
  {
   "cell_type": "code",
   "execution_count": 10,
   "id": "a7f88f9e",
   "metadata": {},
   "outputs": [
    {
     "name": "stdout",
     "output_type": "stream",
     "text": [
      "<class 'pandas.core.series.Series'>\n",
      "RangeIndex: 7235 entries, 0 to 7234\n",
      "Series name: time\n",
      "Non-Null Count  Dtype         \n",
      "--------------  -----         \n",
      "7235 non-null   datetime64[ns]\n",
      "dtypes: datetime64[ns](1)\n",
      "memory usage: 56.7 KB\n"
     ]
    }
   ],
   "source": [
    "df['time'].info() "
   ]
  },
  {
   "cell_type": "code",
   "execution_count": 11,
   "id": "37269570",
   "metadata": {},
   "outputs": [
    {
     "data": {
      "application/vnd.microsoft.datawrangler.viewer.v0+json": {
       "columns": [
        {
         "name": "index",
         "rawType": "object",
         "type": "string"
        },
        {
         "name": "tempm",
         "rawType": "float64",
         "type": "float"
        },
        {
         "name": "hum",
         "rawType": "float64",
         "type": "float"
        },
        {
         "name": "wspdm",
         "rawType": "float64",
         "type": "float"
        },
        {
         "name": "wdird",
         "rawType": "float64",
         "type": "float"
        },
        {
         "name": "pressurem",
         "rawType": "float64",
         "type": "float"
        },
        {
         "name": "vism",
         "rawType": "float64",
         "type": "float"
        },
        {
         "name": "windchillm",
         "rawType": "float64",
         "type": "float"
        },
        {
         "name": "fog",
         "rawType": "float64",
         "type": "float"
        },
        {
         "name": "rain",
         "rawType": "float64",
         "type": "float"
        },
        {
         "name": "snow",
         "rawType": "float64",
         "type": "float"
        },
        {
         "name": "hail",
         "rawType": "float64",
         "type": "float"
        },
        {
         "name": "thunder",
         "rawType": "float64",
         "type": "float"
        }
       ],
       "conversionMethod": "pd.DataFrame",
       "ref": "a71392bf-5de2-4569-9fc9-4108afc4c651",
       "rows": [
        [
         "count",
         "7235.0",
         "7235.0",
         "7235.0",
         "7235.0",
         "7235.0",
         "7235.0",
         "7235.0",
         "7235.0",
         "7235.0",
         "7235.0",
         "7235.0",
         "7235.0"
        ],
        [
         "mean",
         "7.549274360746372",
         "70.8866620594333",
         "10.264768486523844",
         "160.10642709053212",
         "1016.9665514858327",
         "-5755.704961990325",
         "-501.1939322736697",
         "0.012854181064270906",
         "0.089426399447132",
         "0.019350380096751902",
         "0.0",
         "0.003731859018659295"
        ],
        [
         "std",
         "7.4026086877769535",
         "21.546290006907334",
         "166.68304672643217",
         "128.72764671764835",
         "9.12335142685457",
         "4945.58134530502",
         "499.43504401849435",
         "0.11265302998429448",
         "0.28537795114736036",
         "0.137762716463271",
         "0.0",
         "0.0609790636153513"
        ],
        [
         "min",
         "-13.0",
         "17.0",
         "-9999.0",
         "0.0",
         "974.0",
         "-9999.0",
         "-999.0",
         "0.0",
         "0.0",
         "0.0",
         "0.0",
         "0.0"
        ],
        [
         "25%",
         "2.0",
         "54.0",
         "7.4",
         "10.0",
         "1012.0",
         "-9999.0",
         "-999.0",
         "0.0",
         "0.0",
         "0.0",
         "0.0",
         "0.0"
        ],
        [
         "50%",
         "7.0",
         "74.0",
         "11.1",
         "140.0",
         "1017.0",
         "-9999.0",
         "-999.0",
         "0.0",
         "0.0",
         "0.0",
         "0.0",
         "0.0"
        ],
        [
         "75%",
         "13.0",
         "88.0",
         "16.7",
         "300.0",
         "1023.0",
         "8.0",
         "0.0",
         "0.0",
         "0.0",
         "0.0",
         "0.0",
         "0.0"
        ],
        [
         "max",
         "30.0",
         "100.0",
         "57.4",
         "360.0",
         "1041.0",
         "10.0",
         "7.3",
         "1.0",
         "1.0",
         "1.0",
         "0.0",
         "1.0"
        ]
       ],
       "shape": {
        "columns": 12,
        "rows": 8
       }
      },
      "text/html": [
       "<div>\n",
       "<style scoped>\n",
       "    .dataframe tbody tr th:only-of-type {\n",
       "        vertical-align: middle;\n",
       "    }\n",
       "\n",
       "    .dataframe tbody tr th {\n",
       "        vertical-align: top;\n",
       "    }\n",
       "\n",
       "    .dataframe thead th {\n",
       "        text-align: right;\n",
       "    }\n",
       "</style>\n",
       "<table border=\"1\" class=\"dataframe\">\n",
       "  <thead>\n",
       "    <tr style=\"text-align: right;\">\n",
       "      <th></th>\n",
       "      <th>tempm</th>\n",
       "      <th>hum</th>\n",
       "      <th>wspdm</th>\n",
       "      <th>wdird</th>\n",
       "      <th>pressurem</th>\n",
       "      <th>vism</th>\n",
       "      <th>windchillm</th>\n",
       "      <th>fog</th>\n",
       "      <th>rain</th>\n",
       "      <th>snow</th>\n",
       "      <th>hail</th>\n",
       "      <th>thunder</th>\n",
       "    </tr>\n",
       "  </thead>\n",
       "  <tbody>\n",
       "    <tr>\n",
       "      <th>count</th>\n",
       "      <td>7235.000000</td>\n",
       "      <td>7235.000000</td>\n",
       "      <td>7235.000000</td>\n",
       "      <td>7235.000000</td>\n",
       "      <td>7235.000000</td>\n",
       "      <td>7235.000000</td>\n",
       "      <td>7235.000000</td>\n",
       "      <td>7235.000000</td>\n",
       "      <td>7235.000000</td>\n",
       "      <td>7235.000000</td>\n",
       "      <td>7235.0</td>\n",
       "      <td>7235.000000</td>\n",
       "    </tr>\n",
       "    <tr>\n",
       "      <th>mean</th>\n",
       "      <td>7.549274</td>\n",
       "      <td>70.886662</td>\n",
       "      <td>10.264768</td>\n",
       "      <td>160.106427</td>\n",
       "      <td>1016.966551</td>\n",
       "      <td>-5755.704962</td>\n",
       "      <td>-501.193932</td>\n",
       "      <td>0.012854</td>\n",
       "      <td>0.089426</td>\n",
       "      <td>0.019350</td>\n",
       "      <td>0.0</td>\n",
       "      <td>0.003732</td>\n",
       "    </tr>\n",
       "    <tr>\n",
       "      <th>std</th>\n",
       "      <td>7.402609</td>\n",
       "      <td>21.546290</td>\n",
       "      <td>166.683047</td>\n",
       "      <td>128.727647</td>\n",
       "      <td>9.123351</td>\n",
       "      <td>4945.581345</td>\n",
       "      <td>499.435044</td>\n",
       "      <td>0.112653</td>\n",
       "      <td>0.285378</td>\n",
       "      <td>0.137763</td>\n",
       "      <td>0.0</td>\n",
       "      <td>0.060979</td>\n",
       "    </tr>\n",
       "    <tr>\n",
       "      <th>min</th>\n",
       "      <td>-13.000000</td>\n",
       "      <td>17.000000</td>\n",
       "      <td>-9999.000000</td>\n",
       "      <td>0.000000</td>\n",
       "      <td>974.000000</td>\n",
       "      <td>-9999.000000</td>\n",
       "      <td>-999.000000</td>\n",
       "      <td>0.000000</td>\n",
       "      <td>0.000000</td>\n",
       "      <td>0.000000</td>\n",
       "      <td>0.0</td>\n",
       "      <td>0.000000</td>\n",
       "    </tr>\n",
       "    <tr>\n",
       "      <th>25%</th>\n",
       "      <td>2.000000</td>\n",
       "      <td>54.000000</td>\n",
       "      <td>7.400000</td>\n",
       "      <td>10.000000</td>\n",
       "      <td>1012.000000</td>\n",
       "      <td>-9999.000000</td>\n",
       "      <td>-999.000000</td>\n",
       "      <td>0.000000</td>\n",
       "      <td>0.000000</td>\n",
       "      <td>0.000000</td>\n",
       "      <td>0.0</td>\n",
       "      <td>0.000000</td>\n",
       "    </tr>\n",
       "    <tr>\n",
       "      <th>50%</th>\n",
       "      <td>7.000000</td>\n",
       "      <td>74.000000</td>\n",
       "      <td>11.100000</td>\n",
       "      <td>140.000000</td>\n",
       "      <td>1017.000000</td>\n",
       "      <td>-9999.000000</td>\n",
       "      <td>-999.000000</td>\n",
       "      <td>0.000000</td>\n",
       "      <td>0.000000</td>\n",
       "      <td>0.000000</td>\n",
       "      <td>0.0</td>\n",
       "      <td>0.000000</td>\n",
       "    </tr>\n",
       "    <tr>\n",
       "      <th>75%</th>\n",
       "      <td>13.000000</td>\n",
       "      <td>88.000000</td>\n",
       "      <td>16.700000</td>\n",
       "      <td>300.000000</td>\n",
       "      <td>1023.000000</td>\n",
       "      <td>8.000000</td>\n",
       "      <td>0.000000</td>\n",
       "      <td>0.000000</td>\n",
       "      <td>0.000000</td>\n",
       "      <td>0.000000</td>\n",
       "      <td>0.0</td>\n",
       "      <td>0.000000</td>\n",
       "    </tr>\n",
       "    <tr>\n",
       "      <th>max</th>\n",
       "      <td>30.000000</td>\n",
       "      <td>100.000000</td>\n",
       "      <td>57.400000</td>\n",
       "      <td>360.000000</td>\n",
       "      <td>1041.000000</td>\n",
       "      <td>10.000000</td>\n",
       "      <td>7.300000</td>\n",
       "      <td>1.000000</td>\n",
       "      <td>1.000000</td>\n",
       "      <td>1.000000</td>\n",
       "      <td>0.0</td>\n",
       "      <td>1.000000</td>\n",
       "    </tr>\n",
       "  </tbody>\n",
       "</table>\n",
       "</div>"
      ],
      "text/plain": [
       "             tempm          hum        wspdm        wdird    pressurem  \\\n",
       "count  7235.000000  7235.000000  7235.000000  7235.000000  7235.000000   \n",
       "mean      7.549274    70.886662    10.264768   160.106427  1016.966551   \n",
       "std       7.402609    21.546290   166.683047   128.727647     9.123351   \n",
       "min     -13.000000    17.000000 -9999.000000     0.000000   974.000000   \n",
       "25%       2.000000    54.000000     7.400000    10.000000  1012.000000   \n",
       "50%       7.000000    74.000000    11.100000   140.000000  1017.000000   \n",
       "75%      13.000000    88.000000    16.700000   300.000000  1023.000000   \n",
       "max      30.000000   100.000000    57.400000   360.000000  1041.000000   \n",
       "\n",
       "              vism   windchillm          fog         rain         snow  \\\n",
       "count  7235.000000  7235.000000  7235.000000  7235.000000  7235.000000   \n",
       "mean  -5755.704962  -501.193932     0.012854     0.089426     0.019350   \n",
       "std    4945.581345   499.435044     0.112653     0.285378     0.137763   \n",
       "min   -9999.000000  -999.000000     0.000000     0.000000     0.000000   \n",
       "25%   -9999.000000  -999.000000     0.000000     0.000000     0.000000   \n",
       "50%   -9999.000000  -999.000000     0.000000     0.000000     0.000000   \n",
       "75%       8.000000     0.000000     0.000000     0.000000     0.000000   \n",
       "max      10.000000     7.300000     1.000000     1.000000     1.000000   \n",
       "\n",
       "         hail      thunder  \n",
       "count  7235.0  7235.000000  \n",
       "mean      0.0     0.003732  \n",
       "std       0.0     0.060979  \n",
       "min       0.0     0.000000  \n",
       "25%       0.0     0.000000  \n",
       "50%       0.0     0.000000  \n",
       "75%       0.0     0.000000  \n",
       "max       0.0     1.000000  "
      ]
     },
     "execution_count": 11,
     "metadata": {},
     "output_type": "execute_result"
    }
   ],
   "source": [
    "df.describe(include='number') #statistical summary of the dataset "
   ]
  },
  {
   "cell_type": "markdown",
   "id": "d178e9ea",
   "metadata": {},
   "source": [
    "### Key Observations from Data Summary:\n",
    "\n",
    "1. **Abnormal Values**\n",
    "   - Found occurrence of \"-9999.0\" and \"and -999.0\". It looks like these are used as placeholders for missing or invalid data for wspdm, vism and windchillm \t\n",
    "   - For vism (visibility), the minimum is -9999, the 25% percentile is also -9999, and the mean is heavily negative, and for windchillm (wind chill), the minimum is -999, and the 25% percentile is -999 This strongly suggests that a significant portion of rows have -9999, likely indicating missing or invalid or missing entriess.\n",
    "   - For wspdm (windspeed) we only have a placeholder as minimum value, and for the fact that the percentiles and mean still have a kinda plausible value we can suspect it has only a few placeholders\n",
    "\n",
    "2. **Binary Variables**\n",
    "   - fog   \n",
    "   - rain \n",
    "   - snow \n",
    "   - thunder \n",
    "\n",
    "3. **Special Case**\n",
    "   - hail: Shows 0 for both minimum and maximum values\n",
    "        * Suggests no hail occurred during the observation period\n",
    "\n",
    "4. **Other Variables**\n",
    "   -  The other Variables look like having a consistent and plausible distribution."
   ]
  },
  {
   "cell_type": "code",
   "execution_count": 12,
   "id": "df3cf411",
   "metadata": {},
   "outputs": [
    {
     "name": "stdout",
     "output_type": "stream",
     "text": [
      "Unique values in the hail column [0]\n"
     ]
    }
   ],
   "source": [
    "print('Unique values in the hail column', df['hail'].unique())    \n",
    "df.drop(columns=['hail'], inplace=True) #dropping the hail column as it has only one unique value"
   ]
  },
  {
   "cell_type": "code",
   "execution_count": 13,
   "id": "b73267ee",
   "metadata": {},
   "outputs": [
    {
     "data": {
      "application/vnd.microsoft.datawrangler.viewer.v0+json": {
       "columns": [
        {
         "name": "index",
         "rawType": "int64",
         "type": "integer"
        },
        {
         "name": "time",
         "rawType": "datetime64[ns]",
         "type": "datetime"
        },
        {
         "name": "temperature_C",
         "rawType": "float64",
         "type": "float"
        },
        {
         "name": "humidity",
         "rawType": "int64",
         "type": "integer"
        },
        {
         "name": "windspeed_kph",
         "rawType": "float64",
         "type": "float"
        },
        {
         "name": "wind_direction_degres",
         "rawType": "int64",
         "type": "integer"
        },
        {
         "name": "wind_direction",
         "rawType": "object",
         "type": "string"
        },
        {
         "name": "pressure_mBar",
         "rawType": "int64",
         "type": "integer"
        },
        {
         "name": "visibility_km",
         "rawType": "float64",
         "type": "float"
        },
        {
         "name": "wind_chill_C",
         "rawType": "float64",
         "type": "float"
        },
        {
         "name": "fog",
         "rawType": "int64",
         "type": "integer"
        },
        {
         "name": "rain",
         "rawType": "int64",
         "type": "integer"
        },
        {
         "name": "snow",
         "rawType": "int64",
         "type": "integer"
        },
        {
         "name": "thunder",
         "rawType": "int64",
         "type": "integer"
        }
       ],
       "conversionMethod": "pd.DataFrame",
       "ref": "f9619fc6-5dfc-4b24-92cc-a498e2323617",
       "rows": [
        [
         "0",
         "2015-01-01 00:00:00",
         "-12.0",
         "85",
         "5.6",
         "0",
         "Variable",
         "1037",
         "5.0",
         "-15.5",
         "0",
         "0",
         "0",
         "0"
        ],
        [
         "1",
         "2015-01-01 00:30:00",
         "-11.0",
         "85",
         "3.7",
         "0",
         "Variable",
         "1036",
         "4.0",
         "-999.0",
         "0",
         "0",
         "0",
         "0"
        ],
        [
         "2",
         "2015-01-01 01:00:00",
         "-10.0",
         "86",
         "3.7",
         "0",
         "Variable",
         "1036",
         "4.0",
         "-999.0",
         "0",
         "0",
         "0",
         "0"
        ],
        [
         "3",
         "2015-01-01 01:30:00",
         "-10.0",
         "86",
         "0.0",
         "0",
         "North",
         "1036",
         "5.0",
         "-999.0",
         "0",
         "0",
         "0",
         "0"
        ],
        [
         "4",
         "2015-01-01 02:00:00",
         "-9.0",
         "79",
         "0.0",
         "0",
         "North",
         "1036",
         "4.0",
         "-999.0",
         "0",
         "0",
         "0",
         "0"
        ]
       ],
       "shape": {
        "columns": 13,
        "rows": 5
       }
      },
      "text/html": [
       "<div>\n",
       "<style scoped>\n",
       "    .dataframe tbody tr th:only-of-type {\n",
       "        vertical-align: middle;\n",
       "    }\n",
       "\n",
       "    .dataframe tbody tr th {\n",
       "        vertical-align: top;\n",
       "    }\n",
       "\n",
       "    .dataframe thead th {\n",
       "        text-align: right;\n",
       "    }\n",
       "</style>\n",
       "<table border=\"1\" class=\"dataframe\">\n",
       "  <thead>\n",
       "    <tr style=\"text-align: right;\">\n",
       "      <th></th>\n",
       "      <th>time</th>\n",
       "      <th>temperature_C</th>\n",
       "      <th>humidity</th>\n",
       "      <th>windspeed_kph</th>\n",
       "      <th>wind_direction_degres</th>\n",
       "      <th>wind_direction</th>\n",
       "      <th>pressure_mBar</th>\n",
       "      <th>visibility_km</th>\n",
       "      <th>wind_chill_C</th>\n",
       "      <th>fog</th>\n",
       "      <th>rain</th>\n",
       "      <th>snow</th>\n",
       "      <th>thunder</th>\n",
       "    </tr>\n",
       "  </thead>\n",
       "  <tbody>\n",
       "    <tr>\n",
       "      <th>0</th>\n",
       "      <td>2015-01-01 00:00:00</td>\n",
       "      <td>-12.0</td>\n",
       "      <td>85</td>\n",
       "      <td>5.6</td>\n",
       "      <td>0</td>\n",
       "      <td>Variable</td>\n",
       "      <td>1037</td>\n",
       "      <td>5.0</td>\n",
       "      <td>-15.5</td>\n",
       "      <td>0</td>\n",
       "      <td>0</td>\n",
       "      <td>0</td>\n",
       "      <td>0</td>\n",
       "    </tr>\n",
       "    <tr>\n",
       "      <th>1</th>\n",
       "      <td>2015-01-01 00:30:00</td>\n",
       "      <td>-11.0</td>\n",
       "      <td>85</td>\n",
       "      <td>3.7</td>\n",
       "      <td>0</td>\n",
       "      <td>Variable</td>\n",
       "      <td>1036</td>\n",
       "      <td>4.0</td>\n",
       "      <td>-999.0</td>\n",
       "      <td>0</td>\n",
       "      <td>0</td>\n",
       "      <td>0</td>\n",
       "      <td>0</td>\n",
       "    </tr>\n",
       "    <tr>\n",
       "      <th>2</th>\n",
       "      <td>2015-01-01 01:00:00</td>\n",
       "      <td>-10.0</td>\n",
       "      <td>86</td>\n",
       "      <td>3.7</td>\n",
       "      <td>0</td>\n",
       "      <td>Variable</td>\n",
       "      <td>1036</td>\n",
       "      <td>4.0</td>\n",
       "      <td>-999.0</td>\n",
       "      <td>0</td>\n",
       "      <td>0</td>\n",
       "      <td>0</td>\n",
       "      <td>0</td>\n",
       "    </tr>\n",
       "    <tr>\n",
       "      <th>3</th>\n",
       "      <td>2015-01-01 01:30:00</td>\n",
       "      <td>-10.0</td>\n",
       "      <td>86</td>\n",
       "      <td>0.0</td>\n",
       "      <td>0</td>\n",
       "      <td>North</td>\n",
       "      <td>1036</td>\n",
       "      <td>5.0</td>\n",
       "      <td>-999.0</td>\n",
       "      <td>0</td>\n",
       "      <td>0</td>\n",
       "      <td>0</td>\n",
       "      <td>0</td>\n",
       "    </tr>\n",
       "    <tr>\n",
       "      <th>4</th>\n",
       "      <td>2015-01-01 02:00:00</td>\n",
       "      <td>-9.0</td>\n",
       "      <td>79</td>\n",
       "      <td>0.0</td>\n",
       "      <td>0</td>\n",
       "      <td>North</td>\n",
       "      <td>1036</td>\n",
       "      <td>4.0</td>\n",
       "      <td>-999.0</td>\n",
       "      <td>0</td>\n",
       "      <td>0</td>\n",
       "      <td>0</td>\n",
       "      <td>0</td>\n",
       "    </tr>\n",
       "  </tbody>\n",
       "</table>\n",
       "</div>"
      ],
      "text/plain": [
       "                 time  temperature_C  humidity  windspeed_kph  \\\n",
       "0 2015-01-01 00:00:00          -12.0        85            5.6   \n",
       "1 2015-01-01 00:30:00          -11.0        85            3.7   \n",
       "2 2015-01-01 01:00:00          -10.0        86            3.7   \n",
       "3 2015-01-01 01:30:00          -10.0        86            0.0   \n",
       "4 2015-01-01 02:00:00           -9.0        79            0.0   \n",
       "\n",
       "   wind_direction_degres wind_direction  pressure_mBar  visibility_km  \\\n",
       "0                      0       Variable           1037            5.0   \n",
       "1                      0       Variable           1036            4.0   \n",
       "2                      0       Variable           1036            4.0   \n",
       "3                      0          North           1036            5.0   \n",
       "4                      0          North           1036            4.0   \n",
       "\n",
       "   wind_chill_C  fog  rain  snow  thunder  \n",
       "0         -15.5    0     0     0        0  \n",
       "1        -999.0    0     0     0        0  \n",
       "2        -999.0    0     0     0        0  \n",
       "3        -999.0    0     0     0        0  \n",
       "4        -999.0    0     0     0        0  "
      ]
     },
     "execution_count": 13,
     "metadata": {},
     "output_type": "execute_result"
    }
   ],
   "source": [
    "df.rename(columns={'wspdm': 'windspeed_kph', 'pressurem':'pressure_mBar', 'vism':'visibility_km', 'windchillm':'wind_chill_C', 'wdird':'wind_direction_degres', 'wdire':'wind_direction', 'hum':'humidity', 'tempm': 'temperature_C'}, inplace=True)\n",
    "#renaming columns for better readability\n",
    "df.head()"
   ]
  },
  {
   "cell_type": "markdown",
   "id": "8934bddd",
   "metadata": {},
   "source": [
    "### Addressing Placeholder Values (-9999.0 and -999.0) \n",
    "\n",
    "- Two options for handling:\n",
    "     * Drop rows if other values are also abnormal\n",
    "     * Replace with more appropriate missing value indicators (e.g., NaN)"
   ]
  },
  {
   "cell_type": "code",
   "execution_count": 14,
   "id": "455388f1",
   "metadata": {},
   "outputs": [
    {
     "data": {
      "text/plain": [
       "time                        0\n",
       "temperature_C               0\n",
       "humidity                    0\n",
       "windspeed_kph               2\n",
       "wind_direction_degres       0\n",
       "wind_direction              0\n",
       "pressure_mBar               0\n",
       "visibility_km            4167\n",
       "wind_chill_C                0\n",
       "fog                         0\n",
       "rain                        0\n",
       "snow                        0\n",
       "thunder                     0\n",
       "dtype: int64"
      ]
     },
     "execution_count": 14,
     "metadata": {},
     "output_type": "execute_result"
    }
   ],
   "source": [
    "(df == -9999.0).sum() #checking for -9999.0 values in the entire dataset"
   ]
  },
  {
   "cell_type": "markdown",
   "id": "c409a069",
   "metadata": {},
   "source": [
    "2 values for windspeed_kph and 4167 for visibility_km.  "
   ]
  },
  {
   "cell_type": "code",
   "execution_count": 15,
   "id": "1c699303",
   "metadata": {},
   "outputs": [
    {
     "data": {
      "text/plain": [
       "time                        0\n",
       "temperature_C               0\n",
       "humidity                    0\n",
       "windspeed_kph               0\n",
       "wind_direction_degres       0\n",
       "wind_direction              0\n",
       "pressure_mBar               0\n",
       "visibility_km               0\n",
       "wind_chill_C             3629\n",
       "fog                         0\n",
       "rain                        0\n",
       "snow                        0\n",
       "thunder                     0\n",
       "dtype: int64"
      ]
     },
     "execution_count": 15,
     "metadata": {},
     "output_type": "execute_result"
    }
   ],
   "source": [
    "(df== -999.000000).sum() #checking for -999.0 values in the entire dataset"
   ]
  },
  {
   "cell_type": "markdown",
   "id": "d24cdbed",
   "metadata": {},
   "source": [
    "3629 for wind_chill_C, **these look pretty high values considering the size of the dataset is roughly 7000 observations!!**"
   ]
  },
  {
   "cell_type": "markdown",
   "id": "be98fe62",
   "metadata": {},
   "source": [
    "# Let's start with windspeed"
   ]
  },
  {
   "cell_type": "code",
   "execution_count": 16,
   "id": "7396a8c6",
   "metadata": {},
   "outputs": [
    {
     "data": {
      "application/vnd.microsoft.datawrangler.viewer.v0+json": {
       "columns": [
        {
         "name": "index",
         "rawType": "int64",
         "type": "integer"
        },
        {
         "name": "time",
         "rawType": "datetime64[ns]",
         "type": "datetime"
        },
        {
         "name": "temperature_C",
         "rawType": "float64",
         "type": "float"
        },
        {
         "name": "humidity",
         "rawType": "int64",
         "type": "integer"
        },
        {
         "name": "windspeed_kph",
         "rawType": "float64",
         "type": "float"
        },
        {
         "name": "wind_direction_degres",
         "rawType": "int64",
         "type": "integer"
        },
        {
         "name": "wind_direction",
         "rawType": "object",
         "type": "string"
        },
        {
         "name": "pressure_mBar",
         "rawType": "int64",
         "type": "integer"
        },
        {
         "name": "visibility_km",
         "rawType": "float64",
         "type": "float"
        },
        {
         "name": "wind_chill_C",
         "rawType": "float64",
         "type": "float"
        },
        {
         "name": "fog",
         "rawType": "int64",
         "type": "integer"
        },
        {
         "name": "rain",
         "rawType": "int64",
         "type": "integer"
        },
        {
         "name": "snow",
         "rawType": "int64",
         "type": "integer"
        },
        {
         "name": "thunder",
         "rawType": "int64",
         "type": "integer"
        }
       ],
       "conversionMethod": "pd.DataFrame",
       "ref": "87779594-5dea-4071-93b0-f129366ca613",
       "rows": [
        [
         "5793",
         "2015-05-01 20:30:00",
         "15.0",
         "59",
         "-9999.0",
         "0",
         "North",
         "1008",
         "-9999.0",
         "-999.0",
         "0",
         "0",
         "0",
         "0"
        ],
        [
         "5801",
         "2015-05-02 00:30:00",
         "13.0",
         "72",
         "-9999.0",
         "0",
         "North",
         "1007",
         "-9999.0",
         "-999.0",
         "0",
         "0",
         "0",
         "0"
        ]
       ],
       "shape": {
        "columns": 13,
        "rows": 2
       }
      },
      "text/html": [
       "<div>\n",
       "<style scoped>\n",
       "    .dataframe tbody tr th:only-of-type {\n",
       "        vertical-align: middle;\n",
       "    }\n",
       "\n",
       "    .dataframe tbody tr th {\n",
       "        vertical-align: top;\n",
       "    }\n",
       "\n",
       "    .dataframe thead th {\n",
       "        text-align: right;\n",
       "    }\n",
       "</style>\n",
       "<table border=\"1\" class=\"dataframe\">\n",
       "  <thead>\n",
       "    <tr style=\"text-align: right;\">\n",
       "      <th></th>\n",
       "      <th>time</th>\n",
       "      <th>temperature_C</th>\n",
       "      <th>humidity</th>\n",
       "      <th>windspeed_kph</th>\n",
       "      <th>wind_direction_degres</th>\n",
       "      <th>wind_direction</th>\n",
       "      <th>pressure_mBar</th>\n",
       "      <th>visibility_km</th>\n",
       "      <th>wind_chill_C</th>\n",
       "      <th>fog</th>\n",
       "      <th>rain</th>\n",
       "      <th>snow</th>\n",
       "      <th>thunder</th>\n",
       "    </tr>\n",
       "  </thead>\n",
       "  <tbody>\n",
       "    <tr>\n",
       "      <th>5793</th>\n",
       "      <td>2015-05-01 20:30:00</td>\n",
       "      <td>15.0</td>\n",
       "      <td>59</td>\n",
       "      <td>-9999.0</td>\n",
       "      <td>0</td>\n",
       "      <td>North</td>\n",
       "      <td>1008</td>\n",
       "      <td>-9999.0</td>\n",
       "      <td>-999.0</td>\n",
       "      <td>0</td>\n",
       "      <td>0</td>\n",
       "      <td>0</td>\n",
       "      <td>0</td>\n",
       "    </tr>\n",
       "    <tr>\n",
       "      <th>5801</th>\n",
       "      <td>2015-05-02 00:30:00</td>\n",
       "      <td>13.0</td>\n",
       "      <td>72</td>\n",
       "      <td>-9999.0</td>\n",
       "      <td>0</td>\n",
       "      <td>North</td>\n",
       "      <td>1007</td>\n",
       "      <td>-9999.0</td>\n",
       "      <td>-999.0</td>\n",
       "      <td>0</td>\n",
       "      <td>0</td>\n",
       "      <td>0</td>\n",
       "      <td>0</td>\n",
       "    </tr>\n",
       "  </tbody>\n",
       "</table>\n",
       "</div>"
      ],
      "text/plain": [
       "                    time  temperature_C  humidity  windspeed_kph  \\\n",
       "5793 2015-05-01 20:30:00           15.0        59        -9999.0   \n",
       "5801 2015-05-02 00:30:00           13.0        72        -9999.0   \n",
       "\n",
       "      wind_direction_degres wind_direction  pressure_mBar  visibility_km  \\\n",
       "5793                      0          North           1008        -9999.0   \n",
       "5801                      0          North           1007        -9999.0   \n",
       "\n",
       "      wind_chill_C  fog  rain  snow  thunder  \n",
       "5793        -999.0    0     0     0        0  \n",
       "5801        -999.0    0     0     0        0  "
      ]
     },
     "execution_count": 16,
     "metadata": {},
     "output_type": "execute_result"
    }
   ],
   "source": [
    "df[df['windspeed_kph']==-9999.0] #checking for -9999.0 values in wind speed column"
   ]
  },
  {
   "cell_type": "markdown",
   "id": "3b82b069",
   "metadata": {},
   "source": [
    "We have two rows with -9999.0, and we can also notice that they have placeholder values for the other columns.\n",
    "Let's drop both of them."
   ]
  },
  {
   "cell_type": "code",
   "execution_count": 17,
   "id": "99571bc5",
   "metadata": {},
   "outputs": [
    {
     "name": "stderr",
     "output_type": "stream",
     "text": [
      "C:\\Users\\gsant\\AppData\\Local\\Temp\\ipykernel_26008\\2844532984.py:1: FutureWarning: A value is trying to be set on a copy of a DataFrame or Series through chained assignment using an inplace method.\n",
      "The behavior will change in pandas 3.0. This inplace method will never work because the intermediate object on which we are setting values always behaves as a copy.\n",
      "\n",
      "For example, when doing 'df[col].method(value, inplace=True)', try using 'df.method({col: value}, inplace=True)' or df[col] = df[col].method(value) instead, to perform the operation inplace on the original object.\n",
      "\n",
      "\n",
      "  df['windspeed_kph'].replace(-9999.0, np.nan, inplace=True) #replacing -9999.0 with NaN in wind speed column\n"
     ]
    }
   ],
   "source": [
    "df['windspeed_kph'].replace(-9999.0, np.nan, inplace=True) #replacing -9999.0 with NaN in wind speed column"
   ]
  },
  {
   "cell_type": "code",
   "execution_count": 18,
   "id": "19376188",
   "metadata": {},
   "outputs": [
    {
     "data": {
      "text/plain": [
       "count    7233.000000\n",
       "mean       13.032435\n",
       "std         8.782156\n",
       "min         0.000000\n",
       "25%         7.400000\n",
       "50%        11.100000\n",
       "75%        16.700000\n",
       "max        57.400000\n",
       "Name: windspeed_kph, dtype: float64"
      ]
     },
     "execution_count": 18,
     "metadata": {},
     "output_type": "execute_result"
    }
   ],
   "source": [
    "df['windspeed_kph'].describe() #statistical summary of wind speed in meters per second "
   ]
  },
  {
   "cell_type": "markdown",
   "id": "66b22fd5",
   "metadata": {},
   "source": [
    "**Wind Speed Analysis (57.4 kph)**\n",
    "- Extreme but plausible value for Budapest\n",
    "- Keep in dataset\n",
    "- Account for extremes in analysis"
   ]
  },
  {
   "cell_type": "code",
   "execution_count": 19,
   "id": "bd6b872b",
   "metadata": {},
   "outputs": [
    {
     "data": {
      "image/png": "[encoded data removed]",
      "text/plain": [
       "<Figure size 640x480 with 1 Axes>"
      ]
     },
     "metadata": {},
     "output_type": "display_data"
    }
   ],
   "source": [
    "sns.boxplot(df['windspeed_kph']) #boxplot of wind speed \n",
    "plt.show()"
   ]
  },
  {
   "cell_type": "markdown",
   "id": "422451e6",
   "metadata": {},
   "source": [
    "The boxplot dysplays the outliers. "
   ]
  },
  {
   "cell_type": "code",
   "execution_count": 20,
   "id": "405e718d",
   "metadata": {},
   "outputs": [
    {
     "data": {
      "image/png": "[encoded data removed]",
      "text/plain": [
       "<Figure size 640x480 with 1 Axes>"
      ]
     },
     "metadata": {},
     "output_type": "display_data"
    }
   ],
   "source": [
    "sns.histplot(df['windspeed_kph'], bins=30) #histogram of wind speed \n",
    "plt.show()"
   ]
  },
  {
   "cell_type": "markdown",
   "id": "53a8adc9",
   "metadata": {},
   "source": [
    "This distribution is **right-skewed**, meaning there are fewer instances of very high wind speeds, but they do exist. Essentially, the data shows that calmer winds are common. \n",
    "Given the distribution I will use the median to impute the missing values (even if I have just a few of them)."
   ]
  },
  {
   "cell_type": "code",
   "execution_count": 21,
   "id": "ad7c1013",
   "metadata": {},
   "outputs": [
    {
     "name": "stderr",
     "output_type": "stream",
     "text": [
      "C:\\Users\\gsant\\AppData\\Local\\Temp\\ipykernel_26008\\3540576551.py:1: FutureWarning: A value is trying to be set on a copy of a DataFrame or Series through chained assignment using an inplace method.\n",
      "The behavior will change in pandas 3.0. This inplace method will never work because the intermediate object on which we are setting values always behaves as a copy.\n",
      "\n",
      "For example, when doing 'df[col].method(value, inplace=True)', try using 'df.method({col: value}, inplace=True)' or df[col] = df[col].method(value) instead, to perform the operation inplace on the original object.\n",
      "\n",
      "\n",
      "  df['windspeed_kph'].fillna(df['windspeed_kph'].median(), inplace=True) #filling NaN values with mean of wind speed column\n"
     ]
    }
   ],
   "source": [
    "df['windspeed_kph'].fillna(df['windspeed_kph'].median(), inplace=True) #filling NaN values with mean of wind speed column"
   ]
  },
  {
   "cell_type": "markdown",
   "id": "a63fedf0",
   "metadata": {},
   "source": [
    "# Now let's analyze visibility"
   ]
  },
  {
   "cell_type": "code",
   "execution_count": 22,
   "id": "796fac48",
   "metadata": {},
   "outputs": [
    {
     "data": {
      "text/plain": [
       "count    7235.000000\n",
       "mean    -5755.704962\n",
       "std      4945.581345\n",
       "min     -9999.000000\n",
       "25%     -9999.000000\n",
       "50%     -9999.000000\n",
       "75%         8.000000\n",
       "max        10.000000\n",
       "Name: visibility_km, dtype: float64"
      ]
     },
     "execution_count": 22,
     "metadata": {},
     "output_type": "execute_result"
    }
   ],
   "source": [
    "df['visibility_km'].describe() #statistical summary of visibility in kilometers"
   ]
  },
  {
   "cell_type": "code",
   "execution_count": 23,
   "id": "84bcb7da",
   "metadata": {},
   "outputs": [
    {
     "data": {
      "text/plain": [
       "57.6"
      ]
     },
     "execution_count": 23,
     "metadata": {},
     "output_type": "execute_result"
    }
   ],
   "source": [
    "round((df['visibility_km'] == -9999.0).sum() / df.shape[0] * 100, 2) # percentage of missing values in visibility column"
   ]
  },
  {
   "cell_type": "markdown",
   "id": "05d85d9c",
   "metadata": {},
   "source": [
    "### Visibility Analysis - High Missing Values (57.58%)\n",
    "\n",
    "- Large number of placeholder values (-9999.0)\n",
    "- Two potential approaches:\n",
    "  * Drop column if correlation with bike lending is low: Visibility unlikely key factor in bike rental decisions\n",
    "  * Impute values (risky with >50% missing data): Imputation could introduce more noise than value\n"
   ]
  },
  {
   "cell_type": "code",
   "execution_count": 24,
   "id": "84bc0f1a",
   "metadata": {},
   "outputs": [
    {
     "data": {
      "text/plain": [
       "4167"
      ]
     },
     "execution_count": 24,
     "metadata": {},
     "output_type": "execute_result"
    }
   ],
   "source": [
    "df['visibility_km'] = df['visibility_km'].replace(-9999.0, np.nan) #replacing -9999.0 with NaN \n",
    "df['visibility_km'].isnull().sum() "
   ]
  },
  {
   "cell_type": "code",
   "execution_count": 25,
   "id": "89c30305",
   "metadata": {},
   "outputs": [
    {
     "data": {
      "text/plain": [
       "count    3068.000000\n",
       "mean        7.597001\n",
       "std         2.914620\n",
       "min         0.100000\n",
       "25%         5.000000\n",
       "50%        10.000000\n",
       "75%        10.000000\n",
       "max        10.000000\n",
       "Name: visibility_km, dtype: float64"
      ]
     },
     "execution_count": 25,
     "metadata": {},
     "output_type": "execute_result"
    }
   ],
   "source": [
    "df['visibility_km'].describe() #statistical summary of visibility in kilometers "
   ]
  },
  {
   "cell_type": "markdown",
   "id": "6dd2624e",
   "metadata": {},
   "source": [
    "Values are ranging from 0.1 to 10 km. Most of the values are probably clustered around 10, as also the 75th percentile and the median are 10."
   ]
  },
  {
   "cell_type": "code",
   "execution_count": 26,
   "id": "aed35572",
   "metadata": {},
   "outputs": [
    {
     "data": {
      "text/plain": [
       "visibility_km\n",
       "10.0    0.507823\n",
       "8.0     0.107888\n",
       "6.0     0.093546\n",
       "5.0     0.060300\n",
       "7.0     0.036832\n",
       "Name: proportion, dtype: float64"
      ]
     },
     "execution_count": 26,
     "metadata": {},
     "output_type": "execute_result"
    }
   ],
   "source": [
    "df['visibility_km'].value_counts(normalize=True).head() #value counts of visibility in kilometer"
   ]
  },
  {
   "cell_type": "code",
   "execution_count": 27,
   "id": "dd3cea2b",
   "metadata": {},
   "outputs": [
    {
     "data": {
      "image/png": "[encoded data removed]",
      "text/plain": [
       "<Figure size 640x480 with 1 Axes>"
      ]
     },
     "metadata": {},
     "output_type": "display_data"
    }
   ],
   "source": [
    "sns.histplot(df['visibility_km'], bins=10) #histogram of visibility\n",
    "plt.show()"
   ]
  },
  {
   "cell_type": "markdown",
   "id": "87a54a54",
   "metadata": {},
   "source": [
    "Most observations cluster around 10 km, which is the maximum measured visibility. The result is a **right-skewed distribution**"
   ]
  },
  {
   "cell_type": "markdown",
   "id": "a0a583fe",
   "metadata": {},
   "source": [
    "## Wind Chill Analysis"
   ]
  },
  {
   "cell_type": "code",
   "execution_count": 28,
   "id": "a4521c12",
   "metadata": {},
   "outputs": [
    {
     "data": {
      "text/plain": [
       "count    7235.000000\n",
       "mean     -501.193932\n",
       "std       499.435044\n",
       "min      -999.000000\n",
       "25%      -999.000000\n",
       "50%      -999.000000\n",
       "75%         0.000000\n",
       "max         7.300000\n",
       "Name: wind_chill_C, dtype: float64"
      ]
     },
     "execution_count": 28,
     "metadata": {},
     "output_type": "execute_result"
    }
   ],
   "source": [
    "df['wind_chill_C'].describe() #statistical summary of wind chill in degrees Celsius"
   ]
  },
  {
   "cell_type": "code",
   "execution_count": 29,
   "id": "ab0bb00b",
   "metadata": {},
   "outputs": [
    {
     "data": {
      "text/plain": [
       "3629"
      ]
     },
     "execution_count": 29,
     "metadata": {},
     "output_type": "execute_result"
    }
   ],
   "source": [
    "(df['wind_chill_C'] == -999.0).sum()  "
   ]
  },
  {
   "cell_type": "code",
   "execution_count": 30,
   "id": "87a9c9cf",
   "metadata": {},
   "outputs": [
    {
     "data": {
      "text/plain": [
       "50.16"
      ]
     },
     "execution_count": 30,
     "metadata": {},
     "output_type": "execute_result"
    }
   ],
   "source": [
    "round((df['wind_chill_C'] == -999.0).sum() / df.shape[0] * 100, 2) # percentage of placeholder values "
   ]
  },
  {
   "cell_type": "markdown",
   "id": "2ec16a02",
   "metadata": {},
   "source": [
    "As for the visibility variable, wind chill has a high percentage of placeholder values, namely **50.15%**. The same consideration has to be done for this ."
   ]
  },
  {
   "cell_type": "code",
   "execution_count": 31,
   "id": "62599b40",
   "metadata": {},
   "outputs": [],
   "source": [
    "df['wind_chill_C'] = df['wind_chill_C'].replace(-999.0, np.nan) #replacing -999.0 with NaN"
   ]
  },
  {
   "cell_type": "code",
   "execution_count": 32,
   "id": "0b0d0648",
   "metadata": {},
   "outputs": [
    {
     "data": {
      "text/plain": [
       "count    3606.000000\n",
       "mean       -0.212729\n",
       "std         4.344348\n",
       "min       -15.500000\n",
       "25%        -3.400000\n",
       "50%         0.000000\n",
       "75%         3.500000\n",
       "max         7.300000\n",
       "Name: wind_chill_C, dtype: float64"
      ]
     },
     "execution_count": 32,
     "metadata": {},
     "output_type": "execute_result"
    }
   ],
   "source": [
    "df['wind_chill_C'].describe() #statistical summary of wind chill "
   ]
  },
  {
   "cell_type": "markdown",
   "id": "95b9b7ac",
   "metadata": {},
   "source": [
    " Wind chill is the perceived temperature on exposed skin due to wind, and it’s always at or below the actual air temperature in cold conditions. \n",
    " "
   ]
  },
  {
   "cell_type": "code",
   "execution_count": 33,
   "id": "cc5c1657",
   "metadata": {},
   "outputs": [
    {
     "data": {
      "image/png": "[encoded data removed]",
      "text/plain": [
       "<Figure size 640x480 with 1 Axes>"
      ]
     },
     "metadata": {},
     "output_type": "display_data"
    }
   ],
   "source": [
    "sns.heatmap(df.isna(), cbar=False)\n",
    "plt.show()"
   ]
  },
  {
   "cell_type": "code",
   "execution_count": 34,
   "id": "fc3329a9",
   "metadata": {},
   "outputs": [
    {
     "data": {
      "image/png": "[encoded data removed]",
      "text/plain": [
       "<Figure size 1500x1000 with 2 Axes>"
      ]
     },
     "metadata": {},
     "output_type": "display_data"
    }
   ],
   "source": [
    "plt.figure(figsize=(15, 10))\n",
    "sns.heatmap(df.select_dtypes(include='number').corr(), annot = True)\n",
    "plt.title('Correlation Heatmap')\n",
    "plt.show()"
   ]
  },
  {
   "cell_type": "markdown",
   "id": "be8c9c75",
   "metadata": {},
   "source": [
    "As one could expect, there is a high correlation of 0.96 between 'wind_chill_C' and 'temperature_C' indicating near-perfect linear correlation between these variables.\n",
    "\n",
    "Including both will cause multicollinearity, negatively affecting statistical models (especially regression-based ones), by inflating variances and reducing interpretability. For this reason, and cosidering that the variable has a high percentage of missing values, We will drop the Wind Chill, as temperature alone with wind speed sufficiently capture the relevant weather effect.\n",
    "\n",
    "For what concerns the visibility variable: \n",
    "\n"
   ]
  },
  {
   "cell_type": "code",
   "execution_count": 35,
   "id": "fba08db1",
   "metadata": {},
   "outputs": [
    {
     "data": {
      "text/plain": [
       "Index(['time', 'temperature_C', 'humidity', 'windspeed_kph',\n",
       "       'wind_direction_degres', 'wind_direction', 'pressure_mBar',\n",
       "       'visibility_km', 'wind_chill_C', 'fog', 'rain', 'snow', 'thunder'],\n",
       "      dtype='object')"
      ]
     },
     "execution_count": 35,
     "metadata": {},
     "output_type": "execute_result"
    }
   ],
   "source": [
    "df.columns"
   ]
  },
  {
   "cell_type": "code",
   "execution_count": 36,
   "id": "b91ad315",
   "metadata": {},
   "outputs": [
    {
     "data": {
      "image/png": "[encoded data removed]",
      "text/plain": [
       "<Figure size 1000x500 with 9 Axes>"
      ]
     },
     "metadata": {},
     "output_type": "display_data"
    }
   ],
   "source": [
    "df.hist(column=['temperature_C', 'humidity', 'pressure_mBar', 'fog', 'rain', 'snow', 'thunder'], bins=20, figsize=(10, 5)) # histogram of all numerical columns\n",
    "plt.tight_layout()\n",
    "plt.show()"
   ]
  },
  {
   "cell_type": "markdown",
   "id": "44c5b9b8",
   "metadata": {},
   "source": [
    "### Weather Variables Analysis (distribution ovewrview)\n",
    "\n",
    "- **Binary Events**: Rare occurrences, with rain being most frequent\n",
    "- **Temperature**: -10°C to 30°C (reasonalble for Budapest in the first half of the year)\n",
    "- **Humidity**: 30-100%, peaks at 70-90% (moderate to high)\n",
    "- **Pressure**: 1000-1040 mBar, centers around 1015-1020 mBar (normal range)"
   ]
  },
  {
   "cell_type": "code",
   "execution_count": 37,
   "id": "be21f20e",
   "metadata": {},
   "outputs": [
    {
     "data": {
      "text/plain": [
       "count    7235.000000\n",
       "mean        7.549274\n",
       "std         7.402609\n",
       "min       -13.000000\n",
       "25%         2.000000\n",
       "50%         7.000000\n",
       "75%        13.000000\n",
       "max        30.000000\n",
       "Name: temperature_C, dtype: float64"
      ]
     },
     "execution_count": 37,
     "metadata": {},
     "output_type": "execute_result"
    }
   ],
   "source": [
    "df['temperature_C'].describe() #statistical summary of temperature in degrees Celsius"
   ]
  },
  {
   "cell_type": "markdown",
   "id": "77a28e6b",
   "metadata": {},
   "source": [
    "# **Let's Create Temperature Buckets Based on Quartiles**"
   ]
  },
  {
   "cell_type": "code",
   "execution_count": 38,
   "id": "bbf51a2b",
   "metadata": {},
   "outputs": [],
   "source": [
    "# Define temperature bins based on distribution and domain knowledge\n",
    "def temp_bucket(temp):\n",
    "    if temp < 0:\n",
    "        return 'Very Cold'\n",
    "    elif temp < 7:\n",
    "        return 'Cold'\n",
    "    elif temp < 13:\n",
    "        return 'Mild'\n",
    "    elif temp < 20:\n",
    "        return 'Warm'\n",
    "    else:\n",
    "        return 'Hot'\n",
    "\n",
    "\n",
    "# Apply bucket categorization\n",
    "df['temperature_bin'] = df['temperature_C'].apply(temp_bucket)"
   ]
  },
  {
   "cell_type": "code",
   "execution_count": 39,
   "id": "d7ab6117",
   "metadata": {},
   "outputs": [],
   "source": [
    "def wnchill_bucket(wnchill):\n",
    "    if wnchill < 0:\n",
    "        return 'Very Cold'\n",
    "    elif wnchill < 7:\n",
    "        return 'Cold'\n",
    "    elif wnchill < 13:\n",
    "        return 'Mild'\n",
    "    elif wnchill < 20:\n",
    "        return 'Warm'\n",
    "    else:\n",
    "        return 'Hot'\n"
   ]
  },
  {
   "cell_type": "code",
   "execution_count": 40,
   "id": "4c47a693",
   "metadata": {},
   "outputs": [],
   "source": [
    "df['wind_chill_bin'] = df['wind_chill_C'].apply(wnchill_bucket) #applying the same function to wind chill column"
   ]
  },
  {
   "cell_type": "code",
   "execution_count": 41,
   "id": "917a4b4a",
   "metadata": {},
   "outputs": [
    {
     "data": {
      "application/vnd.microsoft.datawrangler.viewer.v0+json": {
       "columns": [
        {
         "name": "index",
         "rawType": "int64",
         "type": "integer"
        },
        {
         "name": "temperature_bin",
         "rawType": "object",
         "type": "string"
        },
        {
         "name": "wind_chill_bin",
         "rawType": "object",
         "type": "string"
        },
        {
         "name": "temperature_C",
         "rawType": "float64",
         "type": "float"
        },
        {
         "name": "wind_chill_C",
         "rawType": "float64",
         "type": "float"
        }
       ],
       "conversionMethod": "pd.DataFrame",
       "ref": "1dd255b6-d7bb-4c40-a70e-9c307bd9c1c8",
       "rows": [
        [
         "0",
         "Very Cold",
         "Very Cold",
         "-12.0",
         "-15.5"
        ],
        [
         "1",
         "Very Cold",
         "Hot",
         "-11.0",
         null
        ],
        [
         "2",
         "Very Cold",
         "Hot",
         "-10.0",
         null
        ],
        [
         "3",
         "Very Cold",
         "Hot",
         "-10.0",
         null
        ],
        [
         "4",
         "Very Cold",
         "Hot",
         "-9.0",
         null
        ],
        [
         "5",
         "Very Cold",
         "Hot",
         "-8.0",
         null
        ],
        [
         "6",
         "Very Cold",
         "Very Cold",
         "-7.0",
         "-11.4"
        ],
        [
         "7",
         "Very Cold",
         "Very Cold",
         "-7.0",
         "-12.0"
        ],
        [
         "8",
         "Very Cold",
         "Very Cold",
         "-7.0",
         "-12.0"
        ],
        [
         "9",
         "Very Cold",
         "Very Cold",
         "-7.0",
         "-12.0"
        ]
       ],
       "shape": {
        "columns": 4,
        "rows": 10
       }
      },
      "text/html": [
       "<div>\n",
       "<style scoped>\n",
       "    .dataframe tbody tr th:only-of-type {\n",
       "        vertical-align: middle;\n",
       "    }\n",
       "\n",
       "    .dataframe tbody tr th {\n",
       "        vertical-align: top;\n",
       "    }\n",
       "\n",
       "    .dataframe thead th {\n",
       "        text-align: right;\n",
       "    }\n",
       "</style>\n",
       "<table border=\"1\" class=\"dataframe\">\n",
       "  <thead>\n",
       "    <tr style=\"text-align: right;\">\n",
       "      <th></th>\n",
       "      <th>temperature_bin</th>\n",
       "      <th>wind_chill_bin</th>\n",
       "      <th>temperature_C</th>\n",
       "      <th>wind_chill_C</th>\n",
       "    </tr>\n",
       "  </thead>\n",
       "  <tbody>\n",
       "    <tr>\n",
       "      <th>0</th>\n",
       "      <td>Very Cold</td>\n",
       "      <td>Very Cold</td>\n",
       "      <td>-12.0</td>\n",
       "      <td>-15.5</td>\n",
       "    </tr>\n",
       "    <tr>\n",
       "      <th>1</th>\n",
       "      <td>Very Cold</td>\n",
       "      <td>Hot</td>\n",
       "      <td>-11.0</td>\n",
       "      <td>NaN</td>\n",
       "    </tr>\n",
       "    <tr>\n",
       "      <th>2</th>\n",
       "      <td>Very Cold</td>\n",
       "      <td>Hot</td>\n",
       "      <td>-10.0</td>\n",
       "      <td>NaN</td>\n",
       "    </tr>\n",
       "    <tr>\n",
       "      <th>3</th>\n",
       "      <td>Very Cold</td>\n",
       "      <td>Hot</td>\n",
       "      <td>-10.0</td>\n",
       "      <td>NaN</td>\n",
       "    </tr>\n",
       "    <tr>\n",
       "      <th>4</th>\n",
       "      <td>Very Cold</td>\n",
       "      <td>Hot</td>\n",
       "      <td>-9.0</td>\n",
       "      <td>NaN</td>\n",
       "    </tr>\n",
       "    <tr>\n",
       "      <th>5</th>\n",
       "      <td>Very Cold</td>\n",
       "      <td>Hot</td>\n",
       "      <td>-8.0</td>\n",
       "      <td>NaN</td>\n",
       "    </tr>\n",
       "    <tr>\n",
       "      <th>6</th>\n",
       "      <td>Very Cold</td>\n",
       "      <td>Very Cold</td>\n",
       "      <td>-7.0</td>\n",
       "      <td>-11.4</td>\n",
       "    </tr>\n",
       "    <tr>\n",
       "      <th>7</th>\n",
       "      <td>Very Cold</td>\n",
       "      <td>Very Cold</td>\n",
       "      <td>-7.0</td>\n",
       "      <td>-12.0</td>\n",
       "    </tr>\n",
       "    <tr>\n",
       "      <th>8</th>\n",
       "      <td>Very Cold</td>\n",
       "      <td>Very Cold</td>\n",
       "      <td>-7.0</td>\n",
       "      <td>-12.0</td>\n",
       "    </tr>\n",
       "    <tr>\n",
       "      <th>9</th>\n",
       "      <td>Very Cold</td>\n",
       "      <td>Very Cold</td>\n",
       "      <td>-7.0</td>\n",
       "      <td>-12.0</td>\n",
       "    </tr>\n",
       "  </tbody>\n",
       "</table>\n",
       "</div>"
      ],
      "text/plain": [
       "  temperature_bin wind_chill_bin  temperature_C  wind_chill_C\n",
       "0       Very Cold      Very Cold          -12.0         -15.5\n",
       "1       Very Cold            Hot          -11.0           NaN\n",
       "2       Very Cold            Hot          -10.0           NaN\n",
       "3       Very Cold            Hot          -10.0           NaN\n",
       "4       Very Cold            Hot           -9.0           NaN\n",
       "5       Very Cold            Hot           -8.0           NaN\n",
       "6       Very Cold      Very Cold           -7.0         -11.4\n",
       "7       Very Cold      Very Cold           -7.0         -12.0\n",
       "8       Very Cold      Very Cold           -7.0         -12.0\n",
       "9       Very Cold      Very Cold           -7.0         -12.0"
      ]
     },
     "execution_count": 41,
     "metadata": {},
     "output_type": "execute_result"
    }
   ],
   "source": [
    "df[['temperature_bin', 'wind_chill_bin', 'temperature_C', 'wind_chill_C']].head(10) #checking the first 10 rows of the new columns"
   ]
  },
  {
   "cell_type": "code",
   "execution_count": 42,
   "id": "53e39c32",
   "metadata": {},
   "outputs": [
    {
     "data": {
      "text/plain": [
       "0    (-15.5, <class 'float'>)\n",
       "1      (nan, <class 'float'>)\n",
       "2      (nan, <class 'float'>)\n",
       "3      (nan, <class 'float'>)\n",
       "4      (nan, <class 'float'>)\n",
       "5      (nan, <class 'float'>)\n",
       "6    (-11.4, <class 'float'>)\n",
       "7    (-12.0, <class 'float'>)\n",
       "8    (-12.0, <class 'float'>)\n",
       "9    (-12.0, <class 'float'>)\n",
       "Name: wind_chill_C, dtype: object"
      ]
     },
     "execution_count": 42,
     "metadata": {},
     "output_type": "execute_result"
    }
   ],
   "source": [
    "df['wind_chill_C'].head(10).apply(lambda x: (x, type(x)))\n"
   ]
  },
  {
   "cell_type": "code",
   "execution_count": 43,
   "id": "805d66ff",
   "metadata": {},
   "outputs": [
    {
     "name": "stdout",
     "output_type": "stream",
     "text": [
      "time                     datetime64[ns]\n",
      "temperature_C                   float64\n",
      "humidity                          int64\n",
      "windspeed_kph                   float64\n",
      "wind_direction_degres             int64\n",
      "wind_direction                   object\n",
      "pressure_mBar                     int64\n",
      "visibility_km                   float64\n",
      "wind_chill_C                    float64\n",
      "fog                               int64\n",
      "rain                              int64\n",
      "snow                              int64\n",
      "thunder                           int64\n",
      "temperature_bin                  object\n",
      "wind_chill_bin                   object\n",
      "dtype: object\n"
     ]
    }
   ],
   "source": [
    "print(df.dtypes)"
   ]
  },
  {
   "cell_type": "code",
   "execution_count": 44,
   "id": "25b98481",
   "metadata": {},
   "outputs": [
    {
     "data": {
      "text/plain": [
       "temperature_bin\n",
       "Cold         0.365999\n",
       "Mild         0.253766\n",
       "Warm         0.180788\n",
       "Very Cold    0.123704\n",
       "Hot          0.075743\n",
       "Name: proportion, dtype: float64"
      ]
     },
     "execution_count": 44,
     "metadata": {},
     "output_type": "execute_result"
    }
   ],
   "source": [
    "df['temperature_bin'].value_counts(normalize=True) #value counts of temperature bins"
   ]
  },
  {
   "cell_type": "code",
   "execution_count": 45,
   "id": "e6073f57",
   "metadata": {},
   "outputs": [
    {
     "name": "stderr",
     "output_type": "stream",
     "text": [
      "C:\\Users\\gsant\\AppData\\Local\\Temp\\ipykernel_26008\\567836716.py:1: FutureWarning: \n",
      "\n",
      "Passing `palette` without assigning `hue` is deprecated and will be removed in v0.14.0. Assign the `x` variable to `hue` and set `legend=False` for the same effect.\n",
      "\n",
      "  sns.countplot(x='temperature_bin', data=df, palette='dark') #count plot of temperature bins\n"
     ]
    },
    {
     "data": {
      "image/png": "[encoded data removed]",
      "text/plain": [
       "<Figure size 640x480 with 1 Axes>"
      ]
     },
     "metadata": {},
     "output_type": "display_data"
    }
   ],
   "source": [
    "sns.countplot(x='temperature_bin', data=df, palette='dark') #count plot of temperature bins\n",
    "plt.show()"
   ]
  },
  {
   "cell_type": "code",
   "execution_count": 46,
   "id": "a4259623",
   "metadata": {},
   "outputs": [
    {
     "data": {
      "image/png": "[encoded data removed]",
      "text/plain": [
       "<Figure size 640x480 with 1 Axes>"
      ]
     },
     "metadata": {},
     "output_type": "display_data"
    }
   ],
   "source": [
    "sns.histplot(df['temperature_C'], bins=20) # histogram of temperature\n",
    "plt.show()"
   ]
  },
  {
   "cell_type": "code",
   "execution_count": 47,
   "id": "fa7c0b85",
   "metadata": {},
   "outputs": [
    {
     "data": {
      "image/png": "[encoded data removed]",
      "text/plain": [
       "<Figure size 640x480 with 1 Axes>"
      ]
     },
     "metadata": {},
     "output_type": "display_data"
    }
   ],
   "source": [
    "sns.boxplot(df['temperature_C']) # boxplot of temperature   \n",
    "plt.show()"
   ]
  },
  {
   "cell_type": "markdown",
   "id": "6dab31bf",
   "metadata": {},
   "source": [
    "**Defining a function to detect outliers with the IQR method**"
   ]
  },
  {
   "cell_type": "code",
   "execution_count": 48,
   "id": "db68d340",
   "metadata": {},
   "outputs": [],
   "source": [
    "def detect_outliers(df, column): \n",
    "\t'''Defines a function to detect outliers in a given column of a DataFrame using the IQR method'''    \n",
    "\tQ1 = df[column].quantile(0.25) \n",
    "\tQ3 = df[column].quantile(0.75) \n",
    "\tIQR = Q3 - Q1 \n",
    "\tlower_bound = Q1 - 1.5 * IQR \n",
    "\tupper_bound = Q3 + 1.5 * IQR \n",
    "\toutliers = df[(df[column] < lower_bound) | (df[column] > upper_bound)] \n",
    "\treturn outliers \n"
   ]
  },
  {
   "cell_type": "code",
   "execution_count": 49,
   "id": "b4bf2de4",
   "metadata": {},
   "outputs": [
    {
     "data": {
      "text/plain": [
       "1"
      ]
     },
     "execution_count": 49,
     "metadata": {},
     "output_type": "execute_result"
    }
   ],
   "source": [
    "detect_outliers(df, 'temperature_C').shape[0] # number of outliers in temperature column"
   ]
  },
  {
   "cell_type": "code",
   "execution_count": 50,
   "id": "8be18dd6",
   "metadata": {},
   "outputs": [
    {
     "data": {
      "application/vnd.microsoft.datawrangler.viewer.v0+json": {
       "columns": [
        {
         "name": "index",
         "rawType": "int64",
         "type": "integer"
        },
        {
         "name": "time",
         "rawType": "datetime64[ns]",
         "type": "datetime"
        },
        {
         "name": "temperature_C",
         "rawType": "float64",
         "type": "float"
        },
        {
         "name": "humidity",
         "rawType": "int64",
         "type": "integer"
        },
        {
         "name": "windspeed_kph",
         "rawType": "float64",
         "type": "float"
        },
        {
         "name": "wind_direction_degres",
         "rawType": "int64",
         "type": "integer"
        },
        {
         "name": "wind_direction",
         "rawType": "object",
         "type": "string"
        },
        {
         "name": "pressure_mBar",
         "rawType": "int64",
         "type": "integer"
        },
        {
         "name": "visibility_km",
         "rawType": "float64",
         "type": "float"
        },
        {
         "name": "wind_chill_C",
         "rawType": "float64",
         "type": "float"
        },
        {
         "name": "fog",
         "rawType": "int64",
         "type": "integer"
        },
        {
         "name": "rain",
         "rawType": "int64",
         "type": "integer"
        },
        {
         "name": "snow",
         "rawType": "int64",
         "type": "integer"
        },
        {
         "name": "thunder",
         "rawType": "int64",
         "type": "integer"
        },
        {
         "name": "temperature_bin",
         "rawType": "object",
         "type": "string"
        },
        {
         "name": "wind_chill_bin",
         "rawType": "object",
         "type": "string"
        }
       ],
       "conversionMethod": "pd.DataFrame",
       "ref": "6a0c70f1-8065-420b-925e-858b8150fd0c",
       "rows": [
        [
         "6644",
         "2015-05-19 15:30:00",
         "30.0",
         "33",
         "16.7",
         "180",
         "South",
         "1008",
         null,
         null,
         "0",
         "0",
         "0",
         "0",
         "Hot",
         "Hot"
        ]
       ],
       "shape": {
        "columns": 15,
        "rows": 1
       }
      },
      "text/html": [
       "<div>\n",
       "<style scoped>\n",
       "    .dataframe tbody tr th:only-of-type {\n",
       "        vertical-align: middle;\n",
       "    }\n",
       "\n",
       "    .dataframe tbody tr th {\n",
       "        vertical-align: top;\n",
       "    }\n",
       "\n",
       "    .dataframe thead th {\n",
       "        text-align: right;\n",
       "    }\n",
       "</style>\n",
       "<table border=\"1\" class=\"dataframe\">\n",
       "  <thead>\n",
       "    <tr style=\"text-align: right;\">\n",
       "      <th></th>\n",
       "      <th>time</th>\n",
       "      <th>temperature_C</th>\n",
       "      <th>humidity</th>\n",
       "      <th>windspeed_kph</th>\n",
       "      <th>wind_direction_degres</th>\n",
       "      <th>wind_direction</th>\n",
       "      <th>pressure_mBar</th>\n",
       "      <th>visibility_km</th>\n",
       "      <th>wind_chill_C</th>\n",
       "      <th>fog</th>\n",
       "      <th>rain</th>\n",
       "      <th>snow</th>\n",
       "      <th>thunder</th>\n",
       "      <th>temperature_bin</th>\n",
       "      <th>wind_chill_bin</th>\n",
       "    </tr>\n",
       "  </thead>\n",
       "  <tbody>\n",
       "    <tr>\n",
       "      <th>6644</th>\n",
       "      <td>2015-05-19 15:30:00</td>\n",
       "      <td>30.0</td>\n",
       "      <td>33</td>\n",
       "      <td>16.7</td>\n",
       "      <td>180</td>\n",
       "      <td>South</td>\n",
       "      <td>1008</td>\n",
       "      <td>NaN</td>\n",
       "      <td>NaN</td>\n",
       "      <td>0</td>\n",
       "      <td>0</td>\n",
       "      <td>0</td>\n",
       "      <td>0</td>\n",
       "      <td>Hot</td>\n",
       "      <td>Hot</td>\n",
       "    </tr>\n",
       "  </tbody>\n",
       "</table>\n",
       "</div>"
      ],
      "text/plain": [
       "                    time  temperature_C  humidity  windspeed_kph  \\\n",
       "6644 2015-05-19 15:30:00           30.0        33           16.7   \n",
       "\n",
       "      wind_direction_degres wind_direction  pressure_mBar  visibility_km  \\\n",
       "6644                    180          South           1008            NaN   \n",
       "\n",
       "      wind_chill_C  fog  rain  snow  thunder temperature_bin wind_chill_bin  \n",
       "6644           NaN    0     0     0        0             Hot            Hot  "
      ]
     },
     "execution_count": 50,
     "metadata": {},
     "output_type": "execute_result"
    }
   ],
   "source": [
    "detect_outliers(df, 'temperature_C') #detecting outliers in temperature column"
   ]
  },
  {
   "cell_type": "markdown",
   "id": "031cdb1b",
   "metadata": {},
   "source": [
    "**Humidity**"
   ]
  },
  {
   "cell_type": "code",
   "execution_count": 51,
   "id": "1a22cf65",
   "metadata": {},
   "outputs": [
    {
     "data": {
      "text/plain": [
       "count    7235.000000\n",
       "mean       70.886662\n",
       "std        21.546290\n",
       "min        17.000000\n",
       "25%        54.000000\n",
       "50%        74.000000\n",
       "75%        88.000000\n",
       "max       100.000000\n",
       "Name: humidity, dtype: float64"
      ]
     },
     "execution_count": 51,
     "metadata": {},
     "output_type": "execute_result"
    }
   ],
   "source": [
    "df['humidity'].describe() #statistical summary of humidity"
   ]
  },
  {
   "cell_type": "code",
   "execution_count": 52,
   "id": "50a67f1e",
   "metadata": {},
   "outputs": [
    {
     "data": {
      "image/png": "[encoded data removed]",
      "text/plain": [
       "<Figure size 640x480 with 1 Axes>"
      ]
     },
     "metadata": {},
     "output_type": "display_data"
    }
   ],
   "source": [
    "sns.histplot(df['humidity'], bins=15) # histogram of humidity\n",
    "plt.show()"
   ]
  },
  {
   "cell_type": "markdown",
   "id": "dfb9610f",
   "metadata": {},
   "source": [
    "The distribution is **left-skewed**, meaning most of the observations lie toward the higher end of the humidity range.\n",
    "igher humidity values (80–100%) occur most frequently, and lower humidity values (below 40%) are relatively rare."
   ]
  },
  {
   "cell_type": "code",
   "execution_count": 53,
   "id": "8cd42a2e",
   "metadata": {},
   "outputs": [
    {
     "data": {
      "text/plain": [
       "0"
      ]
     },
     "execution_count": 53,
     "metadata": {},
     "output_type": "execute_result"
    }
   ],
   "source": [
    "detect_outliers(df, 'humidity').shape[0] #counting the number of outliers in humidity column"
   ]
  },
  {
   "cell_type": "code",
   "execution_count": 54,
   "id": "4a622020",
   "metadata": {},
   "outputs": [],
   "source": [
    "#Defining bin edges and labels\n",
    "bins = [0, 54, 74, 88, 101]\n",
    "labels = ['Low', 'Moderate', 'High', 'Very High']\n",
    "\n",
    "#Creating a binned column based on humidity\n",
    "df['humidity_bin'] = pd.cut(df['humidity'], bins=bins, labels=labels, right=False)  # right=False means the right edge is exclusive\n",
    "\n",
    "cat_type = pd.CategoricalDtype(categories=labels, ordered=True)\n",
    "df['humidity_bin'] = df['humidity_bin'].astype(cat_type)"
   ]
  },
  {
   "cell_type": "code",
   "execution_count": 55,
   "id": "6cb09547",
   "metadata": {},
   "outputs": [
    {
     "name": "stderr",
     "output_type": "stream",
     "text": [
      "C:\\Users\\gsant\\AppData\\Local\\Temp\\ipykernel_26008\\2818743589.py:1: FutureWarning: \n",
      "\n",
      "Passing `palette` without assigning `hue` is deprecated and will be removed in v0.14.0. Assign the `x` variable to `hue` and set `legend=False` for the same effect.\n",
      "\n",
      "  sns.countplot(x='humidity_bin', data=df, palette='dark') #count plot of humidity bins\n"
     ]
    },
    {
     "data": {
      "image/png": "[encoded data removed]",
      "text/plain": [
       "<Figure size 640x480 with 1 Axes>"
      ]
     },
     "metadata": {},
     "output_type": "display_data"
    }
   ],
   "source": [
    "sns.countplot(x='humidity_bin', data=df, palette='dark') #count plot of humidity bins\n",
    "plt.title('Humidity distribution')\n",
    "plt.show()"
   ]
  },
  {
   "cell_type": "code",
   "execution_count": 56,
   "id": "2e621507",
   "metadata": {},
   "outputs": [
    {
     "name": "stderr",
     "output_type": "stream",
     "text": [
      "C:\\Users\\gsant\\AppData\\Local\\Temp\\ipykernel_26008\\3528371147.py:1: FutureWarning: The default of observed=False is deprecated and will be changed to True in a future version of pandas. Pass observed=False to retain current behavior or observed=True to adopt the future default and silence this warning.\n",
      "  df['visibility_km'] = df['visibility_km'].fillna(df.groupby('humidity_bin')['visibility_km'].transform('mean'))  # filling NaN values with mean of visibility column grouped by humidity_bin\n"
     ]
    }
   ],
   "source": [
    "df['visibility_km'] = df['visibility_km'].fillna(df.groupby('humidity_bin')['visibility_km'].transform('mean'))  # filling NaN values with mean of visibility column grouped by humidity_bin"
   ]
  },
  {
   "cell_type": "code",
   "execution_count": 57,
   "id": "accd37db",
   "metadata": {},
   "outputs": [
    {
     "data": {
      "text/plain": [
       "0"
      ]
     },
     "execution_count": 57,
     "metadata": {},
     "output_type": "execute_result"
    }
   ],
   "source": [
    "df['visibility_km'].isnull().sum() #checking for null values in visibility column"
   ]
  },
  {
   "cell_type": "markdown",
   "id": "7ed28a07",
   "metadata": {},
   "source": [
    "**Pressure**"
   ]
  },
  {
   "cell_type": "code",
   "execution_count": 58,
   "id": "872b8e8b",
   "metadata": {},
   "outputs": [
    {
     "data": {
      "text/plain": [
       "count    7235.000000\n",
       "mean     1016.966551\n",
       "std         9.123351\n",
       "min       974.000000\n",
       "25%      1012.000000\n",
       "50%      1017.000000\n",
       "75%      1023.000000\n",
       "max      1041.000000\n",
       "Name: pressure_mBar, dtype: float64"
      ]
     },
     "execution_count": 58,
     "metadata": {},
     "output_type": "execute_result"
    }
   ],
   "source": [
    "df['pressure_mBar'].describe() #statistical summary of pressure "
   ]
  },
  {
   "cell_type": "code",
   "execution_count": 59,
   "id": "102c141e",
   "metadata": {},
   "outputs": [
    {
     "data": {
      "text/plain": [
       "180"
      ]
     },
     "execution_count": 59,
     "metadata": {},
     "output_type": "execute_result"
    }
   ],
   "source": [
    "detect_outliers(df, 'pressure_mBar').shape[0] #detecting outliers in pressure column "
   ]
  },
  {
   "cell_type": "code",
   "execution_count": 60,
   "id": "01069ad6",
   "metadata": {},
   "outputs": [
    {
     "data": {
      "image/png": "[encoded data removed]",
      "text/plain": [
       "<Figure size 640x480 with 1 Axes>"
      ]
     },
     "metadata": {},
     "output_type": "display_data"
    }
   ],
   "source": [
    "sns.boxplot(df['pressure_mBar']) #boxenplot of pressure\n",
    "plt.show()"
   ]
  },
  {
   "cell_type": "markdown",
   "id": "586079ec",
   "metadata": {},
   "source": [
    "As we have 180 outliers, we migh want to know if these are extreme but valid values reflecting real atmospheric conditions and not measurement errors.\n",
    "Winsorizing: Replace extreme values with a percentile cap (e.g., 1st and 99th percentiles). This preserves the data’s overall distribution but limits extreme tail values.\n",
    "\n",
    "Log Transform: Sometimes a log transform can reduce the impact of outliers if the variable is strictly positive."
   ]
  },
  {
   "cell_type": "code",
   "execution_count": 61,
   "id": "7491573a",
   "metadata": {},
   "outputs": [
    {
     "data": {
      "text/plain": [
       "402"
      ]
     },
     "execution_count": 61,
     "metadata": {},
     "output_type": "execute_result"
    }
   ],
   "source": [
    "detect_outliers(df, 'windspeed_kph').shape[0] #detecting outliers in wind speed column"
   ]
  },
  {
   "cell_type": "code",
   "execution_count": 62,
   "id": "efbd0e30",
   "metadata": {},
   "outputs": [
    {
     "data": {
      "image/png": "[encoded data removed]",
      "text/plain": [
       "<Figure size 640x480 with 1 Axes>"
      ]
     },
     "metadata": {},
     "output_type": "display_data"
    }
   ],
   "source": [
    "sns.boxplot(df['windspeed_kph']) #boxenplot of wind speed\n",
    "plt.show()"
   ]
  },
  {
   "cell_type": "code",
   "execution_count": 63,
   "id": "71e70d91",
   "metadata": {},
   "outputs": [
    {
     "data": {
      "text/plain": [
       "586"
      ]
     },
     "execution_count": 63,
     "metadata": {},
     "output_type": "execute_result"
    }
   ],
   "source": [
    "detect_outliers(df, 'visibility_km').shape[0] #detecting outliers in visibility column "
   ]
  },
  {
   "cell_type": "code",
   "execution_count": 64,
   "id": "3608139e",
   "metadata": {},
   "outputs": [],
   "source": [
    "df.reset_index(inplace=True)  # Reset the index to bring 'time' back as a column\n",
    "df['hour'] = df['time'].dt.hour  # Extracting hour from time column"
   ]
  },
  {
   "cell_type": "code",
   "execution_count": 65,
   "id": "8334fe46",
   "metadata": {},
   "outputs": [
    {
     "data": {
      "text/plain": [
       "time_of_day\n",
       "Morning      0.291914\n",
       "Afternoon    0.208431\n",
       "LateNight    0.208017\n",
       "Evening      0.166413\n",
       "Night        0.125225\n",
       "Name: proportion, dtype: float64"
      ]
     },
     "execution_count": 65,
     "metadata": {},
     "output_type": "execute_result"
    }
   ],
   "source": [
    "def time_of_day(hour):\n",
    "    '''Segments the hour into different times of the day\n",
    "       Morning: 5-12, Afternoon: 12-17, Evening: 17-21, Night: 21-5'''\n",
    "    if 5 <= hour < 12:\n",
    "        return 'Morning'\n",
    "    elif 12 <= hour < 17:\n",
    "        return 'Afternoon'\n",
    "    elif 17 <= hour < 21:\n",
    "        return 'Evening'\n",
    "    elif 21 <= hour < 24:\n",
    "        return 'Night'\n",
    "    else:\n",
    "        return 'LateNight'\n",
    "\n",
    "df['time_of_day'] = df['hour'].apply(time_of_day)\n",
    "df['time_of_day'].value_counts(normalize=True) #value counts of time segments"
   ]
  },
  {
   "cell_type": "markdown",
   "id": "f25a3933",
   "metadata": {},
   "source": [
    "**SETTING TIME AS INDEX**"
   ]
  },
  {
   "cell_type": "code",
   "execution_count": 66,
   "id": "660efd46",
   "metadata": {},
   "outputs": [
    {
     "data": {
      "application/vnd.microsoft.datawrangler.viewer.v0+json": {
       "columns": [
        {
         "name": "time",
         "rawType": "datetime64[ns]",
         "type": "datetime"
        },
        {
         "name": "index",
         "rawType": "int64",
         "type": "integer"
        },
        {
         "name": "temperature_C",
         "rawType": "float64",
         "type": "float"
        },
        {
         "name": "humidity",
         "rawType": "int64",
         "type": "integer"
        },
        {
         "name": "windspeed_kph",
         "rawType": "float64",
         "type": "float"
        },
        {
         "name": "wind_direction_degres",
         "rawType": "int64",
         "type": "integer"
        },
        {
         "name": "wind_direction",
         "rawType": "object",
         "type": "string"
        },
        {
         "name": "pressure_mBar",
         "rawType": "int64",
         "type": "integer"
        },
        {
         "name": "visibility_km",
         "rawType": "float64",
         "type": "float"
        },
        {
         "name": "wind_chill_C",
         "rawType": "float64",
         "type": "float"
        },
        {
         "name": "fog",
         "rawType": "int64",
         "type": "integer"
        },
        {
         "name": "rain",
         "rawType": "int64",
         "type": "integer"
        },
        {
         "name": "snow",
         "rawType": "int64",
         "type": "integer"
        },
        {
         "name": "thunder",
         "rawType": "int64",
         "type": "integer"
        },
        {
         "name": "temperature_bin",
         "rawType": "object",
         "type": "string"
        },
        {
         "name": "wind_chill_bin",
         "rawType": "object",
         "type": "string"
        },
        {
         "name": "humidity_bin",
         "rawType": "category",
         "type": "unknown"
        },
        {
         "name": "hour",
         "rawType": "int32",
         "type": "integer"
        },
        {
         "name": "time_of_day",
         "rawType": "object",
         "type": "string"
        }
       ],
       "conversionMethod": "pd.DataFrame",
       "ref": "1d666d7c-ee81-4887-b0c3-1415e44d09e9",
       "rows": [
        [
         "2015-01-01 00:00:00",
         "0",
         "-12.0",
         "85",
         "5.6",
         "0",
         "Variable",
         "1037",
         "5.0",
         "-15.5",
         "0",
         "0",
         "0",
         "0",
         "Very Cold",
         "Very Cold",
         "High",
         "0",
         "LateNight"
        ],
        [
         "2015-01-01 00:30:00",
         "1",
         "-11.0",
         "85",
         "3.7",
         "0",
         "Variable",
         "1036",
         "4.0",
         null,
         "0",
         "0",
         "0",
         "0",
         "Very Cold",
         "Hot",
         "High",
         "0",
         "LateNight"
        ],
        [
         "2015-01-01 01:00:00",
         "2",
         "-10.0",
         "86",
         "3.7",
         "0",
         "Variable",
         "1036",
         "4.0",
         null,
         "0",
         "0",
         "0",
         "0",
         "Very Cold",
         "Hot",
         "High",
         "1",
         "LateNight"
        ],
        [
         "2015-01-01 01:30:00",
         "3",
         "-10.0",
         "86",
         "0.0",
         "0",
         "North",
         "1036",
         "5.0",
         null,
         "0",
         "0",
         "0",
         "0",
         "Very Cold",
         "Hot",
         "High",
         "1",
         "LateNight"
        ],
        [
         "2015-01-01 02:00:00",
         "4",
         "-9.0",
         "79",
         "0.0",
         "0",
         "North",
         "1036",
         "4.0",
         null,
         "0",
         "0",
         "0",
         "0",
         "Very Cold",
         "Hot",
         "High",
         "2",
         "LateNight"
        ]
       ],
       "shape": {
        "columns": 18,
        "rows": 5
       }
      },
      "text/html": [
       "<div>\n",
       "<style scoped>\n",
       "    .dataframe tbody tr th:only-of-type {\n",
       "        vertical-align: middle;\n",
       "    }\n",
       "\n",
       "    .dataframe tbody tr th {\n",
       "        vertical-align: top;\n",
       "    }\n",
       "\n",
       "    .dataframe thead th {\n",
       "        text-align: right;\n",
       "    }\n",
       "</style>\n",
       "<table border=\"1\" class=\"dataframe\">\n",
       "  <thead>\n",
       "    <tr style=\"text-align: right;\">\n",
       "      <th></th>\n",
       "      <th>index</th>\n",
       "      <th>temperature_C</th>\n",
       "      <th>humidity</th>\n",
       "      <th>windspeed_kph</th>\n",
       "      <th>wind_direction_degres</th>\n",
       "      <th>wind_direction</th>\n",
       "      <th>pressure_mBar</th>\n",
       "      <th>visibility_km</th>\n",
       "      <th>wind_chill_C</th>\n",
       "      <th>fog</th>\n",
       "      <th>rain</th>\n",
       "      <th>snow</th>\n",
       "      <th>thunder</th>\n",
       "      <th>temperature_bin</th>\n",
       "      <th>wind_chill_bin</th>\n",
       "      <th>humidity_bin</th>\n",
       "      <th>hour</th>\n",
       "      <th>time_of_day</th>\n",
       "    </tr>\n",
       "    <tr>\n",
       "      <th>time</th>\n",
       "      <th></th>\n",
       "      <th></th>\n",
       "      <th></th>\n",
       "      <th></th>\n",
       "      <th></th>\n",
       "      <th></th>\n",
       "      <th></th>\n",
       "      <th></th>\n",
       "      <th></th>\n",
       "      <th></th>\n",
       "      <th></th>\n",
       "      <th></th>\n",
       "      <th></th>\n",
       "      <th></th>\n",
       "      <th></th>\n",
       "      <th></th>\n",
       "      <th></th>\n",
       "      <th></th>\n",
       "    </tr>\n",
       "  </thead>\n",
       "  <tbody>\n",
       "    <tr>\n",
       "      <th>2015-01-01 00:00:00</th>\n",
       "      <td>0</td>\n",
       "      <td>-12.0</td>\n",
       "      <td>85</td>\n",
       "      <td>5.6</td>\n",
       "      <td>0</td>\n",
       "      <td>Variable</td>\n",
       "      <td>1037</td>\n",
       "      <td>5.0</td>\n",
       "      <td>-15.5</td>\n",
       "      <td>0</td>\n",
       "      <td>0</td>\n",
       "      <td>0</td>\n",
       "      <td>0</td>\n",
       "      <td>Very Cold</td>\n",
       "      <td>Very Cold</td>\n",
       "      <td>High</td>\n",
       "      <td>0</td>\n",
       "      <td>LateNight</td>\n",
       "    </tr>\n",
       "    <tr>\n",
       "      <th>2015-01-01 00:30:00</th>\n",
       "      <td>1</td>\n",
       "      <td>-11.0</td>\n",
       "      <td>85</td>\n",
       "      <td>3.7</td>\n",
       "      <td>0</td>\n",
       "      <td>Variable</td>\n",
       "      <td>1036</td>\n",
       "      <td>4.0</td>\n",
       "      <td>NaN</td>\n",
       "      <td>0</td>\n",
       "      <td>0</td>\n",
       "      <td>0</td>\n",
       "      <td>0</td>\n",
       "      <td>Very Cold</td>\n",
       "      <td>Hot</td>\n",
       "      <td>High</td>\n",
       "      <td>0</td>\n",
       "      <td>LateNight</td>\n",
       "    </tr>\n",
       "    <tr>\n",
       "      <th>2015-01-01 01:00:00</th>\n",
       "      <td>2</td>\n",
       "      <td>-10.0</td>\n",
       "      <td>86</td>\n",
       "      <td>3.7</td>\n",
       "      <td>0</td>\n",
       "      <td>Variable</td>\n",
       "      <td>1036</td>\n",
       "      <td>4.0</td>\n",
       "      <td>NaN</td>\n",
       "      <td>0</td>\n",
       "      <td>0</td>\n",
       "      <td>0</td>\n",
       "      <td>0</td>\n",
       "      <td>Very Cold</td>\n",
       "      <td>Hot</td>\n",
       "      <td>High</td>\n",
       "      <td>1</td>\n",
       "      <td>LateNight</td>\n",
       "    </tr>\n",
       "    <tr>\n",
       "      <th>2015-01-01 01:30:00</th>\n",
       "      <td>3</td>\n",
       "      <td>-10.0</td>\n",
       "      <td>86</td>\n",
       "      <td>0.0</td>\n",
       "      <td>0</td>\n",
       "      <td>North</td>\n",
       "      <td>1036</td>\n",
       "      <td>5.0</td>\n",
       "      <td>NaN</td>\n",
       "      <td>0</td>\n",
       "      <td>0</td>\n",
       "      <td>0</td>\n",
       "      <td>0</td>\n",
       "      <td>Very Cold</td>\n",
       "      <td>Hot</td>\n",
       "      <td>High</td>\n",
       "      <td>1</td>\n",
       "      <td>LateNight</td>\n",
       "    </tr>\n",
       "    <tr>\n",
       "      <th>2015-01-01 02:00:00</th>\n",
       "      <td>4</td>\n",
       "      <td>-9.0</td>\n",
       "      <td>79</td>\n",
       "      <td>0.0</td>\n",
       "      <td>0</td>\n",
       "      <td>North</td>\n",
       "      <td>1036</td>\n",
       "      <td>4.0</td>\n",
       "      <td>NaN</td>\n",
       "      <td>0</td>\n",
       "      <td>0</td>\n",
       "      <td>0</td>\n",
       "      <td>0</td>\n",
       "      <td>Very Cold</td>\n",
       "      <td>Hot</td>\n",
       "      <td>High</td>\n",
       "      <td>2</td>\n",
       "      <td>LateNight</td>\n",
       "    </tr>\n",
       "  </tbody>\n",
       "</table>\n",
       "</div>"
      ],
      "text/plain": [
       "                     index  temperature_C  humidity  windspeed_kph  \\\n",
       "time                                                                 \n",
       "2015-01-01 00:00:00      0          -12.0        85            5.6   \n",
       "2015-01-01 00:30:00      1          -11.0        85            3.7   \n",
       "2015-01-01 01:00:00      2          -10.0        86            3.7   \n",
       "2015-01-01 01:30:00      3          -10.0        86            0.0   \n",
       "2015-01-01 02:00:00      4           -9.0        79            0.0   \n",
       "\n",
       "                     wind_direction_degres wind_direction  pressure_mBar  \\\n",
       "time                                                                       \n",
       "2015-01-01 00:00:00                      0       Variable           1037   \n",
       "2015-01-01 00:30:00                      0       Variable           1036   \n",
       "2015-01-01 01:00:00                      0       Variable           1036   \n",
       "2015-01-01 01:30:00                      0          North           1036   \n",
       "2015-01-01 02:00:00                      0          North           1036   \n",
       "\n",
       "                     visibility_km  wind_chill_C  fog  rain  snow  thunder  \\\n",
       "time                                                                         \n",
       "2015-01-01 00:00:00            5.0         -15.5    0     0     0        0   \n",
       "2015-01-01 00:30:00            4.0           NaN    0     0     0        0   \n",
       "2015-01-01 01:00:00            4.0           NaN    0     0     0        0   \n",
       "2015-01-01 01:30:00            5.0           NaN    0     0     0        0   \n",
       "2015-01-01 02:00:00            4.0           NaN    0     0     0        0   \n",
       "\n",
       "                    temperature_bin wind_chill_bin humidity_bin  hour  \\\n",
       "time                                                                    \n",
       "2015-01-01 00:00:00       Very Cold      Very Cold         High     0   \n",
       "2015-01-01 00:30:00       Very Cold            Hot         High     0   \n",
       "2015-01-01 01:00:00       Very Cold            Hot         High     1   \n",
       "2015-01-01 01:30:00       Very Cold            Hot         High     1   \n",
       "2015-01-01 02:00:00       Very Cold            Hot         High     2   \n",
       "\n",
       "                    time_of_day  \n",
       "time                             \n",
       "2015-01-01 00:00:00   LateNight  \n",
       "2015-01-01 00:30:00   LateNight  \n",
       "2015-01-01 01:00:00   LateNight  \n",
       "2015-01-01 01:30:00   LateNight  \n",
       "2015-01-01 02:00:00   LateNight  "
      ]
     },
     "execution_count": 66,
     "metadata": {},
     "output_type": "execute_result"
    }
   ],
   "source": [
    "df.set_index('time', inplace=True) #setting time as index\n",
    "df.head()"
   ]
  },
  {
   "cell_type": "code",
   "execution_count": 67,
   "id": "e95fa382",
   "metadata": {},
   "outputs": [
    {
     "data": {
      "image/png": "[encoded data removed]",
      "text/plain": [
       "<Figure size 640x480 with 1 Axes>"
      ]
     },
     "metadata": {},
     "output_type": "display_data"
    }
   ],
   "source": [
    "sns.barplot(data=df, x='humidity_bin', y='visibility_km') #bar plot of humidity bins vs visibility\n",
    "plt.show()"
   ]
  },
  {
   "cell_type": "markdown",
   "id": "0f949fa0",
   "metadata": {},
   "source": [
    "As humidity increases, visibility decreases. The effect is particularly strong with very high levels of humidity. This aligns with meteorological intuition that higher moisture in the air (e.g., fog, haze) reduces how far one can see."
   ]
  },
  {
   "cell_type": "code",
   "execution_count": 68,
   "id": "2dbdb239",
   "metadata": {},
   "outputs": [
    {
     "data": {
      "image/png": "[encoded data removed]",
      "text/plain": [
       "<Figure size 640x480 with 1 Axes>"
      ]
     },
     "metadata": {},
     "output_type": "display_data"
    }
   ],
   "source": [
    "sns.barplot(data=df, x='time_of_day', y='visibility_km') #bar plot of time of day vs visibility\n",
    "plt.show()"
   ]
  },
  {
   "cell_type": "markdown",
   "id": "df2e6736",
   "metadata": {},
   "source": [
    "Time of Day also matters: Visibility typically peaks in the afternoon and dips in the morning and night."
   ]
  },
  {
   "cell_type": "code",
   "execution_count": 69,
   "id": "d7f71d36",
   "metadata": {},
   "outputs": [
    {
     "data": {
      "application/vnd.microsoft.datawrangler.viewer.v0+json": {
       "columns": [
        {
         "name": "time",
         "rawType": "datetime64[ns]",
         "type": "datetime"
        },
        {
         "name": "index",
         "rawType": "int64",
         "type": "integer"
        },
        {
         "name": "temperature_C",
         "rawType": "float64",
         "type": "float"
        },
        {
         "name": "humidity",
         "rawType": "int64",
         "type": "integer"
        },
        {
         "name": "windspeed_kph",
         "rawType": "float64",
         "type": "float"
        },
        {
         "name": "wind_direction_degres",
         "rawType": "int64",
         "type": "integer"
        },
        {
         "name": "wind_direction",
         "rawType": "object",
         "type": "string"
        },
        {
         "name": "pressure_mBar",
         "rawType": "int64",
         "type": "integer"
        },
        {
         "name": "visibility_km",
         "rawType": "float64",
         "type": "float"
        },
        {
         "name": "wind_chill_C",
         "rawType": "float64",
         "type": "float"
        },
        {
         "name": "fog",
         "rawType": "int64",
         "type": "integer"
        },
        {
         "name": "rain",
         "rawType": "int64",
         "type": "integer"
        },
        {
         "name": "snow",
         "rawType": "int64",
         "type": "integer"
        },
        {
         "name": "thunder",
         "rawType": "int64",
         "type": "integer"
        },
        {
         "name": "temperature_bin",
         "rawType": "object",
         "type": "string"
        },
        {
         "name": "wind_chill_bin",
         "rawType": "object",
         "type": "string"
        },
        {
         "name": "humidity_bin",
         "rawType": "category",
         "type": "unknown"
        },
        {
         "name": "hour",
         "rawType": "int32",
         "type": "integer"
        },
        {
         "name": "time_of_day",
         "rawType": "object",
         "type": "string"
        }
       ],
       "conversionMethod": "pd.DataFrame",
       "ref": "95219c4c-7de1-4efe-89df-b161955388c3",
       "rows": [
        [
         "2015-01-01 00:00:00",
         "0",
         "-12.0",
         "85",
         "5.6",
         "0",
         "Variable",
         "1037",
         "5.0",
         "-15.5",
         "0",
         "0",
         "0",
         "0",
         "Very Cold",
         "Very Cold",
         "High",
         "0",
         "LateNight"
        ],
        [
         "2015-01-01 00:30:00",
         "1",
         "-11.0",
         "85",
         "3.7",
         "0",
         "Variable",
         "1036",
         "4.0",
         null,
         "0",
         "0",
         "0",
         "0",
         "Very Cold",
         "Hot",
         "High",
         "0",
         "LateNight"
        ],
        [
         "2015-01-01 01:00:00",
         "2",
         "-10.0",
         "86",
         "3.7",
         "0",
         "Variable",
         "1036",
         "4.0",
         null,
         "0",
         "0",
         "0",
         "0",
         "Very Cold",
         "Hot",
         "High",
         "1",
         "LateNight"
        ],
        [
         "2015-01-01 01:30:00",
         "3",
         "-10.0",
         "86",
         "0.0",
         "0",
         "North",
         "1036",
         "5.0",
         null,
         "0",
         "0",
         "0",
         "0",
         "Very Cold",
         "Hot",
         "High",
         "1",
         "LateNight"
        ],
        [
         "2015-01-01 02:00:00",
         "4",
         "-9.0",
         "79",
         "0.0",
         "0",
         "North",
         "1036",
         "4.0",
         null,
         "0",
         "0",
         "0",
         "0",
         "Very Cold",
         "Hot",
         "High",
         "2",
         "LateNight"
        ],
        [
         "2015-01-01 02:30:00",
         "5",
         "-8.0",
         "79",
         "3.7",
         "0",
         "Variable",
         "1036",
         "4.0",
         null,
         "0",
         "0",
         "0",
         "0",
         "Very Cold",
         "Hot",
         "High",
         "2",
         "LateNight"
        ],
        [
         "2015-01-01 03:00:00",
         "6",
         "-7.0",
         "74",
         "9.3",
         "230",
         "SW",
         "1036",
         "5.0",
         "-11.4",
         "0",
         "0",
         "0",
         "0",
         "Very Cold",
         "Very Cold",
         "High",
         "3",
         "LateNight"
        ],
        [
         "2015-01-01 03:30:00",
         "7",
         "-7.0",
         "74",
         "11.1",
         "250",
         "WSW",
         "1036",
         "6.0",
         "-12.0",
         "0",
         "0",
         "0",
         "0",
         "Very Cold",
         "Very Cold",
         "High",
         "3",
         "LateNight"
        ],
        [
         "2015-01-01 04:00:00",
         "8",
         "-7.0",
         "74",
         "11.1",
         "240",
         "WSW",
         "1035",
         "6.0",
         "-12.0",
         "0",
         "0",
         "0",
         "0",
         "Very Cold",
         "Very Cold",
         "High",
         "4",
         "LateNight"
        ],
        [
         "2015-01-01 04:30:00",
         "9",
         "-7.0",
         "74",
         "11.1",
         "220",
         "SW",
         "1035",
         "8.0",
         "-12.0",
         "0",
         "0",
         "0",
         "0",
         "Very Cold",
         "Very Cold",
         "High",
         "4",
         "LateNight"
        ]
       ],
       "shape": {
        "columns": 18,
        "rows": 10
       }
      },
      "text/html": [
       "<div>\n",
       "<style scoped>\n",
       "    .dataframe tbody tr th:only-of-type {\n",
       "        vertical-align: middle;\n",
       "    }\n",
       "\n",
       "    .dataframe tbody tr th {\n",
       "        vertical-align: top;\n",
       "    }\n",
       "\n",
       "    .dataframe thead th {\n",
       "        text-align: right;\n",
       "    }\n",
       "</style>\n",
       "<table border=\"1\" class=\"dataframe\">\n",
       "  <thead>\n",
       "    <tr style=\"text-align: right;\">\n",
       "      <th></th>\n",
       "      <th>index</th>\n",
       "      <th>temperature_C</th>\n",
       "      <th>humidity</th>\n",
       "      <th>windspeed_kph</th>\n",
       "      <th>wind_direction_degres</th>\n",
       "      <th>wind_direction</th>\n",
       "      <th>pressure_mBar</th>\n",
       "      <th>visibility_km</th>\n",
       "      <th>wind_chill_C</th>\n",
       "      <th>fog</th>\n",
       "      <th>rain</th>\n",
       "      <th>snow</th>\n",
       "      <th>thunder</th>\n",
       "      <th>temperature_bin</th>\n",
       "      <th>wind_chill_bin</th>\n",
       "      <th>humidity_bin</th>\n",
       "      <th>hour</th>\n",
       "      <th>time_of_day</th>\n",
       "    </tr>\n",
       "    <tr>\n",
       "      <th>time</th>\n",
       "      <th></th>\n",
       "      <th></th>\n",
       "      <th></th>\n",
       "      <th></th>\n",
       "      <th></th>\n",
       "      <th></th>\n",
       "      <th></th>\n",
       "      <th></th>\n",
       "      <th></th>\n",
       "      <th></th>\n",
       "      <th></th>\n",
       "      <th></th>\n",
       "      <th></th>\n",
       "      <th></th>\n",
       "      <th></th>\n",
       "      <th></th>\n",
       "      <th></th>\n",
       "      <th></th>\n",
       "    </tr>\n",
       "  </thead>\n",
       "  <tbody>\n",
       "    <tr>\n",
       "      <th>2015-01-01 00:00:00</th>\n",
       "      <td>0</td>\n",
       "      <td>-12.0</td>\n",
       "      <td>85</td>\n",
       "      <td>5.6</td>\n",
       "      <td>0</td>\n",
       "      <td>Variable</td>\n",
       "      <td>1037</td>\n",
       "      <td>5.0</td>\n",
       "      <td>-15.5</td>\n",
       "      <td>0</td>\n",
       "      <td>0</td>\n",
       "      <td>0</td>\n",
       "      <td>0</td>\n",
       "      <td>Very Cold</td>\n",
       "      <td>Very Cold</td>\n",
       "      <td>High</td>\n",
       "      <td>0</td>\n",
       "      <td>LateNight</td>\n",
       "    </tr>\n",
       "    <tr>\n",
       "      <th>2015-01-01 00:30:00</th>\n",
       "      <td>1</td>\n",
       "      <td>-11.0</td>\n",
       "      <td>85</td>\n",
       "      <td>3.7</td>\n",
       "      <td>0</td>\n",
       "      <td>Variable</td>\n",
       "      <td>1036</td>\n",
       "      <td>4.0</td>\n",
       "      <td>NaN</td>\n",
       "      <td>0</td>\n",
       "      <td>0</td>\n",
       "      <td>0</td>\n",
       "      <td>0</td>\n",
       "      <td>Very Cold</td>\n",
       "      <td>Hot</td>\n",
       "      <td>High</td>\n",
       "      <td>0</td>\n",
       "      <td>LateNight</td>\n",
       "    </tr>\n",
       "    <tr>\n",
       "      <th>2015-01-01 01:00:00</th>\n",
       "      <td>2</td>\n",
       "      <td>-10.0</td>\n",
       "      <td>86</td>\n",
       "      <td>3.7</td>\n",
       "      <td>0</td>\n",
       "      <td>Variable</td>\n",
       "      <td>1036</td>\n",
       "      <td>4.0</td>\n",
       "      <td>NaN</td>\n",
       "      <td>0</td>\n",
       "      <td>0</td>\n",
       "      <td>0</td>\n",
       "      <td>0</td>\n",
       "      <td>Very Cold</td>\n",
       "      <td>Hot</td>\n",
       "      <td>High</td>\n",
       "      <td>1</td>\n",
       "      <td>LateNight</td>\n",
       "    </tr>\n",
       "    <tr>\n",
       "      <th>2015-01-01 01:30:00</th>\n",
       "      <td>3</td>\n",
       "      <td>-10.0</td>\n",
       "      <td>86</td>\n",
       "      <td>0.0</td>\n",
       "      <td>0</td>\n",
       "      <td>North</td>\n",
       "      <td>1036</td>\n",
       "      <td>5.0</td>\n",
       "      <td>NaN</td>\n",
       "      <td>0</td>\n",
       "      <td>0</td>\n",
       "      <td>0</td>\n",
       "      <td>0</td>\n",
       "      <td>Very Cold</td>\n",
       "      <td>Hot</td>\n",
       "      <td>High</td>\n",
       "      <td>1</td>\n",
       "      <td>LateNight</td>\n",
       "    </tr>\n",
       "    <tr>\n",
       "      <th>2015-01-01 02:00:00</th>\n",
       "      <td>4</td>\n",
       "      <td>-9.0</td>\n",
       "      <td>79</td>\n",
       "      <td>0.0</td>\n",
       "      <td>0</td>\n",
       "      <td>North</td>\n",
       "      <td>1036</td>\n",
       "      <td>4.0</td>\n",
       "      <td>NaN</td>\n",
       "      <td>0</td>\n",
       "      <td>0</td>\n",
       "      <td>0</td>\n",
       "      <td>0</td>\n",
       "      <td>Very Cold</td>\n",
       "      <td>Hot</td>\n",
       "      <td>High</td>\n",
       "      <td>2</td>\n",
       "      <td>LateNight</td>\n",
       "    </tr>\n",
       "    <tr>\n",
       "      <th>2015-01-01 02:30:00</th>\n",
       "      <td>5</td>\n",
       "      <td>-8.0</td>\n",
       "      <td>79</td>\n",
       "      <td>3.7</td>\n",
       "      <td>0</td>\n",
       "      <td>Variable</td>\n",
       "      <td>1036</td>\n",
       "      <td>4.0</td>\n",
       "      <td>NaN</td>\n",
       "      <td>0</td>\n",
       "      <td>0</td>\n",
       "      <td>0</td>\n",
       "      <td>0</td>\n",
       "      <td>Very Cold</td>\n",
       "      <td>Hot</td>\n",
       "      <td>High</td>\n",
       "      <td>2</td>\n",
       "      <td>LateNight</td>\n",
       "    </tr>\n",
       "    <tr>\n",
       "      <th>2015-01-01 03:00:00</th>\n",
       "      <td>6</td>\n",
       "      <td>-7.0</td>\n",
       "      <td>74</td>\n",
       "      <td>9.3</td>\n",
       "      <td>230</td>\n",
       "      <td>SW</td>\n",
       "      <td>1036</td>\n",
       "      <td>5.0</td>\n",
       "      <td>-11.4</td>\n",
       "      <td>0</td>\n",
       "      <td>0</td>\n",
       "      <td>0</td>\n",
       "      <td>0</td>\n",
       "      <td>Very Cold</td>\n",
       "      <td>Very Cold</td>\n",
       "      <td>High</td>\n",
       "      <td>3</td>\n",
       "      <td>LateNight</td>\n",
       "    </tr>\n",
       "    <tr>\n",
       "      <th>2015-01-01 03:30:00</th>\n",
       "      <td>7</td>\n",
       "      <td>-7.0</td>\n",
       "      <td>74</td>\n",
       "      <td>11.1</td>\n",
       "      <td>250</td>\n",
       "      <td>WSW</td>\n",
       "      <td>1036</td>\n",
       "      <td>6.0</td>\n",
       "      <td>-12.0</td>\n",
       "      <td>0</td>\n",
       "      <td>0</td>\n",
       "      <td>0</td>\n",
       "      <td>0</td>\n",
       "      <td>Very Cold</td>\n",
       "      <td>Very Cold</td>\n",
       "      <td>High</td>\n",
       "      <td>3</td>\n",
       "      <td>LateNight</td>\n",
       "    </tr>\n",
       "    <tr>\n",
       "      <th>2015-01-01 04:00:00</th>\n",
       "      <td>8</td>\n",
       "      <td>-7.0</td>\n",
       "      <td>74</td>\n",
       "      <td>11.1</td>\n",
       "      <td>240</td>\n",
       "      <td>WSW</td>\n",
       "      <td>1035</td>\n",
       "      <td>6.0</td>\n",
       "      <td>-12.0</td>\n",
       "      <td>0</td>\n",
       "      <td>0</td>\n",
       "      <td>0</td>\n",
       "      <td>0</td>\n",
       "      <td>Very Cold</td>\n",
       "      <td>Very Cold</td>\n",
       "      <td>High</td>\n",
       "      <td>4</td>\n",
       "      <td>LateNight</td>\n",
       "    </tr>\n",
       "    <tr>\n",
       "      <th>2015-01-01 04:30:00</th>\n",
       "      <td>9</td>\n",
       "      <td>-7.0</td>\n",
       "      <td>74</td>\n",
       "      <td>11.1</td>\n",
       "      <td>220</td>\n",
       "      <td>SW</td>\n",
       "      <td>1035</td>\n",
       "      <td>8.0</td>\n",
       "      <td>-12.0</td>\n",
       "      <td>0</td>\n",
       "      <td>0</td>\n",
       "      <td>0</td>\n",
       "      <td>0</td>\n",
       "      <td>Very Cold</td>\n",
       "      <td>Very Cold</td>\n",
       "      <td>High</td>\n",
       "      <td>4</td>\n",
       "      <td>LateNight</td>\n",
       "    </tr>\n",
       "  </tbody>\n",
       "</table>\n",
       "</div>"
      ],
      "text/plain": [
       "                     index  temperature_C  humidity  windspeed_kph  \\\n",
       "time                                                                 \n",
       "2015-01-01 00:00:00      0          -12.0        85            5.6   \n",
       "2015-01-01 00:30:00      1          -11.0        85            3.7   \n",
       "2015-01-01 01:00:00      2          -10.0        86            3.7   \n",
       "2015-01-01 01:30:00      3          -10.0        86            0.0   \n",
       "2015-01-01 02:00:00      4           -9.0        79            0.0   \n",
       "2015-01-01 02:30:00      5           -8.0        79            3.7   \n",
       "2015-01-01 03:00:00      6           -7.0        74            9.3   \n",
       "2015-01-01 03:30:00      7           -7.0        74           11.1   \n",
       "2015-01-01 04:00:00      8           -7.0        74           11.1   \n",
       "2015-01-01 04:30:00      9           -7.0        74           11.1   \n",
       "\n",
       "                     wind_direction_degres wind_direction  pressure_mBar  \\\n",
       "time                                                                       \n",
       "2015-01-01 00:00:00                      0       Variable           1037   \n",
       "2015-01-01 00:30:00                      0       Variable           1036   \n",
       "2015-01-01 01:00:00                      0       Variable           1036   \n",
       "2015-01-01 01:30:00                      0          North           1036   \n",
       "2015-01-01 02:00:00                      0          North           1036   \n",
       "2015-01-01 02:30:00                      0       Variable           1036   \n",
       "2015-01-01 03:00:00                    230             SW           1036   \n",
       "2015-01-01 03:30:00                    250            WSW           1036   \n",
       "2015-01-01 04:00:00                    240            WSW           1035   \n",
       "2015-01-01 04:30:00                    220             SW           1035   \n",
       "\n",
       "                     visibility_km  wind_chill_C  fog  rain  snow  thunder  \\\n",
       "time                                                                         \n",
       "2015-01-01 00:00:00            5.0         -15.5    0     0     0        0   \n",
       "2015-01-01 00:30:00            4.0           NaN    0     0     0        0   \n",
       "2015-01-01 01:00:00            4.0           NaN    0     0     0        0   \n",
       "2015-01-01 01:30:00            5.0           NaN    0     0     0        0   \n",
       "2015-01-01 02:00:00            4.0           NaN    0     0     0        0   \n",
       "2015-01-01 02:30:00            4.0           NaN    0     0     0        0   \n",
       "2015-01-01 03:00:00            5.0         -11.4    0     0     0        0   \n",
       "2015-01-01 03:30:00            6.0         -12.0    0     0     0        0   \n",
       "2015-01-01 04:00:00            6.0         -12.0    0     0     0        0   \n",
       "2015-01-01 04:30:00            8.0         -12.0    0     0     0        0   \n",
       "\n",
       "                    temperature_bin wind_chill_bin humidity_bin  hour  \\\n",
       "time                                                                    \n",
       "2015-01-01 00:00:00       Very Cold      Very Cold         High     0   \n",
       "2015-01-01 00:30:00       Very Cold            Hot         High     0   \n",
       "2015-01-01 01:00:00       Very Cold            Hot         High     1   \n",
       "2015-01-01 01:30:00       Very Cold            Hot         High     1   \n",
       "2015-01-01 02:00:00       Very Cold            Hot         High     2   \n",
       "2015-01-01 02:30:00       Very Cold            Hot         High     2   \n",
       "2015-01-01 03:00:00       Very Cold      Very Cold         High     3   \n",
       "2015-01-01 03:30:00       Very Cold      Very Cold         High     3   \n",
       "2015-01-01 04:00:00       Very Cold      Very Cold         High     4   \n",
       "2015-01-01 04:30:00       Very Cold      Very Cold         High     4   \n",
       "\n",
       "                    time_of_day  \n",
       "time                             \n",
       "2015-01-01 00:00:00   LateNight  \n",
       "2015-01-01 00:30:00   LateNight  \n",
       "2015-01-01 01:00:00   LateNight  \n",
       "2015-01-01 01:30:00   LateNight  \n",
       "2015-01-01 02:00:00   LateNight  \n",
       "2015-01-01 02:30:00   LateNight  \n",
       "2015-01-01 03:00:00   LateNight  \n",
       "2015-01-01 03:30:00   LateNight  \n",
       "2015-01-01 04:00:00   LateNight  \n",
       "2015-01-01 04:30:00   LateNight  "
      ]
     },
     "execution_count": 69,
     "metadata": {},
     "output_type": "execute_result"
    }
   ],
   "source": [
    "df.head(10)"
   ]
  },
  {
   "cell_type": "code",
   "execution_count": 70,
   "id": "69c4580c",
   "metadata": {},
   "outputs": [],
   "source": [
    "import calendar\n",
    "\n",
    "# Extract the month from the DatetimeIndex and create a new column 'month'\n",
    "df['month'] = df.index.month\n",
    "\n",
    "# Convert the month number to its abbreviated name\n",
    "df['month_str'] = df['month'].apply(lambda x: calendar.month_abbr[x])"
   ]
  },
  {
   "cell_type": "code",
   "execution_count": 71,
   "id": "d6379905",
   "metadata": {},
   "outputs": [
    {
     "data": {
      "application/vnd.microsoft.datawrangler.viewer.v0+json": {
       "columns": [
        {
         "name": "index",
         "rawType": "int64",
         "type": "integer"
        },
        {
         "name": "time",
         "rawType": "datetime64[ns]",
         "type": "datetime"
        },
        {
         "name": "index",
         "rawType": "int64",
         "type": "integer"
        },
        {
         "name": "temperature_C",
         "rawType": "float64",
         "type": "float"
        },
        {
         "name": "humidity",
         "rawType": "int64",
         "type": "integer"
        },
        {
         "name": "windspeed_kph",
         "rawType": "float64",
         "type": "float"
        },
        {
         "name": "wind_direction_degres",
         "rawType": "int64",
         "type": "integer"
        },
        {
         "name": "wind_direction",
         "rawType": "object",
         "type": "string"
        },
        {
         "name": "pressure_mBar",
         "rawType": "int64",
         "type": "integer"
        },
        {
         "name": "visibility_km",
         "rawType": "float64",
         "type": "float"
        },
        {
         "name": "wind_chill_C",
         "rawType": "float64",
         "type": "float"
        },
        {
         "name": "fog",
         "rawType": "int64",
         "type": "integer"
        },
        {
         "name": "rain",
         "rawType": "int64",
         "type": "integer"
        },
        {
         "name": "snow",
         "rawType": "int64",
         "type": "integer"
        },
        {
         "name": "thunder",
         "rawType": "int64",
         "type": "integer"
        },
        {
         "name": "temperature_bin",
         "rawType": "object",
         "type": "string"
        },
        {
         "name": "wind_chill_bin",
         "rawType": "object",
         "type": "string"
        },
        {
         "name": "humidity_bin",
         "rawType": "category",
         "type": "unknown"
        },
        {
         "name": "hour",
         "rawType": "int32",
         "type": "integer"
        },
        {
         "name": "time_of_day",
         "rawType": "object",
         "type": "string"
        },
        {
         "name": "month",
         "rawType": "int32",
         "type": "integer"
        },
        {
         "name": "month_str",
         "rawType": "object",
         "type": "string"
        }
       ],
       "conversionMethod": "pd.DataFrame",
       "ref": "3937043e-7ff3-44b3-87b9-37f51c8284fe",
       "rows": [
        [
         "0",
         "2015-01-01 00:00:00",
         "0",
         "-12.0",
         "85",
         "5.6",
         "0",
         "Variable",
         "1037",
         "5.0",
         "-15.5",
         "0",
         "0",
         "0",
         "0",
         "Very Cold",
         "Very Cold",
         "High",
         "0",
         "LateNight",
         "1",
         "Jan"
        ],
        [
         "1",
         "2015-01-01 00:30:00",
         "1",
         "-11.0",
         "85",
         "3.7",
         "0",
         "Variable",
         "1036",
         "4.0",
         null,
         "0",
         "0",
         "0",
         "0",
         "Very Cold",
         "Hot",
         "High",
         "0",
         "LateNight",
         "1",
         "Jan"
        ],
        [
         "2",
         "2015-01-01 01:00:00",
         "2",
         "-10.0",
         "86",
         "3.7",
         "0",
         "Variable",
         "1036",
         "4.0",
         null,
         "0",
         "0",
         "0",
         "0",
         "Very Cold",
         "Hot",
         "High",
         "1",
         "LateNight",
         "1",
         "Jan"
        ],
        [
         "3",
         "2015-01-01 01:30:00",
         "3",
         "-10.0",
         "86",
         "0.0",
         "0",
         "North",
         "1036",
         "5.0",
         null,
         "0",
         "0",
         "0",
         "0",
         "Very Cold",
         "Hot",
         "High",
         "1",
         "LateNight",
         "1",
         "Jan"
        ],
        [
         "4",
         "2015-01-01 02:00:00",
         "4",
         "-9.0",
         "79",
         "0.0",
         "0",
         "North",
         "1036",
         "4.0",
         null,
         "0",
         "0",
         "0",
         "0",
         "Very Cold",
         "Hot",
         "High",
         "2",
         "LateNight",
         "1",
         "Jan"
        ]
       ],
       "shape": {
        "columns": 21,
        "rows": 5
       }
      },
      "text/html": [
       "<div>\n",
       "<style scoped>\n",
       "    .dataframe tbody tr th:only-of-type {\n",
       "        vertical-align: middle;\n",
       "    }\n",
       "\n",
       "    .dataframe tbody tr th {\n",
       "        vertical-align: top;\n",
       "    }\n",
       "\n",
       "    .dataframe thead th {\n",
       "        text-align: right;\n",
       "    }\n",
       "</style>\n",
       "<table border=\"1\" class=\"dataframe\">\n",
       "  <thead>\n",
       "    <tr style=\"text-align: right;\">\n",
       "      <th></th>\n",
       "      <th>time</th>\n",
       "      <th>index</th>\n",
       "      <th>temperature_C</th>\n",
       "      <th>humidity</th>\n",
       "      <th>windspeed_kph</th>\n",
       "      <th>wind_direction_degres</th>\n",
       "      <th>wind_direction</th>\n",
       "      <th>pressure_mBar</th>\n",
       "      <th>visibility_km</th>\n",
       "      <th>wind_chill_C</th>\n",
       "      <th>...</th>\n",
       "      <th>rain</th>\n",
       "      <th>snow</th>\n",
       "      <th>thunder</th>\n",
       "      <th>temperature_bin</th>\n",
       "      <th>wind_chill_bin</th>\n",
       "      <th>humidity_bin</th>\n",
       "      <th>hour</th>\n",
       "      <th>time_of_day</th>\n",
       "      <th>month</th>\n",
       "      <th>month_str</th>\n",
       "    </tr>\n",
       "  </thead>\n",
       "  <tbody>\n",
       "    <tr>\n",
       "      <th>0</th>\n",
       "      <td>2015-01-01 00:00:00</td>\n",
       "      <td>0</td>\n",
       "      <td>-12.0</td>\n",
       "      <td>85</td>\n",
       "      <td>5.6</td>\n",
       "      <td>0</td>\n",
       "      <td>Variable</td>\n",
       "      <td>1037</td>\n",
       "      <td>5.0</td>\n",
       "      <td>-15.5</td>\n",
       "      <td>...</td>\n",
       "      <td>0</td>\n",
       "      <td>0</td>\n",
       "      <td>0</td>\n",
       "      <td>Very Cold</td>\n",
       "      <td>Very Cold</td>\n",
       "      <td>High</td>\n",
       "      <td>0</td>\n",
       "      <td>LateNight</td>\n",
       "      <td>1</td>\n",
       "      <td>Jan</td>\n",
       "    </tr>\n",
       "    <tr>\n",
       "      <th>1</th>\n",
       "      <td>2015-01-01 00:30:00</td>\n",
       "      <td>1</td>\n",
       "      <td>-11.0</td>\n",
       "      <td>85</td>\n",
       "      <td>3.7</td>\n",
       "      <td>0</td>\n",
       "      <td>Variable</td>\n",
       "      <td>1036</td>\n",
       "      <td>4.0</td>\n",
       "      <td>NaN</td>\n",
       "      <td>...</td>\n",
       "      <td>0</td>\n",
       "      <td>0</td>\n",
       "      <td>0</td>\n",
       "      <td>Very Cold</td>\n",
       "      <td>Hot</td>\n",
       "      <td>High</td>\n",
       "      <td>0</td>\n",
       "      <td>LateNight</td>\n",
       "      <td>1</td>\n",
       "      <td>Jan</td>\n",
       "    </tr>\n",
       "    <tr>\n",
       "      <th>2</th>\n",
       "      <td>2015-01-01 01:00:00</td>\n",
       "      <td>2</td>\n",
       "      <td>-10.0</td>\n",
       "      <td>86</td>\n",
       "      <td>3.7</td>\n",
       "      <td>0</td>\n",
       "      <td>Variable</td>\n",
       "      <td>1036</td>\n",
       "      <td>4.0</td>\n",
       "      <td>NaN</td>\n",
       "      <td>...</td>\n",
       "      <td>0</td>\n",
       "      <td>0</td>\n",
       "      <td>0</td>\n",
       "      <td>Very Cold</td>\n",
       "      <td>Hot</td>\n",
       "      <td>High</td>\n",
       "      <td>1</td>\n",
       "      <td>LateNight</td>\n",
       "      <td>1</td>\n",
       "      <td>Jan</td>\n",
       "    </tr>\n",
       "    <tr>\n",
       "      <th>3</th>\n",
       "      <td>2015-01-01 01:30:00</td>\n",
       "      <td>3</td>\n",
       "      <td>-10.0</td>\n",
       "      <td>86</td>\n",
       "      <td>0.0</td>\n",
       "      <td>0</td>\n",
       "      <td>North</td>\n",
       "      <td>1036</td>\n",
       "      <td>5.0</td>\n",
       "      <td>NaN</td>\n",
       "      <td>...</td>\n",
       "      <td>0</td>\n",
       "      <td>0</td>\n",
       "      <td>0</td>\n",
       "      <td>Very Cold</td>\n",
       "      <td>Hot</td>\n",
       "      <td>High</td>\n",
       "      <td>1</td>\n",
       "      <td>LateNight</td>\n",
       "      <td>1</td>\n",
       "      <td>Jan</td>\n",
       "    </tr>\n",
       "    <tr>\n",
       "      <th>4</th>\n",
       "      <td>2015-01-01 02:00:00</td>\n",
       "      <td>4</td>\n",
       "      <td>-9.0</td>\n",
       "      <td>79</td>\n",
       "      <td>0.0</td>\n",
       "      <td>0</td>\n",
       "      <td>North</td>\n",
       "      <td>1036</td>\n",
       "      <td>4.0</td>\n",
       "      <td>NaN</td>\n",
       "      <td>...</td>\n",
       "      <td>0</td>\n",
       "      <td>0</td>\n",
       "      <td>0</td>\n",
       "      <td>Very Cold</td>\n",
       "      <td>Hot</td>\n",
       "      <td>High</td>\n",
       "      <td>2</td>\n",
       "      <td>LateNight</td>\n",
       "      <td>1</td>\n",
       "      <td>Jan</td>\n",
       "    </tr>\n",
       "  </tbody>\n",
       "</table>\n",
       "<p>5 rows × 21 columns</p>\n",
       "</div>"
      ],
      "text/plain": [
       "                 time  index  temperature_C  humidity  windspeed_kph  \\\n",
       "0 2015-01-01 00:00:00      0          -12.0        85            5.6   \n",
       "1 2015-01-01 00:30:00      1          -11.0        85            3.7   \n",
       "2 2015-01-01 01:00:00      2          -10.0        86            3.7   \n",
       "3 2015-01-01 01:30:00      3          -10.0        86            0.0   \n",
       "4 2015-01-01 02:00:00      4           -9.0        79            0.0   \n",
       "\n",
       "   wind_direction_degres wind_direction  pressure_mBar  visibility_km  \\\n",
       "0                      0       Variable           1037            5.0   \n",
       "1                      0       Variable           1036            4.0   \n",
       "2                      0       Variable           1036            4.0   \n",
       "3                      0          North           1036            5.0   \n",
       "4                      0          North           1036            4.0   \n",
       "\n",
       "   wind_chill_C  ...  rain  snow  thunder  temperature_bin wind_chill_bin  \\\n",
       "0         -15.5  ...     0     0        0        Very Cold      Very Cold   \n",
       "1           NaN  ...     0     0        0        Very Cold            Hot   \n",
       "2           NaN  ...     0     0        0        Very Cold            Hot   \n",
       "3           NaN  ...     0     0        0        Very Cold            Hot   \n",
       "4           NaN  ...     0     0        0        Very Cold            Hot   \n",
       "\n",
       "  humidity_bin hour  time_of_day month  month_str  \n",
       "0         High    0    LateNight     1        Jan  \n",
       "1         High    0    LateNight     1        Jan  \n",
       "2         High    1    LateNight     1        Jan  \n",
       "3         High    1    LateNight     1        Jan  \n",
       "4         High    2    LateNight     1        Jan  \n",
       "\n",
       "[5 rows x 21 columns]"
      ]
     },
     "execution_count": 71,
     "metadata": {},
     "output_type": "execute_result"
    }
   ],
   "source": [
    "weather_df = df.copy() #creating a copy of the dataframe\n",
    "weather_df.reset_index(inplace=True) #resetting the index of the dataframe\n",
    "weather_df.head() #first 5 rows of the dataframe"
   ]
  },
  {
   "cell_type": "markdown",
   "id": "75dcb147",
   "metadata": {},
   "source": [
    "Given the binary variables distribution, we know these are relatively rare events. we can combine these rare binary weather indicators into a single composite variable to improve sample sizes and provide a clearer picture of how severe weather conditions influence bike trips."
   ]
  },
  {
   "cell_type": "code",
   "execution_count": 72,
   "id": "af12a916",
   "metadata": {},
   "outputs": [
    {
     "data": {
      "text/plain": [
       "bad_weather\n",
       "0    0.898134\n",
       "1    0.101866\n",
       "Name: proportion, dtype: float64"
      ]
     },
     "execution_count": 72,
     "metadata": {},
     "output_type": "execute_result"
    }
   ],
   "source": [
    "#creating baweather_d weather anweather_d severe weather columns    \n",
    "weather_df['bad_weather'] = ((weather_df['rain'] == 1) | (weather_df['fog'] == 1)).astype(int)\n",
    "# Create a composite severe weather inweather_dicator\n",
    "weather_df['severe_weather'] = (\n",
    "    ((weather_df['snow'] == 1) | (weather_df['thunder'] == 1)) | \n",
    "    ((weather_df['rain'] + weather_df['fog'] + weather_df['snow'] + weather_df['thunder']) > 1)\n",
    ").astype(int)\n",
    "\n",
    "weather_df['bad_weather'].value_counts(normalize=True) #value counts of severe weather column"
   ]
  },
  {
   "cell_type": "code",
   "execution_count": 73,
   "id": "34965e45",
   "metadata": {},
   "outputs": [
    {
     "data": {
      "text/plain": [
       "severe_weather\n",
       "0    0.976503\n",
       "1    0.023497\n",
       "Name: proportion, dtype: float64"
      ]
     },
     "execution_count": 73,
     "metadata": {},
     "output_type": "execute_result"
    }
   ],
   "source": [
    "weather_df['severe_weather'].value_counts(normalize=True) #value counts of bad weather column"
   ]
  },
  {
   "cell_type": "code",
   "execution_count": 74,
   "id": "00a65069",
   "metadata": {},
   "outputs": [],
   "source": [
    "#saving the cleaned dataframe to a csv file\n",
    "weather_df.to_csv('cleaned_weather_data.csv', index=False)  "
   ]
  },
  {
   "cell_type": "code",
   "execution_count": 75,
   "id": "9666fb6f",
   "metadata": {},
   "outputs": [
    {
     "data": {
      "text/plain": [
       "0"
      ]
     },
     "execution_count": 75,
     "metadata": {},
     "output_type": "execute_result"
    }
   ],
   "source": [
    "weather_df['visibility_km'].isnull().sum() #checking for null values in visibility column"
   ]
  }
 ],
 "metadata": {
  "kernelspec": {
   "display_name": "Python 3",
   "language": "python",
   "name": "python3"
  },
  "language_info": {
   "codemirror_mode": {
    "name": "ipython",
    "version": 3
   },
   "file_extension": ".py",
   "mimetype": "text/x-python",
   "name": "python",
   "nbconvert_exporter": "python",
   "pygments_lexer": "ipython3",
   "version": "3.12.10"
  }
 },
 "nbformat": 4,
 "nbformat_minor": 5
}
